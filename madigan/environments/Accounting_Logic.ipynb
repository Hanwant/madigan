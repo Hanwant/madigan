{
 "cells": [
  {
   "cell_type": "markdown",
   "metadata": {},
   "source": [
    "# Accounting Logic"
   ]
  },
  {
   "cell_type": "raw",
   "metadata": {},
   "source": [
    "Variables to establish relationships for:\n",
    "cash\n",
    "assets\n",
    "equity\n",
    "pnl\n",
    "borrowed cash/equity - levarage/shorting\n",
    "availableMargin\n",
    "usedMargin\n",
    "totalMargin\n",
    "Levarage is treated as a specification of margin"
   ]
  },
  {
   "cell_type": "code",
   "execution_count": 78,
   "metadata": {},
   "outputs": [],
   "source": [
    "import random\n",
    "import numpy as np\n",
    "\n",
    "random.seed(0)"
   ]
  },
  {
   "cell_type": "code",
   "execution_count": 79,
   "metadata": {},
   "outputs": [],
   "source": [
    "assets = ['asset1', 'asset2']\n",
    "data_source = (lambda assets: ({asset: random.random() for asset in assets} for i in range(1000000)))(assets)"
   ]
  },
  {
   "cell_type": "code",
   "execution_count": 80,
   "metadata": {},
   "outputs": [
    {
     "name": "stdout",
     "output_type": "stream",
     "text": [
      "current_prices:  {'asset1': 0.8444218515250481, 'asset2': 0.7579544029403025}\n"
     ]
    }
   ],
   "source": [
    "global current_prices \n",
    "current_prices = next(data_source)\n",
    "print('current_prices: ', current_prices)"
   ]
  },
  {
   "cell_type": "code",
   "execution_count": 234,
   "metadata": {},
   "outputs": [],
   "source": [
    "class Portfolio:\n",
    "    def __init__(self, assets: list, init_cash=1_000_000, acc_type=\"cash\", init_margin=1.0):\n",
    "        self.ledger = {asset: 0. for asset in assets}\n",
    "        self.init_cash = init_cash\n",
    "        self.type = acc_type\n",
    "        \n",
    "        self._cash = init_cash\n",
    "        self.initial_margin = init_margin\n",
    "        self._used_margin = 0.\n",
    "        self._borrowed_cash = 0.\n",
    "        self._available_margin = init_cash\n",
    "        \n",
    "    def __repr__(self):\n",
    "        return f'cash: {self._cash} \\nequity: {self.equity} \\nledger: {str(self.ledger)}'\n",
    "    \n",
    "    @property\n",
    "    def equity(self):\n",
    "        return self._cash + sum((current_prices[k]*v for k, v in self.ledger.items())) - self._borrowed_cash\n",
    "    \n",
    "    @property\n",
    "    def cash(self):\n",
    "        return self._cash - self._borrowed_cash\n",
    "    \n",
    "    @property\n",
    "    def purchasing_power(self):\n",
    "        return self._cash / self.initial_margin\n",
    "\n",
    "    def transaction_cash(self, asset_name, units):\n",
    "        amount = current_prices[asset_name] * units\n",
    "        self._cash -= amount\n",
    "        self.ledger[asset_name] += units\n",
    "    \n",
    "    def transaction_margin(self, asset_name, units):\n",
    "        amount = current_prices[asset_name] * units\n",
    "        used_margin = amount * self.initial_margin\n",
    "        self._borrowed_cash += amount * (1-self.initial_margin)\n",
    "        self._cash -= used_margin\n",
    "        self.ledger[asset_name] += units\n",
    "        \n",
    "    def order(self, asset_name: str, units: float):\n",
    "        if self.type == \"cash\":\n",
    "            self.transaction_cash(asset_name, units)\n",
    "        elif self.type == \"margin\":\n",
    "            self.transaction_margin(asset_name, units)\n",
    "        return self"
   ]
  },
  {
   "cell_type": "code",
   "execution_count": 235,
   "metadata": {},
   "outputs": [],
   "source": [
    "port = Portfolio(assets, acc_type=\"margin\", init_margin=0.2)"
   ]
  },
  {
   "cell_type": "code",
   "execution_count": 241,
   "metadata": {},
   "outputs": [
    {
     "data": {
      "text/plain": [
       "cash: 1000000.0 \n",
       "equity: 1000000.0 \n",
       "ledger: {'asset1': 0.0, 'asset2': 0.0}"
      ]
     },
     "execution_count": 241,
     "metadata": {},
     "output_type": "execute_result"
    }
   ],
   "source": [
    "port.order('asset1', 10000)"
   ]
  },
  {
   "cell_type": "code",
   "execution_count": null,
   "metadata": {},
   "outputs": [],
   "source": []
  },
  {
   "cell_type": "code",
   "execution_count": null,
   "metadata": {},
   "outputs": [],
   "source": []
  },
  {
   "cell_type": "code",
   "execution_count": null,
   "metadata": {},
   "outputs": [],
   "source": []
  },
  {
   "cell_type": "code",
   "execution_count": null,
   "metadata": {},
   "outputs": [],
   "source": []
  },
  {
   "cell_type": "code",
   "execution_count": null,
   "metadata": {},
   "outputs": [],
   "source": []
  },
  {
   "cell_type": "code",
   "execution_count": null,
   "metadata": {},
   "outputs": [],
   "source": []
  }
 ],
 "metadata": {
  "kernelspec": {
   "display_name": "Python 3",
   "language": "python",
   "name": "python3"
  },
  "language_info": {
   "codemirror_mode": {
    "name": "ipython",
    "version": 3
   },
   "file_extension": ".py",
   "mimetype": "text/x-python",
   "name": "python",
   "nbconvert_exporter": "python",
   "pygments_lexer": "ipython3",
   "version": "3.7.7"
  }
 },
 "nbformat": 4,
 "nbformat_minor": 4
}
