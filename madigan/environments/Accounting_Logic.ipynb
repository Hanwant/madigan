{
 "cells": [
  {
   "cell_type": "markdown",
   "metadata": {},
   "source": [
    "# Accounting Logic"
   ]
  },
  {
   "cell_type": "raw",
   "metadata": {},
   "source": [
    "Variables to establish relationships for:\n",
    "cash\n",
    "assets\n",
    "equity\n",
    "pnl\n",
    "borrowed cash/equity - levarage/shorting\n",
    "availableMargin\n",
    "usedMargin\n",
    "totalMargin\n",
    "Levarage is treated as a specification of margin"
   ]
  },
  {
   "cell_type": "code",
   "execution_count": 1,
   "metadata": {},
   "outputs": [],
   "source": [
    "import random\n",
    "\n",
    "random.seed(0)"
   ]
  },
  {
   "cell_type": "code",
   "execution_count": 2,
   "metadata": {},
   "outputs": [
    {
     "name": "stdout",
     "output_type": "stream",
     "text": [
      "current_prices:  {'asset1': 0.8444218515250481, 'asset2': 0.7579544029403025}\n"
     ]
    }
   ],
   "source": [
    "global assets\n",
    "global data_source\n",
    "global current_prices \n",
    "\n",
    "assets = ['asset1', 'asset2']\n",
    "data_source = (lambda assets: ({asset: random.random() for asset in assets} for i in range(1000000)))(assets)\n",
    "current_prices = next(data_source)\n",
    "print('current_prices: ', current_prices)"
   ]
  },
  {
   "cell_type": "code",
   "execution_count": 3,
   "metadata": {},
   "outputs": [],
   "source": [
    "class Portfolio:\n",
    "    def __init__(self, assets: list, init_cash=1_000_000, acc_type=\"cash\", init_margin=1.0):\n",
    "        self.ledger = {asset: 0. for asset in assets}\n",
    "        self.init_cash = init_cash\n",
    "        self.type = acc_type\n",
    "        \n",
    "        self._cash = init_cash\n",
    "        self.initial_margin = init_margin\n",
    "        self._used_margin = 0.\n",
    "        self._borrowed_margin = 0.\n",
    "        self._available_margin = init_cash\n",
    "        \n",
    "    def __repr__(self):\n",
    "        return f\"\"\"cash: {self._cash} \n",
    "                \\nbalance: {self.balance}\n",
    "                \\nborrowed margin: {self.borrowed_margin}\n",
    "                \\nborrowed asset value: {self.borrowed_asset_value}\n",
    "                \\nequity: {self.equity} \n",
    "                \\nledger: {str(self.ledger)}\"\"\"\n",
    "    \n",
    "    \n",
    "    @property\n",
    "    def cash(self):\n",
    "        return self._cash \n",
    "    \n",
    "    @property\n",
    "    def borrowed_asset_value(self):\n",
    "        return sum((current_prices[k]*v for k, v in self.ledger.items() if v < 0.))\n",
    "    \n",
    "    @property\n",
    "    def borrowed_margin(self):\n",
    "        return self._borrowed_margin\n",
    "    \n",
    "    @property\n",
    "    def assets_value(self):\n",
    "        return sum((current_prices[k]*v for k, v in self.ledger.items()))\n",
    "    \n",
    "    @property\n",
    "    def equity(self):\n",
    "        return self._cash + self.assets_value - self._borrowed_margin\n",
    "        \n",
    "    @property\n",
    "    def balance(self):\n",
    "        return self._cash \n",
    "    \n",
    "    @property\n",
    "    def pnl(self):\n",
    "        return \n",
    "        \n",
    "    @property\n",
    "    def purchasing_power(self):\n",
    "        return self._cash / self.initial_margin\n",
    "\n",
    "    def transaction_cash(self, asset_name, units):\n",
    "        amount = current_prices[asset_name] * units\n",
    "        self._cash -= amount\n",
    "        self.ledger[asset_name] += units\n",
    "    \n",
    "    def transaction_margin(self, asset_name, units):\n",
    "        amount = current_prices[asset_name] * units\n",
    "        used_margin = amount * self.initial_margin\n",
    "        self._cash -= used_margin\n",
    "        self._borrowed_margin += amount * (1-self.initial_margin)\n",
    "        self._used_margin += used_margin\n",
    "        self.ledger[asset_name] += units\n",
    "        \n",
    "    def order(self, asset_name: str, units: float):\n",
    "        if self.type == \"cash\":\n",
    "            self.transaction_cash(asset_name, units)\n",
    "        elif self.type == \"margin\":\n",
    "            self.transaction_margin(asset_name, units)\n",
    "        return self"
   ]
  },
  {
   "cell_type": "code",
   "execution_count": 4,
   "metadata": {},
   "outputs": [],
   "source": [
    "port = Portfolio(assets, acc_type=\"margin\", init_margin=0.2)"
   ]
  },
  {
   "cell_type": "code",
   "execution_count": 5,
   "metadata": {
    "scrolled": true
   },
   "outputs": [
    {
     "data": {
      "text/plain": [
       "(cash: 999831.115629695 \n",
       "                 \n",
       " balance: 999831.115629695\n",
       "                 \n",
       " borrowed margin: 675.5374812200386\n",
       "                 \n",
       " borrowed asset value: 0\n",
       "                 \n",
       " equity: 1000000.0 \n",
       "                 \n",
       " ledger: {'asset1': 1000.0, 'asset2': 0.0},\n",
       " {'asset1': 0.8444218515250481, 'asset2': 0.7579544029403025})"
      ]
     },
     "execution_count": 5,
     "metadata": {},
     "output_type": "execute_result"
    }
   ],
   "source": [
    "port.order('asset1', 1000.), current_prices"
   ]
  },
  {
   "cell_type": "code",
   "execution_count": 6,
   "metadata": {},
   "outputs": [],
   "source": [
    "def buy_test():\n",
    "    cash = init_cash = 1_000_000\n",
    "    port = Portfolio(assets, init_cash = init_cash, acc_type=\"cash\")\n",
    "    price = current_prices[assets[0]]\n",
    "    units = 1000\n",
    "    port.order(assets[0], units)\n",
    "    cost = price * units\n",
    "    cash -= cost\n",
    "    borrowed_cash = 0.\n",
    "    usedMargin = cost\n",
    "    new_price = price\n",
    "    equity = init_cash + units*(new_price-price)\n",
    "    assert cash == port.cash\n",
    "    assert borrowed_cash == port.borrowed_cash\n",
    "    assert equity == port.equity"
   ]
  },
  {
   "cell_type": "code",
   "execution_count": 7,
   "metadata": {},
   "outputs": [],
   "source": [
    "def transaction_test(buy=True, margin=1.):\n",
    "    assert 0. <= margin <= 1., \"margin (required initial) must be between 0 and 1\"\n",
    "    cash = init_cash = 1_000_000\n",
    "    acc_type = \"margin\" if margin < 1. else \"cash\"\n",
    "    port = Portfolio(assets, init_cash = init_cash, acc_type=acc_type, \n",
    "                     init_margin=margin)\n",
    "    global current_prices\n",
    "    num_trans=1\n",
    "    borrowed_margin = 0.\n",
    "    used_margin = 0.\n",
    "    ledger = [0. for i in current_prices]\n",
    "    for i in  range(num_trans):\n",
    "        current_prices = next(data_source)\n",
    "        price = current_prices[assets[0]]\n",
    "        units = 1000 if buy else -1000\n",
    "\n",
    "        # port internal accounting\n",
    "        port.order(assets[0], units)\n",
    "\n",
    "        # explicit accounting\n",
    "        cost = margin*(price * units)\n",
    "        cash -= cost\n",
    "        borrowed_margin += (1-margin)*(price*units)\n",
    "        used_margin += cost\n",
    "        new_price = price\n",
    "        ledger[0] += units\n",
    "#         equity = init_cash + units*(new_price-price) - borrowed_margin\n",
    "    equity = cash + sum(price*unit for price, unit in zip(current_prices.values(), ledger)) - borrowed_margin\n",
    "#     print(cash, port.cash)\n",
    "#     print(borrowed_margin, port.borrowed_margin)\n",
    "#     print(equity, port.equity)\n",
    "    assert cash == port.cash\n",
    "    assert borrowed_margin == port.borrowed_margin\n",
    "#     assert equity == init_cash, \"No price change and no transaction - eq should be init_cash\"\n",
    "    \n",
    "from functools import partial\n",
    "buy_test = partial(transaction_test, buy=True)\n",
    "sell_test = partial(transaction_test, buy=False)"
   ]
  },
  {
   "cell_type": "code",
   "execution_count": 8,
   "metadata": {},
   "outputs": [
    {
     "data": {
      "text/plain": [
       "([0.0, 0.0], {'asset1': 0.8444218515250481, 'asset2': 0.7579544029403025})"
      ]
     },
     "execution_count": 8,
     "metadata": {},
     "output_type": "execute_result"
    }
   ],
   "source": [
    "ledger = [0. for i in current_prices]\n",
    "ledger, current_prices"
   ]
  },
  {
   "cell_type": "code",
   "execution_count": 9,
   "metadata": {
    "scrolled": false
   },
   "outputs": [],
   "source": [
    "buy_test()\n",
    "buy_test(margin=0.2)\n",
    "sell_test()\n",
    "sell_test(margin=0.2)"
   ]
  },
  {
   "cell_type": "markdown",
   "metadata": {},
   "source": [
    "## Calculate PnL without keeping track of individual positions\n",
    "\n",
    "    Instead, keep track of average entry price for each position that isn't 0.\n",
    "    When a position is incremented, the average entry price is updated by\n",
    "    weighting the mean update by volume of units bought\n",
    "    \n",
    "    Has to be symmetric for long/short positions\n",
    "    entry_price = 0. when there is no position"
   ]
  },
  {
   "cell_type": "code",
   "execution_count": 135,
   "metadata": {},
   "outputs": [],
   "source": [
    "import math\n",
    "sign = lambda c: math.copysign(1, c)"
   ]
  },
  {
   "cell_type": "code",
   "execution_count": 136,
   "metadata": {},
   "outputs": [],
   "source": [
    "prev_price = 1.\n",
    "current_units = 0.\n",
    "average_entry_price = prev_price"
   ]
  },
  {
   "cell_type": "code",
   "execution_count": 168,
   "metadata": {},
   "outputs": [],
   "source": [
    "current_price = 2.8\n",
    "new_units = 10000"
   ]
  },
  {
   "cell_type": "code",
   "execution_count": 169,
   "metadata": {},
   "outputs": [
    {
     "name": "stdout",
     "output_type": "stream",
     "text": [
      "3700.0 10000 2.8 2.8\n"
     ]
    }
   ],
   "source": [
    "if sign(new_units) == -sign(current_units):\n",
    "    # if new order is going the opposite direction\n",
    "    # don't have to change average_entry_price if a partial close\n",
    "    # If full close, current_units will be 0. and will be caught below\n",
    "    if abs(new_units) > abs(current_units):\n",
    "        # Reversing position\n",
    "        average_entry_price = current_price\n",
    "    current_units += new_units\n",
    "    \n",
    "else:\n",
    "    # Update average entry price, weighted by the amount of units bought at the new price level\n",
    "    average_entry_price += (current_price-average_entry_price) * (new_units/(new_units+current_units))    \n",
    "    current_units += new_units\n",
    "    \n",
    "if current_units == 0:\n",
    "    average_entry_price = 0.\n",
    "        \n",
    "print(current_units, new_units, current_price, average_entry_price)"
   ]
  },
  {
   "cell_type": "code",
   "execution_count": null,
   "metadata": {},
   "outputs": [],
   "source": []
  }
 ],
 "metadata": {
  "kernelspec": {
   "display_name": "Python 3",
   "language": "python",
   "name": "python3"
  },
  "language_info": {
   "codemirror_mode": {
    "name": "ipython",
    "version": 3
   },
   "file_extension": ".py",
   "mimetype": "text/x-python",
   "name": "python",
   "nbconvert_exporter": "python",
   "pygments_lexer": "ipython3",
   "version": "3.7.7"
  }
 },
 "nbformat": 4,
 "nbformat_minor": 4
}
