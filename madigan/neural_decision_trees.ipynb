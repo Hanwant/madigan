{
 "cells": [
  {
   "cell_type": "code",
   "execution_count": 275,
   "metadata": {},
   "outputs": [],
   "source": [
    "import math \n",
    "\n",
    "import numpy as np\n",
    "import torch\n",
    "import torch.nn as nn\n",
    "import torchvision\n",
    "\n",
    "import matplotlib.pyplot as plt\n",
    "import seaborn as sns\n",
    "sns.set()"
   ]
  },
  {
   "cell_type": "code",
   "execution_count": 256,
   "metadata": {},
   "outputs": [],
   "source": [
    "datapath = \"/media/hemu/Data/mnist/\"\n",
    "global device\n",
    "device = 'cuda' if torch.cuda.is_available() else 'cpu'"
   ]
  },
  {
   "cell_type": "code",
   "execution_count": 257,
   "metadata": {},
   "outputs": [],
   "source": [
    "bs = 128\n",
    "\n",
    "trn_dset = torchvision.datasets.MNIST(datapath, train=True, download=True,  \n",
    "                                     transform=torchvision.transforms.ToTensor())\n",
    "tst_dset = torchvision.datasets.MNIST(datapath, train=False, download=True,\n",
    "                                     transform=torchvision.transforms.ToTensor())\n",
    "\n",
    "trn_dloader = torch.utils.data.DataLoader(trn_dset, batch_size=bs, shuffle=True,\n",
    "                                         num_workers=4)\n",
    "tst_dloader = torch.utils.data.DataLoader(tst_dset, batch_size=bs, shuffle=True,\n",
    "                                         num_workers=4)\n"
   ]
  },
  {
   "cell_type": "code",
   "execution_count": 258,
   "metadata": {},
   "outputs": [
    {
     "data": {
      "image/png": "[encoded data removed]",
      "text/plain": [
       "<Figure size 1008x432 with 4 Axes>"
      ]
     },
     "metadata": {},
     "output_type": "display_data"
    },
    {
     "name": "stdout",
     "output_type": "stream",
     "text": [
      "0.0 1.0 0.13315874\n"
     ]
    }
   ],
   "source": [
    "trn_loader = iter(trn_dloader)\n",
    "data = next(trn_loader)\n",
    "images = data[0].numpy()\n",
    "fig, ax = plt.subplots(1, 4, figsize=(14, 6))\n",
    "for i in range(4):\n",
    "    ax.flatten()[i].imshow(images[i][0])\n",
    "    ax.flatten()[i].set_title(f\"label: {data[1][i].item()}\")\n",
    "plt.show()\n",
    "print(images.min(), images.max(), images.mean())"
   ]
  },
  {
   "cell_type": "code",
   "execution_count": 259,
   "metadata": {},
   "outputs": [],
   "source": [
    "def test_accuracy(model, tst_dloader, nlabels=10):\n",
    "    nlabels = 10\n",
    "    correct = [0 for i in range(nlabels)]\n",
    "    total = [0 for i in range(nlabels)]\n",
    "    tst_loader = iter(tst_dloader)\n",
    "    model.to(device)\n",
    "    with torch.no_grad():\n",
    "        for i, (x, y) in enumerate(tst_loader):\n",
    "            x=x.to(device)\n",
    "            out = model(x)\n",
    "            _, pred = torch.max(out, -1)\n",
    "            for batch in range(y.shape[0]):\n",
    "                label = y[batch]\n",
    "                total[label] += 1\n",
    "                correct[label] += (pred[batch]==label).squeeze().item()\n",
    "    return correct, total"
   ]
  },
  {
   "cell_type": "code",
   "execution_count": 340,
   "metadata": {},
   "outputs": [],
   "source": [
    "def show_predictions(model, x, y):\n",
    "    model.to(device)\n",
    "    x = x.to(device)\n",
    "    with torch.no_grad():\n",
    "        out = model(x)\n",
    "        pred = out.max(-1)[1]\n",
    "    cols = max(int(math.ceil(math.sqrt(x.shape[0]))), 5)\n",
    "    rows = int(math.ceil(x.shape[0] / cols))\n",
    "    fig, ax = plt.subplots(rows, cols, figsize=(12, 2*rows))\n",
    "    _ax = ax.flatten()\n",
    "    for i in range(x.shape[0]):\n",
    "        _ax[i].imshow(x.cpu().numpy()[i].squeeze())\n",
    "        _ax[i].set_title(f\"true: {y[i]}\" +\n",
    "                                 f\" predicted: {pred[i]}\")\n",
    "        _ax[i].tick_params(which='both', bottom=False, top=False, labelbottom=False,\n",
    "                          labelleft=False, grid_alpha=0.)\n",
    "    return fig, ax"
   ]
  },
  {
   "cell_type": "markdown",
   "metadata": {},
   "source": [
    "## CNN "
   ]
  },
  {
   "cell_type": "code",
   "execution_count": 318,
   "metadata": {},
   "outputs": [],
   "source": [
    "class CNN1(nn.Module):\n",
    "    def __init__(self):\n",
    "        super().__init__()\n",
    "        self.conv1 = nn.Conv2d(1, 8, 5)\n",
    "        self.conv2 = nn.Conv2d(8, 16, 5)\n",
    "        self.out = nn.Linear(20*20*16, 10)\n",
    "        self.act = nn.ReLU()\n",
    "    def forward(self, x):\n",
    "        x = self.act(self.conv1(x))\n",
    "        x = self.act(self.conv2(x))\n",
    "        x = self.out( x.view(x.shape[0], -1))\n",
    "        return x\n",
    "        "
   ]
  },
  {
   "cell_type": "code",
   "execution_count": 319,
   "metadata": {
    "scrolled": true
   },
   "outputs": [],
   "source": [
    "def cnn_trainer(model, trn_dloader):\n",
    "    model.to(device)\n",
    "    trn_loader = iter(trn_dloader)\n",
    "    opt = torch.optim.Adam(model.parameters(), lr=1e-3)\n",
    "    loss_fn = nn.CrossEntropyLoss()\n",
    "    model.train()\n",
    "    running_loss = 0.\n",
    "    epochs = 1\n",
    "    for i, (x, y) in enumerate(trn_loader):\n",
    "        opt.zero_grad()\n",
    "        pred = model(x.to(device))\n",
    "        loss =  loss_fn(pred, y.to(device))\n",
    "        loss.backward()\n",
    "        opt.step()\n",
    "\n",
    "        _loss = loss.detach().item()\n",
    "        running_loss += _loss\n",
    "\n",
    "        if i % 100==0:\n",
    "            print(f\"step: {i} loss: {running_loss}\")\n",
    "            running_loss = 0.\n",
    "\n",
    "        yield _loss"
   ]
  },
  {
   "cell_type": "code",
   "execution_count": 320,
   "metadata": {
    "scrolled": true
   },
   "outputs": [
    {
     "name": "stdout",
     "output_type": "stream",
     "text": [
      "step: 0 loss: 2.304473876953125\n",
      "step: 100 loss: 54.751171588897705\n",
      "step: 200 loss: 21.398773595690727\n",
      "step: 300 loss: 14.484878655523062\n",
      "step: 400 loss: 11.529253177344799\n"
     ]
    }
   ],
   "source": [
    "model_cnn = CNN1()\n",
    "trainer = iter(cnn_trainer(model_cnn, trn_dloader))\n",
    "epochs = 1\n",
    "losses = []\n",
    "for epoch in range(epochs):\n",
    "    for loss in trainer:\n",
    "        losses.append(loss)"
   ]
  },
  {
   "cell_type": "code",
   "execution_count": 321,
   "metadata": {},
   "outputs": [
    {
     "name": "stdout",
     "output_type": "stream",
     "text": [
      "Total Accuracy:  97.42\n",
      "Accuracy for class 1: 98.87755102040816\n",
      "Accuracy for class 2: 99.11894273127753\n",
      "Accuracy for class 3: 95.25193798449612\n",
      "Accuracy for class 4: 98.41584158415841\n",
      "Accuracy for class 5: 98.57433808553971\n",
      "Accuracy for class 6: 94.73094170403587\n",
      "Accuracy for class 7: 98.12108559498957\n",
      "Accuracy for class 8: 96.88715953307393\n",
      "Accuracy for class 9: 98.15195071868582\n",
      "Accuracy for class 10: 95.73835480673935\n"
     ]
    },
    {
     "data": {
      "image/png": "[encoded data removed]",
      "text/plain": [
       "<Figure size 864x288 with 10 Axes>"
      ]
     },
     "metadata": {},
     "output_type": "display_data"
    }
   ],
   "source": [
    "correct, total = test_accuracy(model_cnn, tst_dloader)\n",
    "print(\"Total Accuracy: \", 100*sum(correct)/sum(total))\n",
    "for i in range(10):\n",
    "    print(f\"Accuracy for class {i+1}: {100*correct[i]/total[i]}\")\n",
    "    \n",
    "x, y = next(iter(tst_dloader))\n",
    "fig, ax = show_predictions(model_cnn, x[:10], y[:10])"
   ]
  },
  {
   "cell_type": "markdown",
   "metadata": {},
   "source": [
    "# Linear Model Baseline"
   ]
  },
  {
   "cell_type": "code",
   "execution_count": 322,
   "metadata": {},
   "outputs": [],
   "source": [
    "class LinearModel(nn.Module):\n",
    "    def __init__(self, d_input, d_output):\n",
    "        super().__init__()\n",
    "        self.layer = nn.Linear(input_len, d_output)\n",
    "    def forward(self, x):\n",
    "        x = x.view(x.shape[0], -1)\n",
    "        logits = self.layer(x)\n",
    "        return logits"
   ]
  },
  {
   "cell_type": "code",
   "execution_count": 323,
   "metadata": {},
   "outputs": [],
   "source": [
    "def linear_trainer(model, trn_dloader, lr=1e-3):\n",
    "    trn_loader = iter(trn_dloader)\n",
    "    opt = torch.optim.Adam(model.parameters(), lr=lr)\n",
    "    loss_fn = nn.CrossEntropyLoss()\n",
    "    model.train()\n",
    "    model.to(device)\n",
    "    running_loss = 0.\n",
    "    epochs = 1\n",
    "    for i, (x, y) in enumerate(trn_loader):\n",
    "        opt.zero_grad()\n",
    "        x = x.to(device)\n",
    "        y = y.to(device)\n",
    "        pred = model(x)\n",
    "        loss =  loss_fn(pred, y)\n",
    "        loss.backward()\n",
    "        opt.step()\n",
    "\n",
    "        _loss = loss.detach().item()\n",
    "        running_loss += _loss\n",
    "\n",
    "        if i % 100==0:\n",
    "            print(f\"step: {i} loss: {running_loss}\")\n",
    "            running_loss = 0.\n",
    "\n",
    "        yield _loss"
   ]
  },
  {
   "cell_type": "code",
   "execution_count": 324,
   "metadata": {},
   "outputs": [],
   "source": [
    "trn_loader = iter(trn_dloader)\n",
    "x, y = next(trn_loader)\n",
    "x = x.to(device)\n",
    "input_len = x.shape[1]*x.shape[2]*x.shape[3]\n",
    "model_linear = LinearModel(input_len, 10).to(device)"
   ]
  },
  {
   "cell_type": "code",
   "execution_count": 325,
   "metadata": {
    "scrolled": true
   },
   "outputs": [
    {
     "name": "stdout",
     "output_type": "stream",
     "text": [
      "step: 0 loss: 2.3503119945526123\n",
      "step: 100 loss: 125.14548563957214\n",
      "step: 200 loss: 64.09242317080498\n",
      "step: 300 loss: 50.40843915939331\n",
      "step: 400 loss: 44.50848400592804\n",
      "step: 0 loss: 0.38844022154808044\n",
      "step: 100 loss: 38.688060998916626\n",
      "step: 200 loss: 35.086301401257515\n",
      "step: 300 loss: 34.06457044184208\n",
      "step: 400 loss: 32.84655974805355\n",
      "step: 0 loss: 0.3280831277370453\n",
      "step: 100 loss: 31.248618349432945\n",
      "step: 200 loss: 30.912107914686203\n",
      "step: 300 loss: 30.603893354535103\n",
      "step: 400 loss: 30.651053175330162\n",
      "step: 0 loss: 0.2323470115661621\n",
      "step: 100 loss: 29.647330448031425\n",
      "step: 200 loss: 29.313563600182533\n",
      "step: 300 loss: 27.156318441033363\n",
      "step: 400 loss: 29.305610105395317\n",
      "step: 0 loss: 0.3039564788341522\n",
      "step: 100 loss: 28.01773415505886\n",
      "step: 200 loss: 28.307753667235374\n",
      "step: 300 loss: 28.33337627351284\n",
      "step: 400 loss: 27.601165860891342\n"
     ]
    }
   ],
   "source": [
    "epochs=5\n",
    "losses=[]\n",
    "for epoch in range(epochs):\n",
    "    trainer = iter(linear_trainer(model_linear, trn_dloader, lr=1e-3))\n",
    "    for _loss in trainer:\n",
    "        losses.append(_loss)\n",
    "        "
   ]
  },
  {
   "cell_type": "code",
   "execution_count": 327,
   "metadata": {},
   "outputs": [
    {
     "name": "stdout",
     "output_type": "stream",
     "text": [
      "Total Accuracy:  92.3\n",
      "Accuracy for class 1: 97.95918367346938\n",
      "Accuracy for class 2: 97.62114537444934\n",
      "Accuracy for class 3: 87.98449612403101\n",
      "Accuracy for class 4: 90.1980198019802\n",
      "Accuracy for class 5: 93.68635437881873\n",
      "Accuracy for class 6: 86.09865470852019\n",
      "Accuracy for class 7: 96.34655532359082\n",
      "Accuracy for class 8: 92.8988326848249\n",
      "Accuracy for class 9: 89.63039014373716\n",
      "Accuracy for class 10: 89.59365708622398\n"
     ]
    },
    {
     "data": {
      "image/png": "[encoded data removed]",
      "text/plain": [
       "<Figure size 864x288 with 10 Axes>"
      ]
     },
     "metadata": {},
     "output_type": "display_data"
    }
   ],
   "source": [
    "correct, total = test_accuracy(model_linear, tst_dloader)\n",
    "print(\"Total Accuracy: \", 100*sum(correct) / sum(total))\n",
    "for i in range(10):\n",
    "    print(f\"Accuracy for class {i+1}: {100*correct[i]/total[i]}\")\n",
    "\n",
    "x, y = next(iter(tst_dloader))\n",
    "fig, ax = show_predictions(model_linear, x[:10], y[:10])"
   ]
  },
  {
   "cell_type": "markdown",
   "metadata": {},
   "source": [
    "# Soft Decision Trees"
   ]
  },
  {
   "cell_type": "markdown",
   "metadata": {},
   "source": [
    "## Heirarchical Mixture of Experts"
   ]
  },
  {
   "cell_type": "code",
   "execution_count": 556,
   "metadata": {},
   "outputs": [],
   "source": [
    "class InnerNode(nn.Module):\n",
    "    \"\"\"\n",
    "    Routes to other inner nodes and terminal leaf nodes\n",
    "    Outputs probability for binary decision (going to left vs right node)\n",
    "    \"\"\"\n",
    "    def __init__(self, d_input, temp=1., parent=None, next_nodes=(None, None)):\n",
    "        super().__init__()\n",
    "        if temp is None:\n",
    "            self.temp = nn.Parameter(torch.tensor(1.), requires_grad=True)\n",
    "            self.register_parameter(\"temp\", self.temp)\n",
    "        else:\n",
    "            self.temp = temp\n",
    "        self.layer = nn.Linear(d_input, 1, bias=True)\n",
    "        self.act = nn.Sigmoid()\n",
    "        self.parent_node = parent\n",
    "        self.next_nodes = next_nodes\n",
    "        self.current_p = 1.\n",
    "    def forward(self, x):\n",
    "        self.current_p = self.act(self.temp*self.layer(x))\n",
    "#         self.current_p = p\n",
    "        return self.current_p\n",
    "\n",
    "class LeafNodeExpert(nn.Module):\n",
    "    \"\"\"\n",
    "    Expert - outputs a distribution conditioned on input data\n",
    "    Differs from original paper which has a static distribution - not conditioned on input\n",
    "    \"\"\"\n",
    "    def __init__(self, d_input, d_output, parent=None):\n",
    "        super().__init__()\n",
    "        self.layer = nn.Linear(d_input, d_output)\n",
    "        self.act = nn.Softmax(dim=-1) # not needed if using nn.CrossEntropyLoss\n",
    "        self.parent_node = parent\n",
    "        self.next_nodes = None #terminal detection\n",
    "    def forward(self, x):\n",
    "        return self.act(self.layer(x))\n",
    "    \n",
    "class LeafNodeBigot(nn.Module):\n",
    "    \"\"\"\n",
    "    Expert - outputs a static distribution -unconditioned on input data\n",
    "    As in the paper\n",
    "    \"\"\"\n",
    "    def __init__(self, d_output, parent=None):\n",
    "        super().__init__()\n",
    "        self.dist = nn.Parameter(torch.ones(d_output, requires_grad=True))\n",
    "        self.register_parameter(\"output_distribution\", self.dist)\n",
    "        self.act = nn.Softmax(dim=-1) # not needed if using nn.CrossEntropyLoss\n",
    "        self.parent_node = parent\n",
    "        self.next_nodes = None #terminal detection\n",
    "    def forward(self, x):\n",
    "#         return self.act(self.dist)\n",
    "        return self.act(self.dist)\n",
    "    \n",
    "class SoftDecisionTree(nn.Module):\n",
    "    \"\"\"\n",
    "    Using Experts instead of Bigots as leaf nodes, this differs from the originally proposed architecture\n",
    "    \n",
    "    \"\"\"\n",
    "    def __init__(self, d_input, d_output, depth, temp=1., expert_leaf=False, lambda_=0.1):\n",
    "        super().__init__()\n",
    "        self.d_output=d_output\n",
    "        self.depth = depth\n",
    "        self.inner_nodes = [[InnerNode(d_input, temp=temp, parent=None)]]\n",
    "        self.path_prob = [[1.]]\n",
    "        self.add_module(\"inner_node_0_0\", self.inner_nodes[0][0])\n",
    "        self.lambda_ = lambda_\n",
    "        for i in range(1, depth):\n",
    "            self.inner_nodes.append([])\n",
    "            self.path_prob.append([])\n",
    "            nodes_added = 0\n",
    "            for prev_node in self.inner_nodes[i-1]:\n",
    "                new_node1 = InnerNode(d_input, temp=temp, parent=prev_node)\n",
    "                new_node2 = InnerNode(d_input, temp=temp, parent=prev_node)\n",
    "                self.inner_nodes[i].append(new_node1)\n",
    "                self.inner_nodes[i].append(new_node2)\n",
    "                self.path_prob[i].append([])\n",
    "                self.path_prob[i].append([])\n",
    "                prev_node.next_nodes = (new_node1, new_node2)\n",
    "                self.add_module(f\"inner_node_{i}_{nodes_added}\", new_node1)\n",
    "                self.add_module(f\"inner_node_{i}_{nodes_added+1}\", new_node1)\n",
    "                nodes_added += 2\n",
    "        self.path_prob.append([])\n",
    "        self.leaf_nodes = []\n",
    "        nodes_added=0\n",
    "        for last_inner_node in self.inner_nodes[-1]:\n",
    "            if expert_leaf:\n",
    "                leaf_node1 = LeafNodeExpert(d_input, d_output, parent=last_inner_node)\n",
    "                leaf_node2 = LeafNodeExpert(d_input, d_output, parent=last_inner_node)\n",
    "            else:\n",
    "                leaf_node1 = LeafNodeBigot(d_output, parent=last_inner_node)\n",
    "                leaf_node2 = LeafNodeBigot(d_output, parent=last_inner_node)\n",
    "            self.leaf_nodes.append([leaf_node1, leaf_node2])\n",
    "            last_inner_node.next_nodes = (leaf_node1, leaf_node2)\n",
    "            self.add_module(f\"leaf_node_{nodes_added}\", leaf_node1)\n",
    "            self.add_module(f\"leaf_node_{nodes_added+1}\", leaf_node2)\n",
    "            self.path_prob[-1].append([])\n",
    "            self.path_prob[-1].append([])\n",
    "            nodes_added += 2\n",
    "    \n",
    "    def get_path_prob(self, node):\n",
    "        \"\"\" Given that the nodes have executed a recent input and saved their outputs,\n",
    "        this method accumulates the probabilities leading to the given node\n",
    "        \"\"\"\n",
    "        parent = node.parent_node\n",
    "        p=torch.ones_like(node.parent_node.current_p)\n",
    "        while parent is not None:\n",
    "            p *= parent.current_p\n",
    "            parent = parent.parent_node\n",
    "        return p\n",
    "\n",
    "    def greedy_path(self, x):\n",
    "        x = x.view(x.shape[0], -1)\n",
    "        current_node = self.inner_nodes[0][0]\n",
    "        for i in range(self.depth):\n",
    "            p_right = current_node(x)\n",
    "            if p_right.item() < 0.5:\n",
    "                current_node = current_node.next_nodes[0]\n",
    "            else:\n",
    "                current_node = current_node.next_nodes[1] \n",
    "        output = current_node(x)\n",
    "        return output\n",
    "    \n",
    "    def full_path(self, x):\n",
    "        \"\"\"\n",
    "        Return the probabilities and distributions for all leaf nodes \n",
    "        given an input x\n",
    "        \"\"\"\n",
    "        x = x.view(x.shape[0], -1)\n",
    "        output_distributions = []\n",
    "\n",
    "        for batch in range(x.shape[0]):\n",
    "            for leaf in self.leaf_nodes:\n",
    "                parent = leaf[0].parent_node # == leaf[1].parent_node\n",
    "                p = self.get_path_prob(parent) # possible because the inner nodes have saved their probs\n",
    "                p1 = p * parent.current_p\n",
    "                p2 = p * (1-parent.current_p)\n",
    "                dist1 = leaf[0](x)\n",
    "                dist2 = leaf[1](x)\n",
    "                output_distributions.append([(p1, dist1), (p2, dist2)])\n",
    "        return output_distributions # node_pairs[prob, distribution[batch_size, n_labels]]\n",
    "    \n",
    "    def mean_path(self, x):\n",
    "        \"\"\"\n",
    "        Returns the output distribution from all the leaf nodes weighted\n",
    "        by path probability\n",
    "        \"\"\"\n",
    "        x = x.view(x.shape[0], -1)\n",
    "        output_distribution = torch.zeros((x.shape[0], self.d_output)).to(x.device)\n",
    "        \n",
    "        cost = 0.\n",
    "        \n",
    "        for i, layer in enumerate(self.inner_nodes):\n",
    "            for node in layer:\n",
    "                _p = node(x) # Nodes store respective path probabilities\n",
    "                cost += 2**(-i) * self.lambda_ * 0.5 *torch.log(_p) + 0.5*torch.log(1-_p)\n",
    "        \n",
    "        for leaf in self.leaf_nodes:\n",
    "            parent = leaf[0].parent_node # == leaf[1].parent_node\n",
    "            p = self.get_path_prob(parent) # possible because the inner nodes have saved their probs\n",
    "            p1 = p * (1-parent.current_p)\n",
    "            p2 = p * parent.current_p\n",
    "            dist1 = p1*leaf[0](x)\n",
    "            dist2 = p2*leaf[1](x)\n",
    "            output_distribution += dist1 + dist2\n",
    "        cost *= -1.\n",
    "        return output_distribution, cost\n",
    "    \n",
    "    def forward(self, x, greedy=True):\n",
    "        if greedy:\n",
    "            dist = []\n",
    "            for batch in range(x.shape[0]):\n",
    "                _p = self.greedy_path(x[batch][None, ...])\n",
    "                dist.append(_p)\n",
    "            dist = torch.stack(dist).squeeze()\n",
    "            return dist\n",
    "        dist = self.mean_path(x)\n",
    "        return dist\n",
    "#             _p = self.mean_path(x[batch][None, ...])\n",
    "#             dist.append(_p)\n",
    "        \n"
   ]
  },
  {
   "cell_type": "code",
   "execution_count": 557,
   "metadata": {
    "scrolled": true
   },
   "outputs": [],
   "source": [
    "def show_full_leaf_outputs(model, x, batch_idx=0):\n",
    "    model.to(device)\n",
    "    x = x.to(device)\n",
    "    multi_pred_full = model.full_path(x)\n",
    "    return multi_pred_full\n",
    "    for i, node_pair in enumerate(multi_pred_full):\n",
    "        for j, node in enumerate(node_pair):\n",
    "            print(\"node_pair \", i, \"node \", j)\n",
    "            print(\"path prob: \", node[0][batch_idx])\n",
    "            print(\"distribution: \", node[1][batch_idx])\n"
   ]
  },
  {
   "cell_type": "code",
   "execution_count": 558,
   "metadata": {},
   "outputs": [],
   "source": [
    "def plot_leaf_outputs(model, x, batch_idx=0):\n",
    "    pass"
   ]
  },
  {
   "cell_type": "code",
   "execution_count": 559,
   "metadata": {},
   "outputs": [],
   "source": [
    "def sdt_trainer(model, trn_dloader, lr=1e-3):\n",
    "    trn_loader = iter(trn_dloader)\n",
    "    opt = torch.optim.Adam(model.parameters(), lr=lr)\n",
    "    loss_fn = nn.CrossEntropyLoss()\n",
    "    model.train()\n",
    "    model.to(device)\n",
    "    running_loss = 0.\n",
    "    correct_sum = 0\n",
    "    total_sum = 0\n",
    "    epochs = 1\n",
    "    for i, (x, y) in enumerate(trn_loader):\n",
    "        opt.zero_grad()\n",
    "        x=x.to(device)\n",
    "        y=y.to(device)\n",
    "        pred, cost = model(x, greedy=False)\n",
    "        \n",
    "        loss =  loss_fn(pred, y) + cost.mean()\n",
    "        loss.backward()\n",
    "        opt.step()\n",
    "\n",
    "        _loss = loss.detach().item()\n",
    "        running_loss += _loss\n",
    "        \n",
    "        assert pred.max(-1)[1].shape == y.shape\n",
    "        correct = (pred.max(-1)[1] == y).detach()\n",
    "        correct_sum += correct.sum().item()\n",
    "        total_sum += len(correct)\n",
    "\n",
    "        if i % 100==0:\n",
    "            print(f\"step: {i} loss: {running_loss} accuracy: {correct_sum/total_sum}\")\n",
    "            running_loss = 0.\n",
    "            correct_sum = 0\n",
    "            total_sum = 0\n",
    "\n",
    "        yield _loss"
   ]
  },
  {
   "cell_type": "code",
   "execution_count": 564,
   "metadata": {},
   "outputs": [
    {
     "name": "stdout",
     "output_type": "stream",
     "text": [
      "torch.Size([128, 10])\n",
      "torch.Size([128, 10]) cost:  5.348354816436768\n"
     ]
    }
   ],
   "source": [
    "trn_loader = iter(trn_dloader)\n",
    "x, y = next(trn_loader)\n",
    "x = x.to(device)\n",
    "model_sdt = SoftDecisionTree(x.shape[1]*x.shape[2]*x.shape[3], 10, \n",
    "                            depth=4,\n",
    "                            temp=0.1,\n",
    "                            expert_leaf=True).to(device)\n",
    "\n",
    "greedy_pred = model_sdt(x, greedy=True)\n",
    "mean_pred, cost = model_sdt(x, greedy=False)\n",
    "print(greedy_pred.shape)\n",
    "print(mean_pred.shape, \"cost: \", cost.detach().mean().item())\n",
    "# show_full_leaf_outputs(model_sdt, x)"
   ]
  },
  {
   "cell_type": "code",
   "execution_count": 567,
   "metadata": {
    "scrolled": true
   },
   "outputs": [
    {
     "name": "stdout",
     "output_type": "stream",
     "text": [
      "epoch:  0\n",
      "step: 0 loss: 3.22971248626709 accuracy: 0.8671875\n",
      "step: 100 loss: 323.5116345882416 accuracy: 0.874453125\n",
      "step: 200 loss: 323.33361983299255 accuracy: 0.879765625\n",
      "step: 300 loss: 323.3825092315674 accuracy: 0.878359375\n",
      "step: 400 loss: 323.269690990448 accuracy: 0.87640625\n",
      "epoch:  1\n",
      "step: 0 loss: 3.2575206756591797 accuracy: 0.8671875\n",
      "step: 100 loss: 323.25602746009827 accuracy: 0.886640625\n",
      "step: 200 loss: 323.2431905269623 accuracy: 0.891328125\n",
      "step: 300 loss: 323.087917804718 accuracy: 0.88390625\n",
      "step: 400 loss: 323.13009238243103 accuracy: 0.88296875\n",
      "epoch:  2\n",
      "step: 0 loss: 3.2156810760498047 accuracy: 0.8828125\n",
      "step: 100 loss: 323.044802904129 accuracy: 0.893828125\n",
      "step: 200 loss: 322.9593970775604 accuracy: 0.89140625\n",
      "step: 300 loss: 322.9909493923187 accuracy: 0.88796875\n",
      "step: 400 loss: 323.0101754665375 accuracy: 0.88609375\n",
      "epoch:  3\n",
      "step: 0 loss: 3.2324538230895996 accuracy: 0.8671875\n",
      "step: 100 loss: 322.93083095550537 accuracy: 0.891171875\n",
      "step: 200 loss: 322.73898696899414 accuracy: 0.896796875\n",
      "step: 300 loss: 322.84936356544495 accuracy: 0.8959375\n",
      "step: 400 loss: 322.82592153549194 accuracy: 0.888125\n",
      "epoch:  4\n",
      "step: 0 loss: 3.220027446746826 accuracy: 0.859375\n",
      "step: 100 loss: 322.748037815094 accuracy: 0.897890625\n",
      "step: 200 loss: 322.6405682563782 accuracy: 0.892109375\n",
      "step: 300 loss: 322.67247128486633 accuracy: 0.9009375\n",
      "step: 400 loss: 322.53053760528564 accuracy: 0.8990625\n"
     ]
    }
   ],
   "source": [
    "epochs = 5\n",
    "losses = []\n",
    "for epoch in range(epochs):\n",
    "    trainer = iter(sdt_trainer(model_sdt, trn_dloader, lr=1e-3))\n",
    "    print(\"epoch: \", epoch)\n",
    "    for loss in trainer:\n",
    "        losses.append(loss)"
   ]
  },
  {
   "cell_type": "code",
   "execution_count": 568,
   "metadata": {},
   "outputs": [
    {
     "name": "stdout",
     "output_type": "stream",
     "text": [
      "Total Accuracy:  90.0\n",
      "Accuracy for class 0: 97.55102040816327\n",
      "Accuracy for class 1: 97.79735682819383\n",
      "Accuracy for class 2: 88.85658914728683\n",
      "Accuracy for class 3: 89.00990099009901\n",
      "Accuracy for class 4: 90.22403258655804\n",
      "Accuracy for class 5: 88.78923766816143\n",
      "Accuracy for class 6: 91.7536534446764\n",
      "Accuracy for class 7: 92.02334630350195\n",
      "Accuracy for class 8: 74.84599589322382\n",
      "Accuracy for class 9: 87.80971258671953\n"
     ]
    },
    {
     "data": {
      "image/png": "[encoded data removed]",
      "text/plain": [
       "<Figure size 864x288 with 10 Axes>"
      ]
     },
     "metadata": {},
     "output_type": "display_data"
    }
   ],
   "source": [
    "correct, total = test_accuracy(model_sdt, tst_dloader)\n",
    "print(\"Total Accuracy: \", 100*sum(correct) / sum(total))\n",
    "for i in range(10):\n",
    "    print(f\"Accuracy for class {i}: {100*correct[i]/total[i]}\")\n",
    "    \n",
    "x, y = next(iter(tst_dloader))\n",
    "fig, ax = show_predictions(model_sdt, x[:10], y[:10])"
   ]
  },
  {
   "cell_type": "code",
   "execution_count": 262,
   "metadata": {},
   "outputs": [],
   "source": [
    "def plot_sdt_distributions(full_distwe):\n",
    "    batch_idx = 0\n",
    "    n_labels = multi_pred[batch_idx][0][1].shape[-1]\n",
    "    n_node_pairs = 2*len(multi_pred[batch_idx])\n",
    "    for i in range(n_node_pairs):\n",
    "        pass"
   ]
  },
  {
   "cell_type": "code",
   "execution_count": null,
   "metadata": {},
   "outputs": [],
   "source": []
  },
  {
   "cell_type": "code",
   "execution_count": null,
   "metadata": {},
   "outputs": [],
   "source": []
  }
 ],
 "metadata": {
  "kernelspec": {
   "display_name": "Python 3",
   "language": "python",
   "name": "python3"
  },
  "language_info": {
   "codemirror_mode": {
    "name": "ipython",
    "version": 3
   },
   "file_extension": ".py",
   "mimetype": "text/x-python",
   "name": "python",
   "nbconvert_exporter": "python",
   "pygments_lexer": "ipython3",
   "version": "3.7.7"
  }
 },
 "nbformat": 4,
 "nbformat_minor": 4
}
