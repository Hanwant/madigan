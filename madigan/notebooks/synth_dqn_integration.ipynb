{
 "cells": [
  {
   "cell_type": "code",
   "execution_count": 1,
   "metadata": {},
   "outputs": [],
   "source": [
    "import random \n",
    "import math\n",
    "\n",
    "import numba\n",
    "import numpy as np\n",
    "import torch\n",
    "from torch import nn\n",
    "import torch.nn.functional as F\n",
    "import matplotlib.pyplot as plt\n",
    "from tqdm.notebook import tqdm\n",
    "\n",
    "from madigan.environments import make_env\n",
    "from madigan.environments.cpp import Broker, Synth, Env as EnvC\n",
    "from madigan.environments.cpp import Assets, RiskInfo, EnvInfoMulti, EnvInfoSingle\n",
    "\n",
    "from madigan.fleet import make_agent\n",
    "\n",
    "from madigan.utils.preprocessor import make_preprocessor as _make_preprocessor\n",
    "from madigan.utils import make_config, State\n",
    "from madigan.utils import ReplayBuffer, SARSD, DiscreteActionSpace\n",
    "from madigan.utils import list_2_dict, reduce_train_metrics\n",
    "\n",
    "\n",
    "from madigan.run.test import test\n",
    "from madigan.utils.plotting import plot_test_metrics"
   ]
  },
  {
   "cell_type": "code",
   "execution_count": 2,
   "metadata": {},
   "outputs": [],
   "source": [
    "config = make_config(\n",
    "        experiment_id=\"SineCompositeQ\",\n",
    "        basepath=\"/media/hemu/Data/madigan/experiments\",\n",
    "        transaction_cost_rel=0.02,\n",
    "    \n",
    "        test_steps=1_000,\n",
    "        nsteps=1_000_000,\n",
    "    \n",
    "        assets=[\"sine1\"],\n",
    "        data_source_type=\"SineAdder\",\n",
    "        data_source_config={\n",
    "            'freq':[2.2, 4.1, 1., 3.],\n",
    "            'mu':[.6, 0.3, 2., 4.2],\n",
    "            'amp':[.5, 0.2, 0.4, 1.2],\n",
    "            'phase':[0., 1., 4., 0.],\n",
    "            'dX':0.01,\n",
    "            \"noise\": 0.0},\n",
    "\n",
    "        preprocessor_type=\"WindowedStacker\",\n",
    "#         window_length=64,\n",
    "    \n",
    "        agent_type = \"DQN\",\n",
    "        discrete_actions=True,\n",
    "        discrete_action_atoms=3,\n",
    "        double_dqn=True,\n",
    "        dueling=True,\n",
    "        iqn=True,\n",
    "        nTau1=32,\n",
    "        nTau2=8,\n",
    "        k_huber=1,\n",
    "        nstep_return = 5,\n",
    "        tau_soft_update=1e-4,\n",
    "        replay_size=100_000,\n",
    "        replay_min_size=50_000,\n",
    "        batch_size=34,\n",
    "        discount = 0.999,\n",
    "        lot_unit_value=10_000,\n",
    "    \n",
    "        expl_eps_decay=0.999999,\n",
    "    \n",
    "        model_class=\"ConvNet\",\n",
    "        d_model = 1024,\n",
    "        lr=1e-3,\n",
    "\n",
    "    )"
   ]
  },
  {
   "cell_type": "code",
   "execution_count": 3,
   "metadata": {
    "code_folding": [
     1
    ],
    "scrolled": true
   },
   "outputs": [
    {
     "data": {
      "text/plain": [
       "{'basepath': '/media/hemu/Data/Markets/farm',\n",
       " 'experiment_path': '/media/hemu/Data/Markets/farm/SineQ',\n",
       " 'experiment_id': 'SineQ',\n",
       " 'parent_id': '',\n",
       " 'transaction_cost_abs': 0.0,\n",
       " 'transaction_cost_rel': 0.01,\n",
       " 'slippage_abs': 0.0,\n",
       " 'slippage_rel': 0.0,\n",
       " 'env_type': 'Synth',\n",
       " 'init_cash': 1000000,\n",
       " 'required_margin': 1.0,\n",
       " 'maintenance_margin': 0.25,\n",
       " 'assets': ['OU1'],\n",
       " 'lot_unit_value': 100000,\n",
       " 'n_assets': 1,\n",
       " 'discrete_actions': True,\n",
       " 'discrete_action_atoms': 3,\n",
       " 'data_source_type': 'OU',\n",
       " 'data_source_config': {'mean': [10.0],\n",
       "  'theta': [0.15],\n",
       "  'phi': [1.0],\n",
       "  'noise_var': [0.1]},\n",
       " 'preprocessor_type': 'RollerDiscrete',\n",
       " 'preprocessor_config': {'window_length': 64, 'timeframes': [64]},\n",
       " 'agent_type': 'DQN',\n",
       " 'agent_config': {'type': 'DQN',\n",
       "  'nsteps': 1000000,\n",
       "  'replay_size': 100000,\n",
       "  'episode_length': 1024,\n",
       "  'replay_min_size': 50000,\n",
       "  'train_freq': 4,\n",
       "  'target_update_freq': 12000,\n",
       "  'batch_size': 32,\n",
       "  'discrete_action_atoms': 3,\n",
       "  'double_dqn': True,\n",
       "  'dueling': False,\n",
       "  'iqn': False,\n",
       "  'nTau': 32,\n",
       "  'nTau1': 32,\n",
       "  'nTau2': 32,\n",
       "  'k_huber': 1.0,\n",
       "  'tau_embed_size': 64,\n",
       "  'discount': 0.999,\n",
       "  'nstep_return': 3,\n",
       "  'action_atoms': 3,\n",
       "  'tau_soft_update': 0.0001,\n",
       "  'greedy_eps_testing': 0.0,\n",
       "  'eps': 1.0,\n",
       "  'eps_min': 0.1,\n",
       "  'eps_decay': 1e-06,\n",
       "  'reward_clip': (-1.0, 1.0),\n",
       "  'unit_size_proportion_avM': 0.1},\n",
       " 'model_config': {'model_class': 'ConvNet',\n",
       "  'd_model': 256,\n",
       "  'n_layers': 4,\n",
       "  'n_feats': 1,\n",
       "  'action_atoms': 3,\n",
       "  'n_assets': 1,\n",
       "  'dueling': False,\n",
       "  'iqn': False,\n",
       "  'nTau': 32,\n",
       "  'nTau1': 32,\n",
       "  'nTau2': 32,\n",
       "  'tau_embed_size': 64,\n",
       "  'discrete_actions': True,\n",
       "  'discrete_action_atoms': 3,\n",
       "  'lot_unit_value': 100000},\n",
       " 'optim_config': {'type': 'Adam',\n",
       "  'lr': 0.001,\n",
       "  'lr_critic': 0.001,\n",
       "  'lr_actor': 0.0001,\n",
       "  'eps': 1e-08,\n",
       "  'momentum': 0.9,\n",
       "  'betas': (0.9, 0.999),\n",
       "  'weight_decay': 0},\n",
       " 'train_steps': 100000,\n",
       " 'reward_clip': (-1.0, 1.0),\n",
       " 'test_steps': 1000,\n",
       " 'test_freq': 32000,\n",
       " 'log_freq': 10000,\n",
       " 'model_save_freq': 64000}"
      ]
     },
     "execution_count": 3,
     "metadata": {},
     "output_type": "execute_result"
    }
   ],
   "source": [
    "device = 'cuda' if torch.cuda.is_available() else 'cpu'\n",
    "config = make_config(\n",
    "        experiment_id=\"SineQ\",\n",
    "        basepath=\"/media/hemu/Data/Markets/farm\",\n",
    "        test_steps=1_000,\n",
    "        nsteps=1_000_000,\n",
    "        transaction_cost_rel=0.01,\n",
    "    \n",
    "#         assets=[\"Sine1\"],\n",
    "#         data_source_type=\"SineAdder\",\n",
    "#         data_source_config={\n",
    "#             'freq':[2.2, 4.1, 1., 3.],\n",
    "#             'mu':[.6, 0.3, 2., 4.2],\n",
    "#             'amp':[.5, 0.2, 0.4, 1.2],\n",
    "#             'phase':[0., 1., 4., 0.],\n",
    "#             'dX':0.01,\n",
    "#             \"noise\": 0.0},\n",
    "        assets=[\"OU1\"],\n",
    "        data_source_type=\"OU\",\n",
    "        data_source_config=dict(\n",
    "            mean=[10.],\n",
    "            theta=[.15],\n",
    "            phi = [1.],\n",
    "            noise_var = [.1],\n",
    "            \n",
    "        ),\n",
    "\n",
    "#         preprocessor_type=\"WindowedStacker\",\n",
    "#         preprocessor_config=dict(window_length=64)\n",
    "        preprocessor_type=\"RollerDiscrete\",\n",
    "        preprocessor_config=dict(window_length=64,\n",
    "                                timeframes=[64]),\n",
    "        \n",
    "    \n",
    "        agent_type = \"DQN\",\n",
    "        discrete_actions=True,\n",
    "        discrete_action_atoms=3,\n",
    "        double_dqn=True,\n",
    "        nstep_return = 3,\n",
    "        target_update_freq=12000,\n",
    "        replay_size=100_000,\n",
    "        replay_min_size=50_000,\n",
    "        batch_size=32,\n",
    "        discount = 0.999,\n",
    "        lot_unit_value=100_000,\n",
    "    \n",
    "    \n",
    "        model_class=\"ConvNet\",\n",
    "        lr=1e-3,\n",
    "\n",
    "    )\n",
    "config"
   ]
  },
  {
   "cell_type": "markdown",
   "metadata": {},
   "source": [
    "## Env"
   ]
  },
  {
   "cell_type": "code",
   "execution_count": 4,
   "metadata": {
    "code_folding": []
   },
   "outputs": [
    {
     "data": {
      "text/plain": [
       "(array([-0.04537111,  0.65451139,  0.20595817,  2.52742266, -0.3148584 ,\n",
       "        -1.02665268,  0.69694199,  0.72610041, -0.81305556, -0.71625797]),\n",
       " array([-1.,  1.,  1.,  1., -1., -1.,  1.,  1., -1., -1.]))"
      ]
     },
     "execution_count": 4,
     "metadata": {},
     "output_type": "execute_result"
    }
   ],
   "source": [
    "@numba.njit\n",
    "def ternarize_array(arr):\n",
    "    out = np.empty_like(arr)\n",
    "    out[arr<0.] = -1.\n",
    "    out[arr==0.] = 0.\n",
    "    out[arr>0.] = 1.\n",
    "    return out\n",
    "# test\n",
    "ara = np.random.randn(10)\n",
    "out = ternarize_array(ara)\n",
    "ara, out"
   ]
  },
  {
   "cell_type": "code",
   "execution_count": 5,
   "metadata": {
    "scrolled": true
   },
   "outputs": [
    {
     "data": {
      "text/plain": [
       "(array([[ 0.23002662],\n",
       "        [-1.08488509],\n",
       "        [-1.16691569],\n",
       "        [ 0.43633107],\n",
       "        [ 1.21685305],\n",
       "        [ 0.64289338],\n",
       "        [ 0.57820738],\n",
       "        [ 0.55741391],\n",
       "        [-0.31292233],\n",
       "        [ 0.44241306]]),\n",
       " array([[ 1.],\n",
       "        [-1.],\n",
       "        [-1.],\n",
       "        [ 1.],\n",
       "        [ 1.],\n",
       "        [ 1.],\n",
       "        [ 1.],\n",
       "        [ 1.],\n",
       "        [-1.],\n",
       "        [ 1.]]))"
      ]
     },
     "execution_count": 5,
     "metadata": {},
     "output_type": "execute_result"
    }
   ],
   "source": [
    "# @numba.vectorize([numba.int32(numba.int32),\n",
    "#                   numba.int64(numba.int64),\n",
    "#                   numba.float32(numba.float32),\n",
    "#                   numba.float64(numba.float64)])\n",
    "\n",
    "@numba.vectorize([numba.float32(numba.float32),\n",
    "                  numba.float64(numba.float64)])\n",
    "def ternarize_array(val):\n",
    "    if val < 0:\n",
    "        out = -1.\n",
    "    elif val > 0.:\n",
    "        out = 1.\n",
    "    else:\n",
    "        out = 0.\n",
    "    return out\n",
    "# test\n",
    "ara = np.random.randn(10, 1)\n",
    "out = ternarize_array(ara)\n",
    "ara, out"
   ]
  },
  {
   "cell_type": "code",
   "execution_count": 6,
   "metadata": {
    "code_folding": [
     3,
     13
    ]
   },
   "outputs": [],
   "source": [
    "from dataclasses import dataclass\n",
    "\n",
    "@dataclass\n",
    "class BrokerResponse:\n",
    "    event: str\n",
    "    timestamp: int\n",
    "    transPrice: float\n",
    "    transUnits: float\n",
    "    transCost: float\n",
    "    riskInfo: object\n",
    "    marginCall: bool\n",
    "\n",
    "@dataclass\n",
    "class EnvInfo:\n",
    "    brokerResponse: BrokerResponse\n",
    "    exiting: bool\n",
    "        "
   ]
  },
  {
   "cell_type": "code",
   "execution_count": 7,
   "metadata": {
    "code_folding": [
     0
    ]
   },
   "outputs": [],
   "source": [
    "class EnvTernary(EnvC):\n",
    "    def step(self, actions: np.ndarray = None):\n",
    "        \"\"\"\n",
    "        If actions is None, no transaction is attempted and dataSource is iterated to\n",
    "        get new prices\n",
    "        If actions is passed, a transaction/s is attempted. Can only Reverse Positions, not add to \n",
    "        or close.\n",
    "        Hence EnvBinary.\n",
    "        \"\"\"\n",
    "\n",
    "        if actions is None: # no transaction\n",
    "            prevEq = self.portfolio.equity\n",
    "            newPrices = self.dataSource.getData()\n",
    "            newEq = self.portfolio.equity\n",
    "            reward = (newEq-prevEq) / prevEq\n",
    "            risk = self.portfolio.checkRisk()\n",
    "            done = False if risk == RiskInfo.green else True\n",
    "\n",
    "            return (State(newPrices, np.array(self.ledgerNormed, copy=True),\n",
    "                          self.dataSource.currentTime),\n",
    "                    reward, done, EnvInfo(BrokerResponse(\"\", 0, 0., 0., 0., \n",
    "                                                             risk, done), False))\n",
    "        else:\n",
    "            if not isinstance(actions, np.ndarray):\n",
    "                raise TypeError(\"action must be an np array\")\n",
    "\n",
    "            prevEq = self.portfolio.equity\n",
    "            newPrices = self.dataSource.getData()\n",
    "            newEq = self.portfolio.equity\n",
    "            reward = newEq / prevEq \n",
    "            reward = math.log(max(reward, 0.3))\n",
    "\n",
    "            ledger_ternary = self.ledgerTernary\n",
    "            actions_ternary = actions - 1\n",
    "#             actions_ternary[ledger_ternary == actions_ternary] = 0.\n",
    "            units = (0.2*self.availableMargin) / self.currentPrices\n",
    "            transactions = actions_ternary * units\n",
    "\n",
    "#             exiting = False\n",
    "            assets = np.where(transactions!=0.)[0]\n",
    "            for i, asset in enumerate(assets): # implicit if len(assets)\n",
    "                reward -= self.transaction_cost_rel\n",
    "#                 if self.ledger[i] != 0:\n",
    "#                     exiting = True\n",
    "#                     self.broker.close(int(asset))\n",
    "                    \n",
    "            broker_response_multi = self.broker.handleTransaction(transactions)\n",
    "            \n",
    "            done = False\n",
    "            if broker_response_multi.marginCall:\n",
    "                done=True\n",
    "            for _risk in broker_response_multi.riskInfo:\n",
    "                if _risk != RiskInfo.green:\n",
    "                    done = True\n",
    "#             if exiting:\n",
    "#                 done = True\n",
    "            if self.equity < 0.1 * self.portfolio.initCash:\n",
    "                done = True\n",
    "                print('equity: ', self.equity)\n",
    "\n",
    "            return (State(newPrices, np.array(self.ledgerNormed, copy=True),\n",
    "                          self.dataSource.currentTime),\n",
    "                    reward, done, EnvInfo(broker_response_multi, 0.))\n",
    "\n",
    "    @property\n",
    "    def ledgerTernary(self):\n",
    "        ara = np.array(self.ledger, copy=True)\n",
    "        return ternarize_array(ara)\n",
    "    "
   ]
  },
  {
   "cell_type": "code",
   "execution_count": 8,
   "metadata": {
    "code_folding": [
     0
    ]
   },
   "outputs": [],
   "source": [
    "# def make_env(config):\n",
    "#     assets = Assets(config.assets)\n",
    "#     env = EnvTernary(config.data_source_type, assets, config.init_cash, config)\n",
    "#     env.lot_unit = config.lot_unit_value\n",
    "#     env.action_atoms = config.discrete_action_atoms\n",
    "#     env.transaction_cost_rel = config.transaction_cost_rel\n",
    "# #     env.setTransactionCost\n",
    "#     return env"
   ]
  },
  {
   "cell_type": "code",
   "execution_count": 9,
   "metadata": {},
   "outputs": [
    {
     "name": "stdout",
     "output_type": "stream",
     "text": [
      "reward: 0.0\n",
      "reward: -0.00032715162478418324\n",
      "[10.22411063] 1000000.0 1000000.0 [0.] 1000000.0\n"
     ]
    }
   ],
   "source": [
    "env = make_env(config)\n",
    "srdi = env.step(np.array([10000]))\n",
    "print('reward:', srdi[1])\n",
    "print('reward:', env.step()[1])\n",
    "env.step(np.array([0]))\n",
    "env.reset()\n",
    "print(env.currentPrices, env.cash, env.equity, env.ledger, env.availableMargin)"
   ]
  },
  {
   "cell_type": "code",
   "execution_count": 10,
   "metadata": {},
   "outputs": [
    {
     "data": {
      "text/plain": [
       "array([992.35499962])"
      ]
     },
     "execution_count": 10,
     "metadata": {},
     "output_type": "execute_result"
    }
   ],
   "source": [
    "srdi[3].brokerResponse.transactionCost"
   ]
  },
  {
   "cell_type": "code",
   "execution_count": 11,
   "metadata": {},
   "outputs": [],
   "source": [
    "from rollers import Roller\n",
    "from madigan.utils.preprocessor import RollerDiscrete\n",
    "roller = Roller(timeframes=[64])"
   ]
  },
  {
   "cell_type": "code",
   "execution_count": 12,
   "metadata": {},
   "outputs": [],
   "source": [
    "out = []\n",
    "for i in range(64):\n",
    "    env.step()\n",
    "    out.append(roller.roll(env.currentPrices))\n",
    "    "
   ]
  },
  {
   "cell_type": "code",
   "execution_count": 13,
   "metadata": {},
   "outputs": [
    {
     "data": {
      "text/plain": [
       "(64, 8)"
      ]
     },
     "execution_count": 13,
     "metadata": {},
     "output_type": "execute_result"
    }
   ],
   "source": [
    "rolled = np.concatenate([o[:, :, 0] for o in out], axis=0)\n",
    "rolled.shape "
   ]
  },
  {
   "cell_type": "code",
   "execution_count": 14,
   "metadata": {
    "code_folding": [
     3
    ]
   },
   "outputs": [],
   "source": [
    "from collections import deque\n",
    "import sklearn.preprocessing\n",
    "\n",
    "class Preprocessor:\n",
    "    def __init__(self, window_len):\n",
    "        self.k = window_len\n",
    "        self.min_tf = self.k\n",
    "        self.price_buffer = deque(maxlen=self.k)\n",
    "        self.portfolio_buffer = deque(maxlen=self.k)\n",
    "        self.time_buffer = deque(maxlen=self.k)\n",
    "        self.feature_output_size = 12\n",
    "\n",
    "    def __len__(self):\n",
    "        return len(self.price_buffer)\n",
    "\n",
    "    def stream_srdi(self, srdi):\n",
    "        self.price_buffer.append(srdi[0].price)\n",
    "        self.portfolio_buffer.append(srdi[0].portfolio)\n",
    "        self.time_buffer.append(srdi[0].timestamp)\n",
    "\n",
    "    def stream_state(self, state):\n",
    "        self.price_buffer.append(np.array(state.price, copy=True))\n",
    "        self.portfolio_buffer.append(np.array(state.portfolio, copy=True))\n",
    "        self.time_buffer.append(np.array(state.timestamp, copy=True))\n",
    "\n",
    "    def stream(self, data):\n",
    "        if isinstance(data, tuple): # assume srdi\n",
    "            self.stream_srdi(data)\n",
    "        elif isinstance(data, (StateA, State)):\n",
    "            self.stream_state(data)\n",
    "\n",
    "    def current_data(self):\n",
    "        prices = np.array(self.price_buffer, copy=True)\n",
    "        prices = sklearn.preprocessing.minmax_scale(prices)\n",
    "        features = np.empty(self.feature_output_size)\n",
    "        for i, window in enumerate([3, 5, 7, 11]):\n",
    "            features[i] = np.mean(prices[-window:])\n",
    "            features[i+4] = np.var(prices[-window:])\n",
    "        features[8] = prices.min()\n",
    "        features[9] = prices.max()\n",
    "        features[10] = prices[0]\n",
    "        features[11] = prices[-1]\n",
    "        return State(features.reshape(-1, 1) ,\n",
    "                     self.portfolio_buffer[-1],\n",
    "                     self.time_buffer[-1])\n",
    "\n",
    "    def initialize_history(self, env):\n",
    "        while len(self) < self.k:\n",
    "            _state, reward, done, info = env.step()\n",
    "            self.stream_state(_state)\n",
    "\n",
    "from rollers import Roller as _Roller\n",
    "class RollerDiscrete:\n",
    "    \"\"\"\n",
    "    Wraps Roller to accumulate rolling window features\n",
    "    using discrete windows\n",
    "    Single Price Series.\n",
    "    \"\"\"\n",
    "    def __init__(self, timeframes: list, window_len=64):\n",
    "        self.timeframes = timeframes\n",
    "        self.k = window_len\n",
    "        self._roller = _Roller(timeframes)\n",
    "        self.min_tf = max(self._roller.timeframes_uint64_t)\n",
    "        self.price_buffer = deque(maxlen=self.k)\n",
    "        self.feature_buffer = deque(maxlen=self.k)\n",
    "        self.portfolio_buffer = deque(maxlen=self.k)\n",
    "        self.time_buffer = deque(maxlen=self.k)\n",
    "        self.feature_output_size = 8*len(self.timeframes)\n",
    "\n",
    "    def __len__(self):\n",
    "        return len(self.price_buffer)\n",
    "\n",
    "    def stream_srdi(self, srdi):\n",
    "        self.stream_state(srdi[0])\n",
    "\n",
    "    def stream_state(self, state):\n",
    "        self.price_buffer.append(state.price)\n",
    "        self.portfolio_buffer.append(state.portfolio)\n",
    "        self.time_buffer.append(state.timestamp)\n",
    "        feats = np.nan_to_num(self._roller.roll(state.price, \n",
    "                                               np.array([state.timestamp]))\n",
    "                             )\n",
    "        self.feature_buffer.append(feats)\n",
    "\n",
    "    def stream(self, data):\n",
    "        if isinstance(data, tuple): # assume srdi\n",
    "            self.stream_srdi(data)\n",
    "        elif isinstance(data, (StateA, State)):\n",
    "            self.stream_state(data)\n",
    "\n",
    "    def current_data(self):\n",
    "        current_len = len(self.price_buffer)\n",
    "        prices = np.array(self.price_buffer, copy=True)\n",
    "        current_price = prices[-1, 0]\n",
    "        feats = np.concatenate(self.feature_buffer, axis=0)\n",
    "        feats[:, :4, :] /= current_price\n",
    "        prices /= current_price\n",
    "        feats = feats.reshape(current_len,-1)\n",
    "        feats = np.concatenate([prices, feats], axis=1)\n",
    "        return State(feats,\n",
    "                     self.portfolio_buffer[-1],\n",
    "                     self.time_buffer[-1])\n",
    "\n",
    "    def initialize_history(self, env):\n",
    "        while len(self) < self.k:\n",
    "            _state, reward, done, info = env.step()\n",
    "            self.stream_state(_state)"
   ]
  },
  {
   "cell_type": "code",
   "execution_count": 15,
   "metadata": {},
   "outputs": [
    {
     "data": {
      "text/plain": [
       "(64, 9)"
      ]
     },
     "execution_count": 15,
     "metadata": {},
     "output_type": "execute_result"
    }
   ],
   "source": [
    "preproc = RollerDiscrete(timeframes=[64], window_len=64)\n",
    "preproc.initialize_history(env)\n",
    "preproc.current_data().price.shape"
   ]
  },
  {
   "cell_type": "code",
   "execution_count": null,
   "metadata": {},
   "outputs": [],
   "source": []
  },
  {
   "cell_type": "code",
   "execution_count": null,
   "metadata": {},
   "outputs": [],
   "source": []
  },
  {
   "cell_type": "code",
   "execution_count": 16,
   "metadata": {},
   "outputs": [],
   "source": [
    "def make_preprocessor(config):\n",
    "    if config.preprocessor_type == \"Custom\":\n",
    "        return Preprocessor(config.preprocessor_config.window_length)\n",
    "#     if config.preprocessor_type == \"RollerDiscrete\":\n",
    "#         return RollerDiscrete(config.preprocessor_config.timeframes, config.preprocessor_config.window_length)\n",
    "    return _make_preprocessor(config)"
   ]
  },
  {
   "cell_type": "code",
   "execution_count": 17,
   "metadata": {},
   "outputs": [
    {
     "data": {
      "text/plain": [
       "[<matplotlib.lines.Line2D at 0x7f7a84734610>,\n",
       " <matplotlib.lines.Line2D at 0x7f7a84734850>,\n",
       " <matplotlib.lines.Line2D at 0x7f7a84734a10>,\n",
       " <matplotlib.lines.Line2D at 0x7f7a84734bd0>,\n",
       " <matplotlib.lines.Line2D at 0x7f7a84734d90>,\n",
       " <matplotlib.lines.Line2D at 0x7f7a84734f50>,\n",
       " <matplotlib.lines.Line2D at 0x7f7a847411d0>,\n",
       " <matplotlib.lines.Line2D at 0x7f7a84741390>,\n",
       " <matplotlib.lines.Line2D at 0x7f7a84734d50>]"
      ]
     },
     "execution_count": 17,
     "metadata": {},
     "output_type": "execute_result"
    },
    {
     "data": {
      "image/png": "[encoded data removed]",
      "text/plain": [
       "<Figure size 576x432 with 1 Axes>"
      ]
     },
     "metadata": {
      "needs_background": "light"
     },
     "output_type": "display_data"
    }
   ],
   "source": [
    "from IPython.core.pylabtools import figsize\n",
    "figsize(8, 6)\n",
    "\n",
    "preprocessor = make_preprocessor(config)\n",
    "env.currentPrices\n",
    "preprocessor.initialize_history(env)\n",
    "current_data = preprocessor.current_data().price\n",
    "plt.plot(current_data[:, :])\n",
    "# env.reset()"
   ]
  },
  {
   "cell_type": "markdown",
   "metadata": {},
   "source": [
    "## Agent"
   ]
  },
  {
   "cell_type": "code",
   "execution_count": 18,
   "metadata": {
    "code_folding": []
   },
   "outputs": [],
   "source": [
    "import torch.nn.functional as F\n",
    "from madigan.utils import DiscreteRangeSpace, DiscreteActionSpace\n",
    "\n",
    "class AgentLM:\n",
    "    def __init__(self, config, feature_input_shape, env, device=None):\n",
    "        self.device = device or ('cuda' if torch.cuda.is_available() else 'cpu')\n",
    "        self._env = env\n",
    "        \n",
    "        self.action_atoms = config.discrete_action_atoms\n",
    "        self.lot_unit_value = config.lot_unit_value\n",
    "        self.unit_size = config.agent_config.unit_size_proportion_avM\n",
    "        actions = [self.lot_unit_value*action - self.action_atoms//2 for action in range(self.action_atoms)]\n",
    "        probs = [1/len(actions) for i in actions]\n",
    "#         self._action_space = DiscreteActionSpace(actions, probs, len(config.assets))\n",
    "#         self._action_space = DiscreteRangeSpace((0, 2), len(config.assets))\n",
    "#         input_size = config.preprocessor_config.window_length + len(config.assets)\n",
    "        feature_input_size = feature_input_shape[0]\n",
    "        input_size = feature_input_size + len(config.assets)\n",
    "        self.model_b = nn.Linear(input_size, self.action_atoms).to(device).float()\n",
    "        self.model_t = nn.Linear(input_size, self.action_atoms).to(device).float()\n",
    "        \n",
    "        self.dueling = config.model_config.dueling\n",
    "        self.double_dqn = config.agent_config.double_dqn\n",
    "        self.discount = config.agent_config.discount\n",
    "        self.nstep_return = config.agent_config.nstep_return\n",
    "        \n",
    "        self.opt = torch.optim.Adam(self.model_b.parameters(), lr=config.optim_config.lr)\n",
    "        \n",
    "        self.tau_soft_update = config.agent_config.tau_soft_update\n",
    "        self.config = config\n",
    "        \n",
    "    @property\n",
    "    def env(self):\n",
    "        return self._env\n",
    "    \n",
    "    @property\n",
    "    def action_space(self):\n",
    "        units = self.unit_size * self.env.availableMargin / self.env.currentPrices\n",
    "        units *= np.array([-1., 0., 1.])\n",
    "        return DiscreteActionSpace(units, probs=[])\n",
    "        actions = np.random.choice([-1., 0., 1.], len(units))\n",
    "        actions *= units\n",
    "        return self._action_space\n",
    "    \n",
    "    def prep_state(self, x):\n",
    "        price = x.price[None, ..., 0]\n",
    "        x = np.concatenate([price, x.portfolio[None, ...]], axis=-1)\n",
    "        return torch.from_numpy(x).float().to(self.device)\n",
    "    \n",
    "    def get_qvals(self, x, target=False):\n",
    "        x = self.prep_state(x)\n",
    "        if target:\n",
    "            qvals = self.model_t(x)\n",
    "        else:\n",
    "            qvals = self.model_b(x)\n",
    "        return qvals.detach()\n",
    "    \n",
    "    def action_to_transaction(self, actions):\n",
    "        units = self.unit_size * self.env.availableMargin / self.env.currentPrices\n",
    "        actions_ternary = (actions - (self.action_atoms // 2)).cpu().numpy()\n",
    "        return units * actions_ternary\n",
    "        \n",
    "    @torch.no_grad()\n",
    "    def __call__(self, x, target=False):\n",
    "        qvals = self.get_qvals(x, target=target)\n",
    "        actions = qvals.max(-1)[1]\n",
    "        return self.action_to_transaction(actions)\n",
    "        \n",
    "    def prep_sarsd(self, sarsd):\n",
    "        state = State(\n",
    "            price = torch.as_tensor(sarsd.state.price[..., 0], \n",
    "                                    dtype=torch.float32).to(self.device),\n",
    "            portfolio = torch.as_tensor(sarsd.state.portfolio, \n",
    "                                        dtype=torch.float32).to(self.device),\n",
    "            timestamp = sarsd.state.timestamp\n",
    "        )\n",
    "#         action = np.rint(sarsd.action // self.lot_unit_value) + self.action_atoms//2\n",
    "        action = ternarize_array(sarsd.action) + self.action_atoms // 2\n",
    "        action = torch.as_tensor(action, dtype=torch.long, device=self.device)[..., 0]\n",
    "        reward = torch.as_tensor(sarsd.reward, dtype=torch.float32, device=self.device)\n",
    "        next_state = State(\n",
    "            price = torch.as_tensor(sarsd.next_state.price[..., 0], \n",
    "                                    dtype=torch.float32, device=self.device),\n",
    "            portfolio = torch.as_tensor(sarsd.next_state.portfolio, \n",
    "                                        dtype=torch.float32, device=self.device),\n",
    "            timestamp = sarsd.next_state.timestamp\n",
    "        )\n",
    "        done = torch.as_tensor(sarsd.done, dtype=torch.bool, device=self.device)\n",
    "        state = torch.cat([state.price, state.portfolio], dim=-1)\n",
    "        next_state = torch.cat([next_state.price, next_state.portfolio], dim=-1)\n",
    "        return state, action, reward, next_state, done\n",
    "    \n",
    "    def loss_fn(self, Qt, Gt):\n",
    "        return F.smooth_l1_loss(Qt, Gt)\n",
    "    \n",
    "    @torch.no_grad()\n",
    "    def get_Gt(self, reward, next_state, done):\n",
    "        if self.double_dqn:\n",
    "            behaviour_actions = self.model_b(next_state).max(-1)[1]\n",
    "            one_hot = F.one_hot(behaviour_actions, self.action_atoms).to(self.device)\n",
    "            greedy_qvals_next = (self.model_t(next_state)*one_hot).sum(-1)\n",
    "        else:\n",
    "            greedy_qvals_next = self.model_t(next_state).max(-1)[0]\n",
    "        Gt = reward[:, None] + (~done[:, None] * (self.discount**self.nstep_return) * greedy_qvals_next)\n",
    "        return Gt\n",
    "            \n",
    "    def train_step(self, sarsd):\n",
    "        state, action, reward, next_state, done = self.prep_sarsd(sarsd)\n",
    "        self.opt.zero_grad()\n",
    "        action_mask = F.one_hot(action, self.action_atoms).to(self.device)\n",
    "        qvals = self.model_b(state)\n",
    "        assert qvals.shape[1:] == (len(self.config.assets), self.action_atoms)\n",
    "        Qt = (qvals*action_mask).sum(-1)\n",
    "        assert Qt.shape[1:] == (len(self.config.assets), )\n",
    "        Gt = self.get_Gt(reward, next_state, done)\n",
    "        assert Qt.shape == Gt.shape\n",
    "        \n",
    "        loss = self.loss_fn(Qt, Gt)\n",
    "        loss.backward()\n",
    "        self.opt.step()\n",
    "        \n",
    "        td_error = (Gt-Qt).abs().mean().detach().item()\n",
    "        \n",
    "        self.update_target()\n",
    "        \n",
    "        return {'loss': loss.detach().item(), 'td_error': td_error, 'Qt': Qt.detach(), 'Gt': Gt.detach()}\n",
    "    \n",
    "    def update_target(self):\n",
    "        \"\"\"\n",
    "        Soft Update \n",
    "        \"\"\"\n",
    "        for behaviour, target in zip(self.model_b.parameters(), self.model_t.parameters()):\n",
    "            target.data.copy_(self.tau_soft_update * behaviour.data + \\\n",
    "                              (1.-self.tau_soft_update)*target.data)\n",
    "#         self.model_t.load_state_dict(self.model_b.state_dict())\n",
    "        "
   ]
  },
  {
   "cell_type": "code",
   "execution_count": 19,
   "metadata": {
    "code_folding": [
     0
    ]
   },
   "outputs": [],
   "source": [
    "class AgentMLP(AgentLM):\n",
    "    def __init__(self, config, feature_input_shape, env, device=None):\n",
    "        super().__init__(config, feature_input_shape, env, device)\n",
    "        d_model = config.model_config.d_model\n",
    "        input_size = feature_input_shape[0] + len(config.assets)\n",
    "        self.model_b = nn.Sequential(nn.Linear(input_size, d_model), nn.ReLU(), \n",
    "                                     nn.Linear(d_model, self.action_atoms)).to(device).float()\n",
    "        self.model_t = nn.Sequential(nn.Linear(input_size, d_model), nn.ReLU(), \n",
    "                                     nn.Linear(d_model, self.action_atoms)).to(device).float()        \n",
    "        self.opt = torch.optim.Adam(self.model_b.parameters(), lr=config.optim_config.lr)\n"
   ]
  },
  {
   "cell_type": "code",
   "execution_count": 20,
   "metadata": {
    "code_folding": [
     2
    ]
   },
   "outputs": [],
   "source": [
    "from madigan.utils import calc_conv_out_shape\n",
    "from madigan.fleet.net.conv_net import ConvNet\n",
    "\n",
    "class DuelingHead(nn.Module):\n",
    "    \"\"\"\n",
    "    Replace normal output layer in DQN with this for Dueling Network Architectures\n",
    "    See: https://arxiv.org/pdf/1511.06581.pdf\n",
    "    \"\"\"\n",
    "\n",
    "    def __init__(self, d_in, d_out):\n",
    "        super().__init__()\n",
    "        self.value_net = nn.Linear(d_in, 1)\n",
    "        self.adv_net = nn.Linear(d_in, d_out)\n",
    "    def forward(self, x):\n",
    "        value = self.value_net(x)\n",
    "        adv = self.adv_net(x)\n",
    "        qvals = value + adv - adv.mean(-1, keepdim=True)\n",
    "        return qvals\n",
    "    \n",
    "class _ConvModel(nn.Module):\n",
    "    def __init__(self, config, feature_input_shape):\n",
    "        super().__init__()\n",
    "        nassets = len(config.assets)\n",
    "        d_model = config.model_config.d_model\n",
    "        nactions = config.discrete_action_atoms\n",
    "        self.conv1 = nn.Conv1d(1, 32, 5)\n",
    "        self.conv2 = nn.Conv1d(32, 32, 5)\n",
    "        out_shape = calc_conv_out_shape(feature_input_shape[0], [self.conv1, self.conv2])\n",
    "        self.fc1 = nn.Linear(nassets+out_shape[0]*32, d_model)\n",
    "        if config.model_config.dueling:\n",
    "            self.output_head = DuelingHead(d_model, nactions)\n",
    "        else:\n",
    "            self.output_head = nn.Linear(d_model, nactions)\n",
    "        self.act = nn.GELU()     \n",
    "        \n",
    "    def forward(self, state):\n",
    "        price = state.price.transpose(-1, -2)\n",
    "        portfolio = state.portfolio\n",
    "        price_emb = self.act(self.conv1(price))\n",
    "        price_emb = self.act(self.conv2(price_emb)).view(price.shape[0], -1)\n",
    "\n",
    "        full_emb = torch.cat([price_emb, portfolio], dim=-1)\n",
    "        out = self.act(self.fc1(full_emb))\n",
    "\n",
    "        out = self.output_head(out)\n",
    "        return out\n",
    "        \n",
    "class AgentCNN(AgentLM):\n",
    "    def __init__(self, config, feature_input_shape, env, device=None):\n",
    "        super().__init__(config, feature_input_shape, env, device)\n",
    "#         self.model_b = ConvModel(config, feature_input_shape).to(device).float()\n",
    "#         self.model_t = ConvModel(config, feature_input_shape).to(device).float()\n",
    "        n_assets = len(config.assets)\n",
    "        n_actions = config.discrete_action_atoms\n",
    "        self.model_b = ConvNet(feature_input_shape, (n_assets, n_actions),\n",
    "                              d_model=config.model_config.d_model,\n",
    "                              dueling=True, preserve_window_len=False).to(device).float()\n",
    "        self.model_t = ConvNet(feature_input_shape, (n_assets, n_actions),\n",
    "                              d_model=config.model_config.d_model,\n",
    "                              dueling=True, preserve_window_len=False).to(device).float()\n",
    "\n",
    "        self.opt = torch.optim.Adam(self.model_b.parameters(), lr=config.optim_config.lr)\n",
    "        \n",
    "    def prep_state(self, state, batch=False):\n",
    "        if not batch:\n",
    "            price = torch.as_tensor(state.price[None, ...], dtype=torch.float32).to(self.device)\n",
    "            port = torch.as_tensor(state.portfolio[None, -1], dtype=torch.float32).to(self.device)\n",
    "        else:\n",
    "            price = torch.as_tensor(state.price, dtype=torch.float32).to(self.device)\n",
    "            port = torch.as_tensor(state.portfolio[:, -1], dtype=torch.float32).to(self.device)\n",
    "#         timestamp = torch.as_tensor(state.timestamp)\n",
    "        return State(price, port, state.timestamp)\n",
    "\n",
    "    def prep_sarsd(self, sarsd):\n",
    "        state = self.prep_state(sarsd.state, batch=True)\n",
    "#         action = np.rint(sarsd.action // self.lot_unit_value) + self.action_atoms//2\n",
    "        action = ternarize_array(sarsd.action) + self.action_atoms // 2\n",
    "        action = torch.as_tensor(action, dtype=torch.long, device=self.device)[..., 0]\n",
    "        reward = torch.as_tensor(sarsd.reward, dtype=torch.float32, device=self.device)\n",
    "        next_state = self.prep_state(sarsd.next_state, batch=True)\n",
    "        done = torch.as_tensor(sarsd.done, dtype=torch.bool, device=self.device)\n",
    "        return state, action, reward, next_state, done"
   ]
  },
  {
   "cell_type": "code",
   "execution_count": 21,
   "metadata": {
    "code_folding": []
   },
   "outputs": [],
   "source": [
    "class DuelingHeadIQN(nn.Module):\n",
    "    \"\"\"\n",
    "    Replace normal output layer in DQN with this for Dueling Network Architectures\n",
    "    See: https://arxiv.org/pdf/1511.06581.pdf\n",
    "    \"\"\"\n",
    "\n",
    "    def __init__(self, d_in, d_out):\n",
    "        super().__init__()\n",
    "        self.value_net = nn.Linear(d_in, 1)\n",
    "        self.adv_net = nn.Linear(d_in, d_out)\n",
    "    def forward(self, x):\n",
    "        value = self.value_net(x)\n",
    "        adv = self.adv_net(x)\n",
    "        qvals = value + adv - adv.mean(-1, keepdim=True)\n",
    "        return qvals\n",
    "    \n",
    "class TauEmbedLayer(nn.Module):\n",
    "    \"\"\"\n",
    "    For use in distributional DQN approach I.e IQN, FQF\n",
    "    \"\"\"\n",
    "    def __init__(self, d_embed, d_model):\n",
    "        super().__init__()\n",
    "        self.d_embed = d_embed\n",
    "        self.projection = nn.Linear(d_embed, d_model)\n",
    "        self.act = nn.GELU()\n",
    "        self.spectrum_range = math.pi* torch.arange(1, self.d_embed+1, \n",
    "                                           dtype=torch.float).view(1, 1, self.d_embed)\n",
    "        \n",
    "    def forward(self, tau):\n",
    "        # embed using cos - like transformers\n",
    "        spectrum = tau[:, :, None] * self.spectrum_range.to(tau.device)\n",
    "        basis = torch.cos(spectrum)\n",
    "        embedded = self.act(self.projection(basis))\n",
    "        return embedded\n",
    "    \n",
    "    \n",
    "class ConvModelIQN(nn.Module):\n",
    "    def __init__(self, config, feature_input_shape):\n",
    "        super().__init__()\n",
    "        nassets = len(config.assets)\n",
    "        d_model = config.model_config.d_model\n",
    "        tau_embed_size = config.agent_config.tau_embed_size\n",
    "        nactions = config.discrete_action_atoms\n",
    "        self.nTau = config.agent_config.nTau1\n",
    "        self.conv1 = nn.Conv1d(1, 32, 5)\n",
    "        self.conv2 = nn.Conv1d(32, 32, 5)\n",
    "        self.tau_embed_layer = TauEmbedLayer(tau_embed_size, d_model)\n",
    "        out_shape = calc_conv_out_shape(feature_input_shape[0], [self.conv1, self.conv2])\n",
    "        self.fc1 = nn.Linear(nassets+out_shape[0]*32, d_model)\n",
    "        if config.model_config.dueling:\n",
    "            self.output_head = DuelingHeadIQN(d_model, nactions)\n",
    "        else:\n",
    "            self.output_head = nn.Linear(d_model, nactions)\n",
    "        self.act = nn.GELU()     \n",
    "        \n",
    "    def forward(self, state, tau=None):\n",
    "        \n",
    "        price = state.price.transpose(-1, -2)\n",
    "        portfolio = state.portfolio\n",
    "        price_emb = self.act(self.conv1(price))\n",
    "        price_emb = self.act(self.conv2(price_emb)).view(price.shape[0], -1)\n",
    "\n",
    "        state_emb = torch.cat([price_emb, portfolio], dim=-1)\n",
    "        state_emb = self.act(self.fc1(state_emb))\n",
    "        if tau is None:\n",
    "            tau = torch.rand(state.price.shape[0], self.nTau,\n",
    "                            dtype=torch.float, device=state.price.device)\n",
    "        tau_emb = self.tau_embed_layer(tau)\n",
    "        full_emb = state_emb.unsqueeze(1) * tau_emb # (bs, nTau, d_model)\n",
    "        quantiles = self.output_head(full_emb) # (bs, nTau, n_actions)\n",
    "        return quantiles\n",
    "\n",
    "from madigan.fleet.net.conv_net_iqn import ConvNetIQN\n",
    "\n",
    "class AgentCNN_IQN(AgentLM):\n",
    "    def __init__(self, config, feature_input_shape, env, device=None):\n",
    "        super().__init__(config, feature_input_shape, env, device)\n",
    "        self.n_assets = len(config.assets)\n",
    "        self.n_actions = config.discrete_action_atoms\n",
    "        self.model_b = ConvNetIQN(feature_input_shape, (self.n_assets, self.n_actions),\n",
    "                              d_model=config.model_config.d_model,\n",
    "                              dueling=True, preserve_window_len=False,\n",
    "                              tau_embed_size=config.model_config.tau_embed_size,\n",
    "                              nTau=config.model_config.nTau).to(device).float()\n",
    "        self.model_t = ConvNetIQN(feature_input_shape, (self.n_assets, self.n_actions),\n",
    "                              d_model=config.model_config.d_model,\n",
    "                              dueling=True, preserve_window_len=False,\n",
    "                              tau_embed_size=config.model_config.tau_embed_size,\n",
    "                              nTau=config.model_config.nTau).to(device).float()\n",
    "        self.opt = torch.optim.Adam(self.model_b.parameters(), lr=config.optim_config.lr)\n",
    "        self.nTau1 = config.agent_config.nTau1\n",
    "        self.nTau2 = config.agent_config.nTau2\n",
    "        self.k_huber = config.agent_config.k_huber\n",
    "        self.risk_distortion = lambda x: x\n",
    "        \n",
    "    def prep_state(self, state, batch=False):\n",
    "        if not batch:\n",
    "            price = torch.as_tensor(state.price[None, ...], dtype=torch.float32).to(self.device)\n",
    "            port = torch.as_tensor(state.portfolio[None, -1], dtype=torch.float32).to(self.device)\n",
    "        else:\n",
    "            price = torch.as_tensor(state.price, dtype=torch.float32).to(self.device)\n",
    "            port = torch.as_tensor(state.portfolio[:, -1], dtype=torch.float32).to(self.device)\n",
    "#         timestamp = torch.as_tensor(state.timestamp)\n",
    "\n",
    "        return State(price, port, state.timestamp)\n",
    "\n",
    "    def prep_sarsd(self, sarsd):\n",
    "        state = self.prep_state(sarsd.state, batch=True)\n",
    "#         action = np.rint(sarsd.action // self.lot_unit_value) + self.action_atoms//2\n",
    "        action = ternarize_array(sarsd.action) + self.action_atoms // 2\n",
    "        action = torch.as_tensor(action, dtype=torch.long, device=self.device)[..., 0]\n",
    "        reward = torch.as_tensor(sarsd.reward, dtype=torch.float32, device=self.device)\n",
    "        next_state = self.prep_state(sarsd.next_state, batch=True)\n",
    "        done = torch.as_tensor(sarsd.done, dtype=torch.bool, device=self.device)\n",
    "        return state, action, reward, next_state, done\n",
    "    \n",
    "    def get_quantiles(self, x, target=False):\n",
    "        x = self.prep_state(x)\n",
    "        if target:\n",
    "            quantiles = self.model_t(x)\n",
    "        else:\n",
    "            quantiles = self.model_b(x)\n",
    "        return quantiles.detach()\n",
    "    \n",
    "    def get_qvals(self, x, target=False):\n",
    "        quantiles = self.get_quantiles(x, target=target)   \n",
    "        qvals = quantiles.mean(1)\n",
    "        return qvals.detach()\n",
    "        \n",
    "    @torch.no_grad()\n",
    "    def __call__(self, x, target=False):\n",
    "        qvals = self.get_qvals(x, target=target)\n",
    "        actions = qvals.max(-1)[1]\n",
    "        return self.action_to_transaction(actions)\n",
    "    \n",
    "    def get_Gt(self, reward, done, next_state):\n",
    "        with torch.no_grad():\n",
    "            tau_greedy = torch.rand(next_state.price.shape[0], self.nTau1, \n",
    "                                    dtype=torch.float, device=next_state.price.device,\n",
    "                                   requires_grad=False)\n",
    "            tau_greedy = self.risk_distortion(tau_greedy)\n",
    "            tau2 = torch.rand(next_state.price.shape[0], self.nTau2, \n",
    "                                dtype=torch.float, device=next_state.price.device,\n",
    "                                 requires_grad=False)\n",
    "            if self.double_dqn:\n",
    "                greedy_quantiles = self.model_b(next_state, tau=tau_greedy) #(bs, nTau1, nactions)\n",
    "            else:\n",
    "                greedy_quantiles = self.model_t(next_state, tau=tau_greedy) #(bs, nTau1, nactions)\n",
    "            greedy_actions = torch.argmax(greedy_quantiles.mean(1), dim=-1, keepdim=True) #(bs, 1)\n",
    "            assert greedy_actions.shape[1:] == (self.n_assets, 1)\n",
    "            one_hot_greedy = F.one_hot(greedy_actions, self.action_atoms).to(next_state.price.device)\n",
    "            quantiles_next_full = self.model_t(next_state, tau=tau2) #(bs, nTau2, nactions)\n",
    "            quantiles_next = (quantiles_next_full * one_hot_greedy).sum(-1) #(bs, nTau2)\n",
    "            # Add dim to reward and done to broadcast opeartions with quantiles_next \n",
    "#             import ipdb; ipdb.set_trace()\n",
    "            Gt = reward[:, None, None] + (~done[:, None, None] *\\\n",
    "                                          (self.discount**self.nstep_return) *\\\n",
    "                                          quantiles_next)\n",
    "            return Gt\n",
    "        \n",
    "    def train_step(self, sarsd):\n",
    "#         before_train = torch.cuda.memory_allocated()\n",
    "        state, action, reward, next_state, done = self.prep_sarsd(sarsd)\n",
    "        self.opt.zero_grad()\n",
    "        \n",
    "        tau1 = torch.rand(state.price.shape[0], self.nTau1, dtype=torch.float, \n",
    "                          device=state.price.device)\n",
    "        quantiles = self.model_b(state, tau=tau1)\n",
    "        \n",
    "        action_mask = F.one_hot(action[:, None], self.action_atoms).to(self.device)\n",
    "        \n",
    "        Gt = self.get_Gt(reward, done, next_state)\n",
    "        Qt = (quantiles*action_mask).sum(-1) #(bs, nTau1)\n",
    "        loss, td_error = self.loss_fn(Qt, Gt, tau1)\n",
    "        loss.backward()\n",
    "        \n",
    "#         nn.utils.clip_grad_norm_(self.model_b.parameters(), 0.5)\n",
    "        self.opt.step()\n",
    "        \n",
    "        self.update_target()\n",
    "\n",
    "        return {'loss': loss.detach().item(), \n",
    "                'td_error': td_error.detach().item(), \n",
    "#                 'Qt': Qt.detach(), 'Gt': Gt.detach()}\n",
    "                'Qt': Qt.detach().mean().item(), 'Gt': Gt.detach().mean().item()}\n",
    "    \n",
    "    def loss_fn(self, Qt, Gt, tau):\n",
    "        \"\"\"\n",
    "        Quantile Huber Loss\n",
    "        td_error: (bs, nTau1, nTau2)\n",
    "        \"\"\"\n",
    "        assert Qt.shape[1:] == (self.nTau1, self.n_assets)\n",
    "        assert Gt.shape[1:] == (self.nTau2, self.n_assets)\n",
    "        td_error = Gt.unsqueeze(1) - Qt.unsqueeze(-1)\n",
    "        \n",
    "        huber_loss = torch.where(td_error.abs() <= self.k_huber,\n",
    "                                 0.5*td_error.pow(2),\n",
    "                                 self.k_huber * (td_error.abs() - self.k_huber/2))\n",
    "        \n",
    "        assert huber_loss.shape == td_error.shape\n",
    "        \n",
    "        quantile_loss = torch.abs(tau[..., None, None] - (td_error.detach() < 0.).float()) * \\\n",
    "                        huber_loss  / self.k_huber\n",
    "        assert quantile_loss.shape == huber_loss.shape\n",
    "        \n",
    "        return quantile_loss.mean(-1).sum(-1).mean(), td_error.abs().mean()\n",
    "    "
   ]
  },
  {
   "cell_type": "code",
   "execution_count": 22,
   "metadata": {
    "code_folding": [
     0
    ]
   },
   "outputs": [],
   "source": [
    "class PerfectAgent:\n",
    "    \"\"\"\n",
    "    Pretty much useless\n",
    "    Only implemented for sinewave and 2 action atoms (buy/sell)\n",
    "    \"\"\"\n",
    "    def __init__(self, config):\n",
    "        self.config=config\n",
    "        self.action_atoms = config.discrete_action_atoms\n",
    "        self.params = self.config.generator_params\n",
    "        \n",
    "    def get_qvals(self, state):\n",
    "        prices = state.price\n",
    "        if self.config.data_source_type in  (\"Synth\", \"Triangle\"):\n",
    "            if prices[-3] < prices[-2] > prices[-1]:\n",
    "                return torch.tensor([[-1., 1.]])\n",
    "            elif prices[-3] > prices[-2] < prices[-1]:\n",
    "                return torch.tensor([[1., -1.]])\n",
    "            else:\n",
    "                return torch.randn((1, 2))\n",
    "        elif self.config.data_source_type == \"SawTooth\":\n",
    "            _max = np.array(self.params['amp']) + np.array(self.params['mu'])\n",
    "            if (_max - prices[-1] ) > (_max/1.25):\n",
    "                return torch.tensor([[1., -1.]])\n",
    "            return torch.tensor([[-1., 1.]])\n",
    "\n",
    "    def __call__(self, state):\n",
    "        qvals = self.get_qvals(state)\n",
    "        if qvals[0, 1] > qvals[0, 0]:\n",
    "            return np.array([1])\n",
    "        return np.array([0])"
   ]
  },
  {
   "cell_type": "code",
   "execution_count": 23,
   "metadata": {},
   "outputs": [
    {
     "name": "stdout",
     "output_type": "stream",
     "text": [
      "(64, 9)\n"
     ]
    }
   ],
   "source": [
    "print(preprocessor.feature_output_shape)"
   ]
  },
  {
   "cell_type": "code",
   "execution_count": null,
   "metadata": {},
   "outputs": [],
   "source": []
  },
  {
   "cell_type": "code",
   "execution_count": null,
   "metadata": {},
   "outputs": [],
   "source": []
  },
  {
   "cell_type": "code",
   "execution_count": 24,
   "metadata": {
    "scrolled": true
   },
   "outputs": [
    {
     "name": "stdout",
     "output_type": "stream",
     "text": [
      "tensor([[[-0.0646, -0.0381, -0.0536]]], device='cuda:0') [0.]\n"
     ]
    },
    {
     "data": {
      "text/plain": [
       "(<madigan.environments.cpp.build.env.State at 0x7f7a846f8870>,\n",
       " 0.0,\n",
       " False,\n",
       " <madigan.environments.cpp.build.env.EnvInfoMulti at 0x7f7a846bda30>)"
      ]
     },
     "execution_count": 24,
     "metadata": {},
     "output_type": "execute_result"
    }
   ],
   "source": [
    "from madigan.fleet import make_agent\n",
    "\n",
    "\n",
    "agent = AgentLM(config, preprocessor.feature_output_shape, env, device=device)\n",
    "agent = AgentMLP(config, preprocessor.feature_output_shape, env, device=device)\n",
    "agent = AgentCNN(config, preprocessor.feature_output_shape, env, device=device)\n",
    "agent = AgentCNN_IQN(config, preprocessor.feature_output_shape, env, device=device)\n",
    "agent = make_agent(config)\n",
    "agent.to(device)\n",
    "x = preprocessor.current_data()\n",
    "# x = agent.prep_state(x)\n",
    "qvals = agent.get_qvals(x)\n",
    "\n",
    "action = agent(x)\n",
    "print(qvals, action)\n",
    "env.step(action)"
   ]
  },
  {
   "cell_type": "code",
   "execution_count": 25,
   "metadata": {},
   "outputs": [
    {
     "data": {
      "text/plain": [
       "tensor([1], device='cuda:0')"
      ]
     },
     "execution_count": 25,
     "metadata": {},
     "output_type": "execute_result"
    }
   ],
   "source": [
    "actions = qvals.max(-1)[1][:, 0]\n",
    "actions\n"
   ]
  },
  {
   "cell_type": "markdown",
   "metadata": {},
   "source": [
    "## Trainer\n"
   ]
  },
  {
   "cell_type": "code",
   "execution_count": 26,
   "metadata": {
    "code_folding": [
     19
    ]
   },
   "outputs": [],
   "source": [
    "def trainer(agent, env, preprocessor, config):\n",
    "    nstep_return =config.agent_config.nstep_return\n",
    "    rb = ReplayBuffer(config.agent_config.replay_size, nstep_return, \n",
    "                      config.agent_config.discount)\n",
    "#     nstep_buffer = []\n",
    "    replay_min_size = config.agent_config.replay_min_size\n",
    "    action_shape = (len(config.assets), 1)\n",
    "    eps = config.agent_config.eps\n",
    "    eps_decay = config.agent_config.eps_decay\n",
    "    eps_min = config.agent_config.eps_min\n",
    "    env.reset()\n",
    "    preprocessor.initialize_history(env)\n",
    "    state = preprocessor.current_data()\n",
    "    i = 0\n",
    "    running_reward = 0.\n",
    "    running_cost = 0.\n",
    "    unit_size = config.agent_config.unit_size_proportion_avM\n",
    "    while True:\n",
    "        trn_metrics=None\n",
    "        \n",
    "        if random.random() < eps:\n",
    "            units = unit_size * env.availableMargin / env.currentPrices\n",
    "            actions = np.random.choice([-1., 0., 1.], action_shape)\n",
    "            actions *= units\n",
    "            # actions = agent.action_space.sample)()\n",
    "        else:\n",
    "            actions = agent(state, target=False)\n",
    "        eps = max(eps_min, eps*eps_decay)\n",
    "        \n",
    "#         Prevent double positon\n",
    "#         for i, action in enumerate(actions):\n",
    "#             if np.sign(action) == np.sign(env.ledger):\n",
    "#                 actions[i] = 0.\n",
    "\n",
    "        _next_state, reward, done, info = env.step(actions) # assumes single asset\n",
    "        for cost in info.brokerResponse.transactionCost:\n",
    "            running_cost += cost\n",
    "#         reward = max(-1., min(reward, 1.))\n",
    "        preprocessor.stream_state(_next_state)\n",
    "        next_state = preprocessor.current_data()\n",
    "        if done:\n",
    "            reward = -.1\n",
    "        running_reward += reward\n",
    "        sarsd = SARSD(state, actions, reward, next_state, done)\n",
    "        rb.add(sarsd)\n",
    "        \n",
    "        if done:\n",
    "            env.reset()\n",
    "            preprocessor.initialize_history(env)\n",
    "            state = preprocessor.current_data()\n",
    "            #print('done: ', info.brokerResponse, 'margin call: ', info.brokerResponse.marginCall,\n",
    "            #     'equity: ', env.equity)\n",
    "            print('running_reward: ', running_reward, 'running_cost: ', running_cost)\n",
    "\n",
    "            running_reward = 0.\n",
    "            running_cost = 0.\n",
    "        else:\n",
    "            state = next_state\n",
    "        if len(rb) >= replay_min_size:\n",
    "            sarsd = rb.sample(config.agent_config.batch_size)\n",
    "            trn_metrics = agent.train_step(sarsd)\n",
    "            trn_metrics['eps'] = eps\n",
    "            trn_metrics['running_reward'] = running_reward\n",
    "            \n",
    "            \n",
    "#         if i % target_update_freq == 0:\n",
    "#             agent.model_t.load_state_dict(agent.model_b.state_dict())\n",
    "            \n",
    "        yield trn_metrics\n",
    "        i += 1"
   ]
  },
  {
   "cell_type": "code",
   "execution_count": 27,
   "metadata": {
    "code_folding": [
     1,
     9,
     18
    ]
   },
   "outputs": [],
   "source": [
    "import gc\n",
    "def print_tensors():\n",
    "    for obj in gc.get_objects():\n",
    "        try:\n",
    "            if torch.is_tensor(obj) or (hasattr(obj, 'data') and torch.is_tensor(obj.data)):\n",
    "                print(type(obj), obj.size())\n",
    "        except:\n",
    "            pass\n",
    "        \n",
    "def print_tau_tensors():\n",
    "    for obj in gc.get_objects():\n",
    "        try:\n",
    "            if torch.is_tensor(obj) or (hasattr(obj, 'data') and torch.is_tensor(obj.data)):\n",
    "                if obj.shape in ((34, 32) , (34, 8)):\n",
    "                    print(type(obj), obj.size())\n",
    "        except:\n",
    "            pass\n",
    "        \n",
    "def print_scalar_tensors():\n",
    "    num = 0\n",
    "    for obj in gc.get_objects():\n",
    "        try:\n",
    "            if torch.is_tensor(obj) or (hasattr(obj, 'data') and torch.is_tensor(obj.data)):\n",
    "                if obj.shape == ():\n",
    "                    print(type(obj), obj.size())\n",
    "                    num += 1\n",
    "        except:\n",
    "            pass\n",
    "    print('num', num)"
   ]
  },
  {
   "cell_type": "code",
   "execution_count": 28,
   "metadata": {
    "scrolled": true
   },
   "outputs": [
    {
     "data": {
      "text/plain": [
       "{'basepath': '/media/hemu/Data/Markets/farm',\n",
       " 'experiment_path': '/media/hemu/Data/Markets/farm/SineQ',\n",
       " 'experiment_id': 'SineQ',\n",
       " 'parent_id': '',\n",
       " 'transaction_cost_abs': 0.0,\n",
       " 'transaction_cost_rel': 0.02,\n",
       " 'slippage_abs': 0.0,\n",
       " 'slippage_rel': 0.0,\n",
       " 'env_type': 'Synth',\n",
       " 'init_cash': 1000000,\n",
       " 'required_margin': 1.0,\n",
       " 'maintenance_margin': 0.25,\n",
       " 'assets': ['OU1'],\n",
       " 'lot_unit_value': 10000,\n",
       " 'n_assets': 1,\n",
       " 'discrete_actions': True,\n",
       " 'discrete_action_atoms': 3,\n",
       " 'data_source_type': 'OU',\n",
       " 'data_source_config': {'mean': [10.0],\n",
       "  'theta': [0.15],\n",
       "  'phi': [4.0],\n",
       "  'noise_var': [0.1]},\n",
       " 'preprocessor_type': 'RollerDiscrete',\n",
       " 'preprocessor_config': {'timeframes': [64], 'window_length': 64},\n",
       " 'agent_type': 'DQN',\n",
       " 'agent_config': {'type': 'DQN',\n",
       "  'nsteps': 1000000,\n",
       "  'replay_size': 100000,\n",
       "  'episode_length': 1024,\n",
       "  'replay_min_size': 50000,\n",
       "  'train_freq': 4,\n",
       "  'target_update_freq': 32000,\n",
       "  'batch_size': 34,\n",
       "  'discrete_action_atoms': 3,\n",
       "  'double_dqn': True,\n",
       "  'dueling': True,\n",
       "  'iqn': True,\n",
       "  'nTau': 32,\n",
       "  'nTau1': 32,\n",
       "  'nTau2': 8,\n",
       "  'k_huber': 1,\n",
       "  'tau_embed_size': 64,\n",
       "  'discount': 0.999,\n",
       "  'nstep_return': 5,\n",
       "  'action_atoms': 3,\n",
       "  'tau_soft_update': 0.0001,\n",
       "  'greedy_eps_testing': 0.0,\n",
       "  'eps': 1.0,\n",
       "  'eps_min': 0.1,\n",
       "  'eps_decay': 0.999999,\n",
       "  'reward_clip': (-1.0, 1.0),\n",
       "  'unit_size_proportion_avM': 0.05},\n",
       " 'model_config': {'model_class': 'ConvNet',\n",
       "  'd_model': 1024,\n",
       "  'n_layers': 4,\n",
       "  'n_feats': 1,\n",
       "  'action_atoms': 3,\n",
       "  'n_assets': 1,\n",
       "  'dueling': True,\n",
       "  'iqn': True,\n",
       "  'nTau': 32,\n",
       "  'nTau1': 32,\n",
       "  'nTau2': 8,\n",
       "  'tau_embed_size': 64,\n",
       "  'discrete_actions': True,\n",
       "  'discrete_action_atoms': 3,\n",
       "  'lot_unit_value': 10000},\n",
       " 'optim_config': {'type': 'Adam',\n",
       "  'lr': 0.001,\n",
       "  'lr_critic': 0.001,\n",
       "  'lr_actor': 0.0001,\n",
       "  'eps': 1e-08,\n",
       "  'momentum': 0.9,\n",
       "  'betas': (0.9, 0.999),\n",
       "  'weight_decay': 0},\n",
       " 'train_steps': 100000,\n",
       " 'reward_clip': (-1.0, 1.0),\n",
       " 'test_steps': 1000,\n",
       " 'test_freq': 32000,\n",
       " 'log_freq': 10000,\n",
       " 'model_save_freq': 64000}"
      ]
     },
     "execution_count": 28,
     "metadata": {},
     "output_type": "execute_result"
    }
   ],
   "source": [
    "config = make_config(\n",
    "        experiment_id=\"SineQ\",\n",
    "        basepath=\"/media/hemu/Data/Markets/farm\",\n",
    "    \n",
    "    \n",
    "        transaction_cost_rel=0.02,\n",
    "    \n",
    "        test_steps=1_000,\n",
    "        nsteps=1_000_000,\n",
    "    \n",
    "#         data_source_type=\"Triangle\",\n",
    "#         generator_params={\n",
    "#         'freq':[2.],\n",
    "#         'mu':[0.6],\n",
    "#         'amp':[.5],\n",
    "#         'phase':[0.],\n",
    "#         'dX':0.1,\n",
    "#         \"noise\": 0.0},\n",
    "#         assets=[\"sine1\"],\n",
    "#         data_source_type=\"SineAdder\",\n",
    "#         data_source_config={\n",
    "#             'freq':[2.2, 4.1, 1., 3.],\n",
    "#             'mu':[.6, 0.3, 2., 4.2],\n",
    "#             'amp':[.5, 0.2, 0.4, 1.2],\n",
    "#             'phase':[0., 1., 4., 0.],\n",
    "#             'dX':0.01,\n",
    "#             \"noise\": 0.0},\n",
    "        assets=[\"OU1\"],\n",
    "        data_source_type=\"OU\",\n",
    "        data_source_config=dict(\n",
    "            mean=[10.],\n",
    "            theta=[.15],\n",
    "            phi = [4.],\n",
    "            noise_var = [.1]\n",
    "        ),\n",
    "        preprocessor_type=\"RollerDiscrete\",\n",
    "        preprocessor_config=dict(\n",
    "            timeframes = [64],\n",
    "            window_length = 64,\n",
    "        ),\n",
    "    \n",
    "        agent_type = \"DQN\",\n",
    "        discrete_actions=True,\n",
    "        discrete_action_atoms=3,\n",
    "        double_dqn=True,\n",
    "        dueling=True,\n",
    "        iqn=True,\n",
    "        nTau1=32,\n",
    "        nTau2=8,\n",
    "        k_huber=1,\n",
    "        nstep_return = 5,\n",
    "        tau_soft_update=1e-4,\n",
    "        replay_size=100_000,\n",
    "        replay_min_size=50_000,\n",
    "        batch_size=34,\n",
    "        discount = 0.999,\n",
    "        lot_unit_value=10_000,\n",
    "        unit_size_proportion_avM=0.05,\n",
    "    \n",
    "        expl_eps_decay=0.999999,\n",
    "    \n",
    "        model_class=\"ConvNet\",\n",
    "        d_model = 1024,\n",
    "        lr=1e-3,\n",
    "\n",
    "    )\n",
    "config"
   ]
  },
  {
   "cell_type": "markdown",
   "metadata": {},
   "source": [
    "# Training"
   ]
  },
  {
   "cell_type": "code",
   "execution_count": 29,
   "metadata": {},
   "outputs": [],
   "source": [
    "env = make_env(config)\n",
    "\n",
    "# agent = make_agent(config)\n",
    "\n",
    "preprocessor = make_preprocessor(config)\n",
    "preprocessor.initialize_history(env)\n",
    "\n",
    "agent = AgentCNN(config, preprocessor.feature_output_shape, env, device=device)\n",
    "agent = AgentCNN_IQN(config, preprocessor.feature_output_shape, env, device=device)\n",
    "# agent = make_agent(config)"
   ]
  },
  {
   "cell_type": "code",
   "execution_count": 30,
   "metadata": {
    "scrolled": true
   },
   "outputs": [],
   "source": [
    "# state_dict = torch.load('OU_IQN_behav.pth')['state_dict']\n",
    "# agent.model_b.load_state_dict(state_dict)\n",
    "# state_dict = torch.load('OU_IQN_target.pth')['state_dict']\n",
    "# agent.model_t.load_state_dict(state_dict)"
   ]
  },
  {
   "cell_type": "code",
   "execution_count": 31,
   "metadata": {
    "scrolled": true
   },
   "outputs": [
    {
     "name": "stdout",
     "output_type": "stream",
     "text": [
      "Initializing replay buffer with min # of experiences\n"
     ]
    },
    {
     "data": {
      "application/vnd.jupyter.widget-view+json": {
       "model_id": "327bd81d55b743b58f44ee5641704fa0",
       "version_major": 2,
       "version_minor": 0
      },
      "text/plain": [
       "HBox(children=(HTML(value=''), FloatProgress(value=0.0, max=50000.0), HTML(value='')))"
      ]
     },
     "metadata": {},
     "output_type": "display_data"
    },
    {
     "name": "stdout",
     "output_type": "stream",
     "text": [
      "running_reward:  -0.18112197696499366 running_cost:  36900.069683587724\n",
      "running_reward:  -0.06564114041953215 running_cost:  140993.89670606883\n",
      "running_reward:  -0.08276188751999197 running_cost:  80341.07803991436\n",
      "running_reward:  -0.13504370475123909 running_cost:  40726.329132895786\n",
      "running_reward:  -0.05807014312328334 running_cost:  558646.9486514211\n",
      "running_reward:  -0.12027709122679797 running_cost:  63534.949136622294\n",
      "running_reward:  -0.15762844095971706 running_cost:  503519.5331704018\n",
      "running_reward:  -0.11565591760277025 running_cost:  160393.59649841502\n",
      "running_reward:  -0.08086743801110019 running_cost:  80009.1576278824\n",
      "running_reward:  -0.09316371048752208 running_cost:  86580.23804484362\n",
      "running_reward:  -0.08757756441722661 running_cost:  197600.8773475498\n",
      "running_reward:  -0.15214666133435772 running_cost:  215137.3474566861\n",
      "running_reward:  -0.35013815086811395 running_cost:  809481.0217613302\n",
      "running_reward:  -0.7321251506465474 running_cost:  752571.2238879597\n",
      "running_reward:  -0.8669865674748444 running_cost:  594920.8770995656\n",
      "running_reward:  -0.16802891741348147 running_cost:  25051.631879754834\n",
      "running_reward:  -0.6572293822133798 running_cost:  615936.7464784351\n",
      "running_reward:  -1.416311046561134 running_cost:  591424.3139151275\n",
      "running_reward:  -1.393840636074245 running_cost:  437954.61638966174\n",
      "running_reward:  -0.1260458745756793 running_cost:  184163.4123680551\n",
      "running_reward:  -0.8989720376799628 running_cost:  771391.5767676767\n",
      "running_reward:  -1.0181620950512684 running_cost:  485537.7979716887\n",
      "running_reward:  -0.16089517732173345 running_cost:  510113.4726823837\n",
      "running_reward:  -0.13056613427468347 running_cost:  233306.09395336822\n",
      "running_reward:  -0.9664704830698824 running_cost:  465972.4666386615\n",
      "running_reward:  -0.4339242044313688 running_cost:  881713.9810784606\n",
      "running_reward:  -0.9474038180817271 running_cost:  705553.1228099618\n",
      "running_reward:  -1.1007505676066316 running_cost:  537196.6599709113\n",
      "running_reward:  -0.11044067093945062 running_cost:  41529.39131642838\n",
      "running_reward:  -1.461351454084071 running_cost:  418555.8050362569\n",
      "running_reward:  -1.3153714342812468 running_cost:  497102.03068849165\n",
      "running_reward:  -0.6127122594198413 running_cost:  743189.7655419743\n",
      "running_reward:  -0.859887235299929 running_cost:  420671.0901710594\n",
      "running_reward:  -0.9090920566102779 running_cost:  534807.7044712133\n",
      "running_reward:  -0.5231685417910884 running_cost:  772795.9997515348\n",
      "running_reward:  -1.2787568068051027 running_cost:  351252.83240172925\n",
      "running_reward:  -0.09480473780834428 running_cost:  196442.60273267486\n",
      "running_reward:  -1.325363262149495 running_cost:  296240.69126048195\n",
      "running_reward:  -0.10987222817311529 running_cost:  858501.510695959\n",
      "running_reward:  -0.6949672076544388 running_cost:  661881.0089420542\n",
      "running_reward:  -1.2008491129034435 running_cost:  459669.24085546\n",
      "running_reward:  -1.0998950389176632 running_cost:  430530.60709705827\n",
      "running_reward:  -0.7320558743290427 running_cost:  607962.775346653\n",
      "running_reward:  -1.2859070133932273 running_cost:  401736.2826485595\n",
      "running_reward:  -1.473884772665254 running_cost:  578720.920596418\n",
      "running_reward:  -0.2108698261761846 running_cost:  105875.64533895993\n",
      "running_reward:  -0.9350358522315033 running_cost:  612392.8241491154\n",
      "running_reward:  -1.4804972224887476 running_cost:  400446.3799045905\n",
      "running_reward:  -0.09355047945941525 running_cost:  83134.75356837493\n",
      "\n"
     ]
    }
   ],
   "source": [
    "train_loop = iter(trainer(agent, env, preprocessor, config))\n",
    "# INITIALIZE REPLAY BUFFER\n",
    "print(\"Initializing replay buffer with min # of experiences\")\n",
    "for i in tqdm(range(config.agent_config.replay_min_size)):\n",
    "    metrics = next(train_loop)\n",
    "    \n",
    "train_metrics=[]"
   ]
  },
  {
   "cell_type": "code",
   "execution_count": null,
   "metadata": {
    "scrolled": true
   },
   "outputs": [
    {
     "data": {
      "application/vnd.jupyter.widget-view+json": {
       "model_id": "952047e0bd83452bb0727769d4e4f4e7",
       "version_major": 2,
       "version_minor": 0
      },
      "text/plain": [
       "HBox(children=(HTML(value=''), FloatProgress(value=0.0, max=500000.0), HTML(value='')))"
      ]
     },
     "metadata": {},
     "output_type": "display_data"
    },
    {
     "name": "stdout",
     "output_type": "stream",
     "text": [
      "running_reward:  6.14430227897926 running_cost:  6370699.155893084\n",
      "running_reward:  10.537194796363254 running_cost:  10622168.82014459\n",
      "running_reward:  5.717611868279232 running_cost:  5365437.290150345\n",
      "running_reward:  2.894073899473306 running_cost:  2645497.736215135\n",
      "running_reward:  4.084953172251838 running_cost:  3816845.0862828013\n",
      "running_reward:  5.0222493265119335 running_cost:  3671880.2926436146\n",
      "running_reward:  2.104270196144189 running_cost:  2246945.3808972905\n",
      "running_reward:  2.788803880642547 running_cost:  3313390.788454414\n",
      "running_reward:  0.6135609555099583 running_cost:  830802.9663336168\n",
      "running_reward:  6.46109172174612 running_cost:  5341598.382053364\n",
      "running_reward:  -0.07948564853962134 running_cost:  140564.70364537352\n",
      "running_reward:  -0.0513627888395229 running_cost:  144751.95064037445\n",
      "running_reward:  1.4268942500706612 running_cost:  1626615.9370441465\n",
      "running_reward:  0.034787574960455064 running_cost:  177057.74399199398\n",
      "running_reward:  2.718752670264366 running_cost:  2726891.1087924363\n",
      "running_reward:  4.004541154605278 running_cost:  3851345.0580466576\n",
      "running_reward:  -0.10142191091265529 running_cost:  64771.33727625951\n",
      "running_reward:  3.9678781302533452 running_cost:  3832681.429726284\n",
      "running_reward:  -0.056058370801276944 running_cost:  90893.05715333461\n",
      "running_reward:  0.265557414592806 running_cost:  359390.3877940134\n",
      "running_reward:  -0.11821059867596775 running_cost:  162695.76065087673\n",
      "running_reward:  0.43407989167111793 running_cost:  629275.3083198897\n",
      "running_reward:  2.4808949055546035 running_cost:  2284879.026468994\n",
      "running_reward:  7.421073027805476 running_cost:  5743645.540053309\n",
      "running_reward:  3.230994191610957 running_cost:  3778095.927251805\n",
      "running_reward:  0.7315944036747611 running_cost:  2728864.1075549154\n",
      "running_reward:  1.2932670136003739 running_cost:  1393082.3266840396\n",
      "running_reward:  0.000642911275024402 running_cost:  61110.35653601584\n",
      "running_reward:  4.586495804008431 running_cost:  3574053.039311473\n",
      "running_reward:  0.647799609075208 running_cost:  893026.787628974\n",
      "running_reward:  -0.15975325892807354 running_cost:  78157.61146048295\n",
      "running_reward:  3.436115281054869 running_cost:  2211773.7181621147\n",
      "running_reward:  0.028988390583766926 running_cost:  509324.8071235905\n",
      "running_reward:  0.7767931492816947 running_cost:  1074136.8016973655\n",
      "running_reward:  0.7823205108124313 running_cost:  1009261.5921837769\n",
      "running_reward:  0.21969299538777112 running_cost:  500293.1253174214\n",
      "running_reward:  6.65417867991288 running_cost:  5380443.39221855\n",
      "running_reward:  5.958829172870814 running_cost:  3729918.257233829\n",
      "running_reward:  6.056881003577665 running_cost:  5334407.600631101\n",
      "running_reward:  2.664750262612654 running_cost:  2582699.1375910477\n",
      "running_reward:  4.774800803366967 running_cost:  4638876.706313951\n",
      "running_reward:  1.1042675224737062 running_cost:  1427026.7223331314\n",
      "running_reward:  0.504813534795144 running_cost:  861844.5980620058\n",
      "running_reward:  3.084760642307618 running_cost:  2705144.68097917\n",
      "running_reward:  0.6226657318935797 running_cost:  1014437.3820337513\n",
      "running_reward:  0.34099645118094957 running_cost:  571801.3549133055\n",
      "running_reward:  2.076163189947704 running_cost:  2234556.413213002\n",
      "running_reward:  0.77964103286286 running_cost:  1091251.620293527\n",
      "running_reward:  0.5043117657252904 running_cost:  824391.7016989804\n",
      "running_reward:  10.713795027011201 running_cost:  7318179.018996761\n",
      "running_reward:  0.7229050898305684 running_cost:  1011058.1273186638\n",
      "running_reward:  3.0458909265291236 running_cost:  2943592.7159545436\n",
      "running_reward:  2.5770380948825427 running_cost:  2901166.9927232307\n"
     ]
    }
   ],
   "source": [
    "iterations = 500_000\n",
    "# train_loop = iter(trainer(agent, env, preprocessor, config))\n",
    "env.reset()\n",
    "for i in tqdm(range(iterations)):\n",
    "    metrics = next(train_loop)\n",
    "    if metrics is not None:\n",
    "        train_metrics.append(metrics)\n",
    "        \n",
    "print('eps', metrics['eps'])"
   ]
  },
  {
   "cell_type": "code",
   "execution_count": 33,
   "metadata": {},
   "outputs": [
    {
     "data": {
      "text/plain": [
       "<matplotlib.legend.Legend at 0x7f7a1c6fea10>"
      ]
     },
     "execution_count": 33,
     "metadata": {},
     "output_type": "execute_result"
    },
    {
     "name": "stderr",
     "output_type": "stream",
     "text": [
      "/home/hemu/miniconda3/envs/madigan/lib/python3.7/site-packages/IPython/core/pylabtools.py:132: UserWarning: Creating legend with loc=\"best\" can be slow with large amounts of data.\n",
      "  fig.canvas.print_figure(bytes_io, **kw)\n"
     ]
    },
    {
     "data": {
      "image/png": "[encoded data removed]",
      "text/plain": [
       "<Figure size 720x540 with 1 Axes>"
      ]
     },
     "metadata": {
      "needs_background": "light"
     },
     "output_type": "display_data"
    }
   ],
   "source": [
    "figsize(10, 7.5)\n",
    "from madigan.utils.plotting import plot_train_metrics\n",
    "\n",
    "trn_metrics = reduce_train_metrics(list_2_dict(train_metrics), ['Qt', 'Gt'])\n",
    "# plt.plot(np.clip(trn_metrics['loss'], 0., 10.), label='loss')\n",
    "# plt.plot(np.clip(trn_metrics['td_error'], 0., 10.), label='td_error')\n",
    "plt.plot(trn_metrics['loss'], label='loss')\n",
    "plt.plot(trn_metrics['td_error'], label='td_error')\n",
    "plt.plot(trn_metrics['Qt'], label='Qt')\n",
    "plt.plot(trn_metrics['Gt'], label='Gt')\n",
    "plt.legend()\n",
    "# plot_train_metrics(trn_metrics)"
   ]
  },
  {
   "cell_type": "code",
   "execution_count": 37,
   "metadata": {},
   "outputs": [
    {
     "name": "stdout",
     "output_type": "stream",
     "text": [
      "dict_keys(['state', 'reward', 'done', 'info', 'qvals', 'equity', 'prices', 'positions', 'cash', 'margin', 'transactions'])\n",
      "plotting only first asset - need to implement multi-asset\n"
     ]
    },
    {
     "data": {
      "image/png": "[encoded data removed]",
      "text/plain": [
       "<Figure size 1080x720 with 10 Axes>"
      ]
     },
     "metadata": {
      "needs_background": "light"
     },
     "output_type": "display_data"
    }
   ],
   "source": [
    "# from madigan.utils.plotting import plot_test_metrics\n",
    "figsize(15, 10)\n",
    "reset=True\n",
    "reset=False\n",
    "\n",
    "tst_metrics = test(agent, env, preprocessor, \n",
    "                   nsteps=640, verbose=True, reset=reset, eps=0.)\n",
    "print(tst_metrics.keys())\n",
    "\n",
    "fig, ax = plot_test_metrics(tst_metrics)"
   ]
  },
  {
   "cell_type": "code",
   "execution_count": 189,
   "metadata": {},
   "outputs": [],
   "source": [
    "state = {'state_dict': agent.model_b.state_dict(),\n",
    "         'ntraining_steps': i, \n",
    "        'config': config}\n",
    "torch.save(state, 'OU_IQN_behav.pth')\n",
    "state = {'state_dict': agent.model_t.state_dict(),\n",
    "         'ntraining_steps': i, \n",
    "        'config': config}\n",
    "torch.save(state, 'OU_IQN_target.pth')"
   ]
  },
  {
   "cell_type": "code",
   "execution_count": null,
   "metadata": {},
   "outputs": [],
   "source": [
    "params = list(agent.model_t.parameters())\n",
    "print(\"biases\", params[1])\n",
    "weights = params[0].detach().cpu().numpy()\n",
    "for i in range(0, 64):    \n",
    "    plt.plot(weights[i], label=str(i))\n",
    "# plt.legend()"
   ]
  },
  {
   "cell_type": "code",
   "execution_count": null,
   "metadata": {
    "scrolled": true
   },
   "outputs": [],
   "source": [
    "perfect_agent = PerfectAgent(config)"
   ]
  },
  {
   "cell_type": "code",
   "execution_count": null,
   "metadata": {},
   "outputs": [],
   "source": [
    "tst_metrics = test(perfect_agent, env, preprocessor, verbose=True)\n",
    "print(tst_metrics.keys())\n",
    "fig, ax = plot_test_metrics(tst_metrics)\n"
   ]
  },
  {
   "cell_type": "code",
   "execution_count": 24,
   "metadata": {},
   "outputs": [
    {
     "data": {
      "text/plain": [
       "torch.Size([1, 2])"
      ]
     },
     "execution_count": 24,
     "metadata": {},
     "output_type": "execute_result"
    }
   ],
   "source": [
    "perfect_agent.get_qvals(preprocessor.current_data()).shape"
   ]
  },
  {
   "cell_type": "code",
   "execution_count": 25,
   "metadata": {},
   "outputs": [
    {
     "data": {
      "text/plain": [
       "(64, 1)"
      ]
     },
     "execution_count": 25,
     "metadata": {},
     "output_type": "execute_result"
    }
   ],
   "source": [
    "preprocessor.current_data().price.shape"
   ]
  },
  {
   "cell_type": "code",
   "execution_count": null,
   "metadata": {},
   "outputs": [],
   "source": []
  }
 ],
 "metadata": {
  "kernelspec": {
   "display_name": "Python 3.7.7 64-bit ('madigan')",
   "language": "python",
   "name": "python37764bitmadiganc2cb1639caeb405b9f43012997461129"
  },
  "language_info": {
   "codemirror_mode": {
    "name": "ipython",
    "version": 3
   },
   "file_extension": ".py",
   "mimetype": "text/x-python",
   "name": "python",
   "nbconvert_exporter": "python",
   "pygments_lexer": "ipython3",
   "version": "3.7.7"
  },
  "toc-autonumbering": false,
  "toc-showcode": false,
  "toc-showmarkdowntxt": false,
  "toc-showtags": false
 },
 "nbformat": 4,
 "nbformat_minor": 4
}
