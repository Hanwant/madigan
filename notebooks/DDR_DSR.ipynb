{
 "cells": [
  {
   "cell_type": "markdown",
   "metadata": {},
   "source": [
    "# Ideal volatility adjustment for RL\n",
    "## Differential Sharpe Ratio (DSR) and Downside Deviation Ratio (DDR)\n",
    "### Moody, J., & Saffell, M. (2001). Learning to trade via direct reinforcement. IEEE transactions on neural Networks, 12(4), 875-889."
   ]
  },
  {
   "cell_type": "code",
   "execution_count": 1,
   "metadata": {},
   "outputs": [],
   "source": [
    "import numpy as np\n",
    "import matplotlib.pyplot as plt"
   ]
  },
  {
   "cell_type": "code",
   "execution_count": 714,
   "metadata": {},
   "outputs": [],
   "source": [
    "from types import MethodType"
   ]
  },
  {
   "cell_type": "code",
   "execution_count": 814,
   "metadata": {},
   "outputs": [],
   "source": [
    "EPS = np.finfo(np.float32).eps\n",
    "class DSR:\n",
    "    \"\"\"Differential Sharpe Ratio - Moody and Saffell\"\"\"\n",
    "    def __init__(self, adaptation_rate, nassets):\n",
    "        self.n = adaptation_rate\n",
    "#         self.A = np.zeros(nassets)\n",
    "#         self.B = np.zeros(nassets)\n",
    "        self.A = None\n",
    "        self.B = None\n",
    "\n",
    "#     def __call__(self, rewards):\n",
    "#         return self.call(rewards)\n",
    "    \n",
    "    def __call__(self, rewards):\n",
    "        if len(rewards.shape) == 1:\n",
    "            nassets = 1\n",
    "        else: \n",
    "            nassets = rewards.shape[1]\n",
    "        self.A = np.zeros(nassets)\n",
    "        self.B = np.zeros(nassets)\n",
    "#         self.call = self.main_func\n",
    "        self.__class__ = _DSR\n",
    "        print('call')\n",
    "        return self.main_func(rewards)\n",
    "    \n",
    "    def main_func(self, rewards):\n",
    "        rewards = sum([\n",
    "            self.calculate_dsr(reward)\n",
    "            for reward in rewards\n",
    "        ])\n",
    "        return rewards\n",
    "\n",
    "    def calculate_dsr(self, raw_return):\n",
    "        dA = raw_return - self.A\n",
    "        dB = raw_return**2 - self.B\n",
    "#         import ipdb; ipdb.set_trace()\n",
    "        dsr = (self.B * dA - (self.A * dB) / 2) / ((self.B - self.A**2)**(3 / 2) + EPS)\n",
    "        self.A += self.n * dA\n",
    "        self.B += self.n * dB\n",
    "        return np.minimum(np.maximum(dsr, -1), 1.)\n",
    "\n",
    "    def update_parameters(self, raw_return):\n",
    "        dA = raw_return - self.A\n",
    "        dB = raw_return**2 - self.B\n",
    "        self.A += self.n * dA\n",
    "        self.B += self.n * dB\n",
    "\n",
    "class _DSR(DSR):\n",
    "    def __call__(self, rewards):\n",
    "        return self.main_func(rewards)\n",
    "\n",
    "class DDR:\n",
    "    \"\"\"Differential Downside Ratio (sortino) - Moody and Saffell \"\"\"\n",
    "    def __init__(self, adaptation_rate, nassets):\n",
    "        self.n = adaptation_rate\n",
    "        self.A = np.zeros(nassets)\n",
    "        self.B = np.zeros(nassets)\n",
    "\n",
    "    def __call__(self, rewards):\n",
    "        if len(rewards.shape) == 1:\n",
    "            nassets = 1\n",
    "        else: \n",
    "            nassets = rewards.shape[1]\n",
    "        self.A = np.zeros(nassets)\n",
    "        self.B = np.zeros(nassets)\n",
    "#         self.__call__ = self.main_func  # monkey patch doesn't work as __call__ is special func - attached to class\n",
    "        self.__class__ = _DDR\n",
    "        print('call')\n",
    "        return self.main_func(rewards)\n",
    "    \n",
    "    def main_func(self, rewards):\n",
    "        rewards = sum([\n",
    "            self.calculate_ddr(reward)\n",
    "            for reward in rewards\n",
    "        ])\n",
    "        return rewards\n",
    "\n",
    "        # as this will be called when popping from the nstep buffer\n",
    "        # this is an appropriate place to update params\n",
    "        return rewards\n",
    "\n",
    "    def calculate_ddr(self, raw_return):\n",
    "        ddr = np.where(raw_return > 0.,\n",
    "                       (raw_return - self.A / 2) / (np.sqrt(self.B) + EPS),\n",
    "                       (self.B * (raw_return - self.A / 2) -\n",
    "                        (self.A * raw_return**2) / 2) /\n",
    "                       (self.B**(3 / 2) + EPS))\n",
    "        self.update_parameters(raw_return)\n",
    "        return np.minimum(np.maximum(ddr, -1), 1.)\n",
    "\n",
    "    def update_parameters(self, raw_return):\n",
    "        dA = raw_return - self.A\n",
    "        dB = min(raw_return, 0)**2 - self.B\n",
    "        self.A += self.n * dA\n",
    "        self.B += self.n * dB\n",
    "\n",
    "class _DDR(DDR):\n",
    "    def __call__(self, rewards):\n",
    "        return self.main_func(rewards)\n"
   ]
  },
  {
   "cell_type": "code",
   "execution_count": 815,
   "metadata": {},
   "outputs": [
    {
     "data": {
      "text/plain": [
       "array([1., 0., 3., 0.])"
      ]
     },
     "execution_count": 815,
     "metadata": {},
     "output_type": "execute_result"
    }
   ],
   "source": [
    "arr = np.array([1, -2, 3, -3])\n",
    "np.where(arr > 0, arr, 0.)"
   ]
  },
  {
   "cell_type": "code",
   "execution_count": 816,
   "metadata": {},
   "outputs": [],
   "source": [
    "dsr = DSR(.001, 1)\n",
    "dsr2 = DSR(.001, 1)\n",
    "ddr = DDR(.001, 1)"
   ]
  },
  {
   "cell_type": "code",
   "execution_count": 817,
   "metadata": {},
   "outputs": [
    {
     "name": "stdout",
     "output_type": "stream",
     "text": [
      "0.10623319331177632 1.105466339535697\n",
      "0.09609808052264616\n",
      "0.1644082392214514\n"
     ]
    }
   ],
   "source": [
    "rewards = np.random.randn(100)\n",
    "print(rewards.mean(), rewards.std())\n",
    "print(rewards.mean()/rewards.std())\n",
    "print(rewards.mean() / np.minimum(rewards, 0.).std())"
   ]
  },
  {
   "cell_type": "code",
   "execution_count": 818,
   "metadata": {},
   "outputs": [
    {
     "name": "stdout",
     "output_type": "stream",
     "text": [
      "call\n",
      "call\n",
      "[9.06089037] [11.68109649]\n",
      "call\n",
      "[0.10537446] [1.23271933]\n",
      "[0.10537446] [0.57185883]\n"
     ]
    }
   ],
   "source": [
    "print(dsr(rewards), ddr(rewards))\n",
    "for i in range(100):\n",
    "    dsr(rewards)\n",
    "    dsr2(rewards)\n",
    "    ddr(rewards)\n",
    "print(dsr.A, dsr.B)\n",
    "print(ddr.A, ddr.B)"
   ]
  },
  {
   "cell_type": "code",
   "execution_count": 819,
   "metadata": {},
   "outputs": [],
   "source": [
    "import inspect"
   ]
  },
  {
   "cell_type": "code",
   "execution_count": 820,
   "metadata": {},
   "outputs": [
    {
     "name": "stdout",
     "output_type": "stream",
     "text": [
      "    def __call__(self, rewards):\n",
      "        return self.main_func(rewards)\n",
      "\n"
     ]
    }
   ],
   "source": [
    "print(inspect.getsource(dsr.__call__))"
   ]
  },
  {
   "cell_type": "code",
   "execution_count": 821,
   "metadata": {},
   "outputs": [
    {
     "name": "stdout",
     "output_type": "stream",
     "text": [
      "    def __call__(self, rewards):\n",
      "        if len(rewards.shape) == 1:\n",
      "            nassets = 1\n",
      "        else: \n",
      "            nassets = rewards.shape[1]\n",
      "        self.A = np.zeros(nassets)\n",
      "        self.B = np.zeros(nassets)\n",
      "#         self.call = self.main_func\n",
      "        self.__class__ = _DSR\n",
      "        print('call')\n",
      "        return self.main_func(rewards)\n",
      "\n"
     ]
    }
   ],
   "source": [
    "print(inspect.getsource(DSR.__call__))"
   ]
  },
  {
   "cell_type": "code",
   "execution_count": 765,
   "metadata": {},
   "outputs": [],
   "source": [
    "class A:\n",
    "    def __init__(self):\n",
    "        pass\n",
    "    \n",
    "class A(A):\n",
    "    def __init__(self):\n",
    "        pass"
   ]
  },
  {
   "cell_type": "code",
   "execution_count": 766,
   "metadata": {},
   "outputs": [
    {
     "data": {
      "text/plain": [
       "__main__.A"
      ]
     },
     "execution_count": 766,
     "metadata": {},
     "output_type": "execute_result"
    }
   ],
   "source": [
    "A"
   ]
  },
  {
   "cell_type": "code",
   "execution_count": null,
   "metadata": {},
   "outputs": [],
   "source": []
  }
 ],
 "metadata": {
  "kernelspec": {
   "display_name": "Python 3.7.7 64-bit ('madigan')",
   "language": "python",
   "name": "python37764bitmadiganc2cb1639caeb405b9f43012997461129"
  },
  "language_info": {
   "codemirror_mode": {
    "name": "ipython",
    "version": 3
   },
   "file_extension": ".py",
   "mimetype": "text/x-python",
   "name": "python",
   "nbconvert_exporter": "python",
   "pygments_lexer": "ipython3",
   "version": "3.7.7"
  }
 },
 "nbformat": 4,
 "nbformat_minor": 4
}
