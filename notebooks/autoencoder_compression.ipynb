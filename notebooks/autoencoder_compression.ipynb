{
 "cells": [
  {
   "cell_type": "code",
   "execution_count": 1,
   "metadata": {},
   "outputs": [],
   "source": [
    "import io\n",
    "from pathlib import Path \n",
    "import zipfile\n",
    "from functools import reduce\n",
    "\n",
    "import numpy as np\n",
    "import pandas as pd\n",
    "import torch\n",
    "import torch.nn as nn\n",
    "\n",
    "from tqdm.notebook import tqdm\n",
    "import matplotlib.pyplot as plt\n",
    "from IPython.core.pylabtools import figsize\n",
    "\n",
    "\n",
    "from madigan.modelling.net.utils import calc_conv_out_shape, calc_pad_to_conserve\n",
    "\n",
    "figsize(8, 8)"
   ]
  },
  {
   "cell_type": "code",
   "execution_count": 2,
   "metadata": {},
   "outputs": [],
   "source": [
    "datapath = Path(\"/media/hemu/Data/Markets/FX/truefx/GBPJPY-zip\")\n",
    "\n",
    "device = 'cuda' if torch.cuda.is_available() else 'cpu'"
   ]
  },
  {
   "cell_type": "code",
   "execution_count": 3,
   "metadata": {},
   "outputs": [],
   "source": [
    "def read_and_parse_truefx(filepath):\n",
    "    df = pd.read_csv(filepath, header=None, parse_dates=True)\n",
    "    df.columns = ('asset', 'timestamp', 'bid', 'ask')\n",
    "    df['timestamp'] = pd.to_datetime(df['timestamp'])\n",
    "    return df.drop('asset', axis=1).set_index('timestamp')"
   ]
  },
  {
   "cell_type": "code",
   "execution_count": 4,
   "metadata": {},
   "outputs": [],
   "source": [
    "def load_and_aggregate_truefx(filepaths, timeframe='1h'):\n",
    "    dfs = []\n",
    "    for file in tqdm(filepaths):\n",
    "        df = read_and_parse_truefx(file)\n",
    "        df = df.resample(timeframe).last().dropna()\n",
    "        dfs.append(df)\n",
    "    return pd.concat(dfs)"
   ]
  },
  {
   "cell_type": "code",
   "execution_count": 5,
   "metadata": {},
   "outputs": [
    {
     "name": "stdout",
     "output_type": "stream",
     "text": [
      "125\n"
     ]
    },
    {
     "data": {
      "application/vnd.jupyter.widget-view+json": {
       "model_id": "96ebca072e554adb9131b519d75acb3a",
       "version_major": 2,
       "version_minor": 0
      },
      "text/plain": [
       "HBox(children=(HTML(value=''), FloatProgress(value=0.0, max=50.0), HTML(value='')))"
      ]
     },
     "metadata": {},
     "output_type": "display_data"
    },
    {
     "name": "stdout",
     "output_type": "stream",
     "text": [
      "\n"
     ]
    },
    {
     "data": {
      "application/vnd.jupyter.widget-view+json": {
       "model_id": "291bc1d04cc147749e1056e6c40938dc",
       "version_major": 2,
       "version_minor": 0
      },
      "text/plain": [
       "HBox(children=(HTML(value=''), FloatProgress(value=0.0, max=10.0), HTML(value='')))"
      ]
     },
     "metadata": {},
     "output_type": "display_data"
    },
    {
     "name": "stdout",
     "output_type": "stream",
     "text": [
      "\n"
     ]
    }
   ],
   "source": [
    "files = list(datapath.iterdir())\n",
    "files.sort()\n",
    "print(len(files))\n",
    "\n",
    "trn_df = load_and_aggregate_truefx(files[:50], '1min')\n",
    "tst_df = load_and_aggregate_truefx(files[50: 60], '1min')"
   ]
  },
  {
   "cell_type": "code",
   "execution_count": 6,
   "metadata": {},
   "outputs": [
    {
     "name": "stdout",
     "output_type": "stream",
     "text": [
      "length:  1502256 \n",
      "                          bid      ask\n",
      "timestamp                            \n",
      "2009-05-01 00:00:00  146.372  146.408\n",
      "2009-05-01 00:01:00  146.380  146.425\n",
      "2009-05-01 00:02:00  146.393  146.468\n",
      "2009-05-01 00:03:00  146.410  146.472\n",
      "2009-05-01 00:04:00  146.397  146.446\n",
      "length:  302966 \n",
      "                          bid      ask\n",
      "timestamp                            \n",
      "2013-07-01 00:00:00  151.189  151.239\n",
      "2013-07-01 00:01:00  151.152  151.227\n",
      "2013-07-01 00:02:00  151.115  151.184\n",
      "2013-07-01 00:03:00  151.166  151.220\n",
      "2013-07-01 00:04:00  151.209  151.245\n"
     ]
    },
    {
     "name": "stderr",
     "output_type": "stream",
     "text": [
      "/home/hemu/miniconda3/envs/madigan/lib/python3.7/site-packages/IPython/core/pylabtools.py:132: UserWarning: Creating legend with loc=\"best\" can be slow with large amounts of data.\n",
      "  fig.canvas.print_figure(bytes_io, **kw)\n"
     ]
    },
    {
     "data": {
      "image/png": "[encoded data removed]",
      "text/plain": [
       "<Figure size 432x288 with 1 Axes>"
      ]
     },
     "metadata": {
      "needs_background": "light"
     },
     "output_type": "display_data"
    }
   ],
   "source": [
    "# %matplotlib notebook\n",
    "%matplotlib inline\n",
    "print('length: ', len(trn_df), '\\n', trn_df.head())\n",
    "print('length: ', len(tst_df), '\\n', tst_df.head())\n",
    "fig, ax = plt.subplots()\n",
    "ax.plot(trn_df.mean(axis=1), label='train')\n",
    "ax.plot(tst_df.mean(axis=1), label='test')\n",
    "ax.legend()\n",
    "fig.autofmt_xdate()"
   ]
  },
  {
   "cell_type": "code",
   "execution_count": 7,
   "metadata": {},
   "outputs": [],
   "source": [
    "class BaseDataset(torch.utils.data.Dataset):\n",
    "    def __init__(self, df):\n",
    "        self.df = df.mean(axis=1)\n",
    "    def __len__(self):\n",
    "        return len(self.df)\n",
    "    def __getitem__(self, idx):\n",
    "        return self.df[idx].to_numpy()"
   ]
  },
  {
   "cell_type": "code",
   "execution_count": 8,
   "metadata": {},
   "outputs": [],
   "source": [
    "class FixedWindow(torch.utils.data.Dataset):\n",
    "    def __init__(self, df, window_length):\n",
    "        self.data = df.mean(axis=1).to_numpy().astype(np.float32)\n",
    "#         self.data = df['C'].to_numpy().astype(np.float32)\n",
    "        self.k = window_length\n",
    "    def __len__(self):\n",
    "        return len(self.data) - self.k\n",
    "    def __getitem__(self, idx):\n",
    "        if isinstance(idx, slice):\n",
    "            idx = slice(idx.start+self.k, idx.stop+self.k)\n",
    "        else:\n",
    "            idx = idx + self.k\n",
    "        data = (self.data[idx - self.k: idx])\n",
    "        return data, idx"
   ]
  },
  {
   "cell_type": "code",
   "execution_count": 9,
   "metadata": {},
   "outputs": [],
   "source": [
    "\n",
    "class AE_MLP(nn.Module):\n",
    "    \"\"\"\n",
    "        Symmetric - number of encoding layers == number of deconding layers\n",
    "    \"\"\"\n",
    "    def __init__(self, input_size, encoded_size, d_model, n_encoding_layers):\n",
    "        super().__init__()\n",
    "        self.inp_sz = input_size\n",
    "        self.enc_dz = encoded_size\n",
    "        self.act_fn = nn.Tanh()\n",
    "        bias = False\n",
    "        layers = [nn.Linear(input_size, d_model, bias=bias), self.act_fn]\n",
    "        for i in range(n_encoding_layers):\n",
    "            layers.append(nn.Linear(d_model, d_model))\n",
    "            layers.append(self.act_fn)\n",
    "        self.encoder = nn.Sequential(*layers, nn.Linear(d_model, encoded_size, bias=bias))\n",
    "        layers = [nn.Linear(encoded_size, d_model, bias=bias)]\n",
    "        for i in range(n_encoding_layers):\n",
    "            layers.append(nn.Linear(d_model, d_model, bias=bias))\n",
    "            layers.append(self.act_fn)\n",
    "        self.decoder = nn.Sequential(*layers, nn.Linear(d_model, input_size, bias=bias))        \n",
    "        \n",
    "    def forward(self, x):\n",
    "#         with torch.no_grad():\n",
    "#             norm = x[:, -1][..., None]\n",
    "#             x = x / norm\n",
    "        # NORMALIZE\n",
    "        mean = x.mean(-1, keepdim=True)\n",
    "        std = x.std(-1, keepdim=True)\n",
    "        x = (x - mean) / std\n",
    "        encoded = self.act_fn(self.encoder(x))\n",
    "        decoded = self.decoder(encoded)\n",
    "        # DENORMALIZE\n",
    "        decoded = (decoded * std) + mean\n",
    "        return decoded"
   ]
  },
  {
   "cell_type": "code",
   "execution_count": null,
   "metadata": {},
   "outputs": [],
   "source": []
  },
  {
   "cell_type": "code",
   "execution_count": 10,
   "metadata": {},
   "outputs": [],
   "source": [
    "from torch.nn.functional import relu, gelu\n",
    "\n",
    "class AE_CNN_SYMM(nn.Module):\n",
    "    \"\"\"\n",
    "        Symmetric - number of encoding layers == number of deconding layers\n",
    "        all Conv1D layers have the same number of channels == d_model\n",
    "        d_fc is the size of fc projection after the encoded bottleneck, \n",
    "        before passing on to Conv1dTranspose layers\n",
    "    \"\"\"\n",
    "    def __init__(self, input_size, encoded_size, d_model, d_fc,\n",
    "                 n_encoding_layers, dropout=0.1):\n",
    "        super().__init__()\n",
    "        self.inp_sz = input_size\n",
    "        self.enc_dz = encoded_size\n",
    "        self.d_model = d_model\n",
    "        self.d_fc = d_fc\n",
    "        self.dropout = dropout\n",
    "        self.act = nn.GELU()\n",
    "        \n",
    "        bias = False\n",
    "        layers = [nn.Conv1d(1, d_model, 5, bias=bias), self.act]\n",
    "        for i in range(n_encoding_layers):\n",
    "            layers.append(nn.Conv1d(d_model,  d_model, 5, bias=bias))\n",
    "            layers.append(self.act)\n",
    "            layers.append(nn.BatchNorm1d(d_model))\n",
    "            \n",
    "        self.encoder_conv = nn.Sequential(*layers)\n",
    "        out_shape = calc_conv_out_shape(input_size, layers)[0]\n",
    "        self.encoder_fc = nn.Linear(out_shape*d_model, encoded_size, bias=bias)\n",
    "        self.decoder_fc = nn.Linear(encoded_size, d_fc*out_shape, bias=bias)\n",
    "        \n",
    "        layers = [nn.ConvTranspose1d(d_fc, d_model, 5, bias=bias),\n",
    "                 self.act]\n",
    "        for i in range(n_encoding_layers-1):\n",
    "            layers.append(nn.ConvTranspose1d(d_model, d_model, 5, bias=bias))\n",
    "            layers.append(self.act)\n",
    "            layers.append(nn.BatchNorm1d(d_model))\n",
    "        self.decoder_conv = nn.Sequential(*layers, nn.ConvTranspose1d(d_model, 1, 5, bias=bias))\n",
    "        \n",
    "        \n",
    "    def forward(self, x):\n",
    "        mean = x.mean(-1, keepdim=True)\n",
    "        std = x.std(-1, keepdim=True)\n",
    "        x = (x-mean) / std\n",
    "        x = x[..., None].transpose(1, -1)\n",
    "        x = self.encoder_conv(x).reshape(x.shape[0], -1)\n",
    "        x = self.act(self.encoder_fc(x))\n",
    "        x = self.act(self.decoder_fc(x))\n",
    "        x = x.reshape(x.shape[0], self.d_fc, -1)\n",
    "        x = self.decoder_conv(x)[:, 0, :]        \n",
    "        return mean + (x * std)"
   ]
  },
  {
   "cell_type": "code",
   "execution_count": 119,
   "metadata": {},
   "outputs": [],
   "source": [
    "class AE_CNN(nn.Module):\n",
    "    \"\"\"\n",
    "    AutoEncoder using 1D convolutions\n",
    "    After the bottleneck (of size encoded_size)\n",
    "    \"\"\"\n",
    "    def __init__(self, input_size, encoder_channels,\n",
    "                 encoded_size, d_fc, decoder_channels,\n",
    "                 strides, dropout=0.1):\n",
    "        super().__init__()\n",
    "        self.inp_sz = input_size\n",
    "        self.enc_dz = encoded_size\n",
    "        self.d_fc = d_fc\n",
    "        self.dropout = nn.Dropout(dropout)\n",
    "        self.act = nn.GELU()\n",
    "        kernel_size = 5\n",
    "        bias = True\n",
    "        groups = 1\n",
    "        \n",
    "        encoder_channels = [1] + encoder_channels\n",
    "        layers=[]\n",
    "        for i in range(1, len(encoder_channels)):\n",
    "            conv = nn.Conv1d(encoder_channels[i-1], encoder_channels[i],\n",
    "                             kernel_size, \n",
    "                             strides=strides[i],\n",
    "                             bias=bias, \n",
    "                             groups=min(max(\n",
    "                                 encoder_channels[i-1]//groups, 1), groups),\n",
    "                             padding = (kernel_size-1)//2)\n",
    "#             padding = calc_pad_to_conserve(input_size, conv, causal_dim=0)\n",
    "#             print(padding)\n",
    "#             layers.append(nn.ReplicationPad1d(padding = padding[0]//2))\n",
    "#             layers.append(nn.ZeroPad1d(padding = padding[0]//2))\n",
    "            layers.append(conv)\n",
    "            layers.append(self.act)\n",
    "            layers.append(nn.BatchNorm1d(encoder_channels[i]))\n",
    "            \n",
    "        self.encoder_conv = nn.Sequential(*layers)\n",
    "        \n",
    "        out_sz = calc_conv_out_shape(input_size, layers)[0]\n",
    "        self.encoder_fc = nn.Linear(out_sz*encoder_channels[-1],\n",
    "                                    encoded_size, bias=bias)\n",
    "        \n",
    "        decoder_channels = [d_fc] + decoder_channels\n",
    "        layers=[]\n",
    "        for i in range(1, len(decoder_channels)):\n",
    "            layers.append(nn.ConvTranspose1d(decoder_channels[i-1],\n",
    "                                             decoder_channels[i], \n",
    "                                             5, groups=groups, bias=bias))\n",
    "            layers.append(self.act)\n",
    "            layers.append(nn.BatchNorm1d(decoder_channels[i]))\n",
    "            \n",
    "        self.decoder_conv = nn.Sequential(\n",
    "            *layers, nn.ConvTranspose1d(decoder_channels[-1], 1, 5, bias=bias))\n",
    "        \n",
    "        # decoder_fc is earlier in the call graph\n",
    "        # but decoder_conv output is used to adaptively determine dec_sz\n",
    "        # so is intialized after decoder_conv\n",
    "        dec_sz = out_sz // 2 # reasonable starting value\n",
    "        dummy_input = torch.randn(1, d_fc, dec_sz)\n",
    "        while self.decoder_conv(dummy_input).shape[-1] < input_size:\n",
    "            dec_sz += 1\n",
    "            dummy_input = torch.randn(1, d_fc, dec_sz)\n",
    "        self.decoder_fc = nn.Linear(encoded_size, d_fc*dec_sz, bias=bias)\n",
    "        \n",
    "    def forward(self, x):\n",
    "        mean = x.mean(-1, keepdim=True)\n",
    "#         mean = torch.zeros_like(x)\n",
    "        std = x.std(-1, keepdim=True)\n",
    "#         std = torch.ones_like(mean)\n",
    "        x = (x-mean) / std\n",
    "        x = x[..., None].transpose(1, -1)\n",
    "        x = self.encoder_conv(x).reshape(x.shape[0], -1)\n",
    "        x = self.act(self.encoder_fc(x))\n",
    "        x = self.act(self.decoder_fc(x))\n",
    "        x = self.dropout(x.reshape(x.shape[0], self.d_fc, -1))\n",
    "        x = self.decoder_conv(x)[:, 0, :]        \n",
    "        return mean + (x * std)"
   ]
  },
  {
   "cell_type": "code",
   "execution_count": 120,
   "metadata": {},
   "outputs": [],
   "source": [
    "def model_size(model):\n",
    "     return reduce(lambda x,y:x+y,\n",
    "                   [reduce(lambda x,y:x+y, p.shape)\n",
    "                    for p in model.parameters()])"
   ]
  },
  {
   "cell_type": "code",
   "execution_count": 121,
   "metadata": {},
   "outputs": [],
   "source": [
    "def trainer(model, dataloader, device, lr=1e-3):\n",
    "    loss_fn = nn.MSELoss()\n",
    "    loss_fn = nn.L1Loss()\n",
    "    opt = torch.optim.Adam(model.parameters(), lr=lr)\n",
    "    print_freq = max(len(dataloader) // 100, 100)\n",
    "    model.train()\n",
    "    for i, (x, idx) in enumerate(iter(dataloader)):\n",
    "        opt.zero_grad()\n",
    "        x = x.to(device)\n",
    "        y = x\n",
    "        pred = model(x)\n",
    "        loss = loss_fn(pred, y)\n",
    "        loss.backward()\n",
    "        opt.step()\n",
    "        _loss = loss.detach().item()\n",
    "        yield _loss\n",
    "        if i % print_freq == 0:\n",
    "            print(_loss, end='\\r', flush=True)\n",
    "        \n",
    "@torch.no_grad()\n",
    "def test(model, dataloader, device):\n",
    "    loss_fn = nn.MSELoss()\n",
    "    loss_fn = nn.L1Loss()\n",
    "    losses = []\n",
    "    xs = []\n",
    "    preds = []\n",
    "    model.eval()\n",
    "    for i, (x, idx) in enumerate(iter(dataloader)):\n",
    "        x = x.to(device)\n",
    "        y = x\n",
    "        pred = model(x)\n",
    "        loss = loss_fn(pred, y)\n",
    "        losses.append(loss.detach().item())\n",
    "        xs.append(x.cpu().numpy())\n",
    "        preds.append(pred.cpu().numpy())\n",
    "    return {'loss': losses, 'x': xs, 'pred': preds}\n",
    "        "
   ]
  },
  {
   "cell_type": "code",
   "execution_count": 122,
   "metadata": {},
   "outputs": [],
   "source": [
    "def show_performance(metrics, accumulate_returns=False):\n",
    "    fig, ax = plt.subplots(4, 4, figsize=(15, 15))\n",
    "    axs = ax.flatten()\n",
    "    for i, _ax in enumerate(axs):\n",
    "        if accumulate_returns:\n",
    "            dat_y = np.cumsum(metrics['x'][0][i])\n",
    "            dat_pred = np.cumsum(metrics['pred'][0][i])\n",
    "        else:\n",
    "            dat_y = metrics['x'][0][i]\n",
    "            dat_pred = metrics['pred'][0][i]\n",
    "        _ax.plot(dat_y, label='y target')\n",
    "        _ax.plot(dat_pred, label='pred')\n",
    "        _ax.legend()\n",
    "    return fig, ax\n"
   ]
  },
  {
   "cell_type": "code",
   "execution_count": 123,
   "metadata": {},
   "outputs": [
    {
     "name": "stdout",
     "output_type": "stream",
     "text": [
      "model size 6345\n",
      "len of train dataset 1502192\n",
      "len of train dataloader 23472\n"
     ]
    }
   ],
   "source": [
    "window_size = 64\n",
    "batch_size = 64\n",
    "d_model = 32\n",
    "encoded_size = 8\n",
    "d_fc = 32\n",
    "encoder_channels = [32, 32]\n",
    "decoder_channels = [64, 64, 64]\n",
    "dropout = 0.2\n",
    "\n",
    "trn_dset = FixedWindow(trn_df, window_size)\n",
    "tst_dset = FixedWindow(tst_df, window_size)\n",
    "trnloader = torch.utils.data.DataLoader(trn_dset, batch_size=batch_size, \n",
    "                                        shuffle=True)\n",
    "tstloader = torch.utils.data.DataLoader(tst_dset, batch_size=batch_size, \n",
    "                                        shuffle=True)\n",
    "\n",
    "# model = AE_MLP(input_size=window_size, encoded_size=16, d_model=64, n_encoding_layers=1).to(device)\n",
    "# model = AE_CNN_SYMM(input_size=window_size, encoded_size=window_size//8,\n",
    "#                     d_model=d_model, d_fc=d_fc, n_encoding_layers=1).to(device)\n",
    "# model = AE_CNN_ASYMM(input_size=64, encoded_size=32, d_model=32, n_encoding_layers=4).to(device)\n",
    "model = AE_CNN(window_size, encoder_channels, encoded_size, \n",
    "               d_fc, decoder_channels, dropout=dropout).to(device)\n",
    "print('model size', model_size(model))\n",
    "print('len of train dataset', len(trn_dset))\n",
    "print('len of train dataloader', len(trnloader))"
   ]
  },
  {
   "cell_type": "code",
   "execution_count": 124,
   "metadata": {
    "scrolled": true
   },
   "outputs": [],
   "source": [
    "# Test forward pass\n",
    "\n",
    "x = next(iter(trnloader))[0].to(device)\n",
    "pred = model(x)\n",
    "assert x.shape == pred.shape, print(pred.shape, x.shape)"
   ]
  },
  {
   "cell_type": "code",
   "execution_count": 125,
   "metadata": {},
   "outputs": [],
   "source": [
    "losses = []"
   ]
  },
  {
   "cell_type": "code",
   "execution_count": 129,
   "metadata": {
    "scrolled": true
   },
   "outputs": [
    {
     "data": {
      "application/vnd.jupyter.widget-view+json": {
       "model_id": "f491623fdf4c4f78a99f552ae1f06e41",
       "version_major": 2,
       "version_minor": 0
      },
      "text/plain": [
       "HBox(children=(HTML(value=''), FloatProgress(value=0.0, max=1.0), HTML(value='')))"
      ]
     },
     "metadata": {},
     "output_type": "display_data"
    },
    {
     "name": "stdout",
     "output_type": "stream",
     "text": [
      "0.019935397431254387\n"
     ]
    }
   ],
   "source": [
    "epochs =  1\n",
    "\n",
    "opt = torch.optim.Adam(model.parameters(), lr=1e-3)\n",
    "for i in tqdm(range(epochs)):\n",
    "    train_loop = iter(trainer(model, trnloader, device))\n",
    "    for loss in train_loop:\n",
    "        losses.append(loss)\n",
    "    "
   ]
  },
  {
   "cell_type": "code",
   "execution_count": null,
   "metadata": {},
   "outputs": [],
   "source": [
    "metrics = test(model, tstloader, device)\n",
    "\n",
    "fig, ax = plt.subplots(1, 2)\n",
    "ax[0].plot(losses[-len(trnloader)+10:])\n",
    "ax[0].plot(pd.Series(losses[-len(trnloader)+10:]).rolling(50).mean(),\n",
    "          label='running mean (50 period)')\n",
    "ax[0].set_title('Training Loss')\n",
    "ax[1].plot(metrics['loss'])\n",
    "ax[1].plot(pd.Series(metrics['loss']).rolling(50).mean(),\n",
    "          label='running mean (50 period)')\n",
    "_ = ax[1].set_title(f\"Val Loss \\nmean: {np.mean(metrics['loss']): .4f}\")"
   ]
  },
  {
   "cell_type": "code",
   "execution_count": null,
   "metadata": {},
   "outputs": [],
   "source": [
    "fig, ax = show_performance(metrics, accumulate_returns=False)\n",
    "_ = fig.suptitle(f\"Model: {type(model).__name__}  \\n\" +\n",
    "                 f\"mean loss: {np.mean(metrics['loss']): .4f} \\n\" +\n",
    "                 f\"# params: {model_size(model)}\")"
   ]
  },
  {
   "cell_type": "code",
   "execution_count": 77,
   "metadata": {},
   "outputs": [
    {
     "data": {
      "text/plain": [
       "[AE_CNN(\n",
       "   (dropout): Dropout(p=0.2, inplace=False)\n",
       "   (act): GELU()\n",
       "   (encoder_conv): Sequential(\n",
       "     (0): Conv1d(1, 32, kernel_size=(5,), stride=(1,), padding=(2,))\n",
       "     (1): GELU()\n",
       "     (2): Conv1d(32, 32, kernel_size=(5,), stride=(1,), padding=(2,), groups=2)\n",
       "     (3): GELU()\n",
       "   )\n",
       "   (encoder_fc): Linear(in_features=2048, out_features=8, bias=True)\n",
       "   (decoder_conv): Sequential(\n",
       "     (0): ConvTranspose1d(32, 64, kernel_size=(5,), stride=(1,), groups=2)\n",
       "     (1): GELU()\n",
       "     (2): ConvTranspose1d(64, 64, kernel_size=(5,), stride=(1,), groups=2)\n",
       "     (3): GELU()\n",
       "     (4): ConvTranspose1d(64, 64, kernel_size=(5,), stride=(1,), groups=2)\n",
       "     (5): GELU()\n",
       "     (6): ConvTranspose1d(64, 1, kernel_size=(5,), stride=(1,))\n",
       "   )\n",
       "   (decoder_fc): Linear(in_features=8, out_features=1536, bias=True)\n",
       " ),\n",
       " Dropout(p=0.2, inplace=False),\n",
       " GELU(),\n",
       " Sequential(\n",
       "   (0): Conv1d(1, 32, kernel_size=(5,), stride=(1,), padding=(2,))\n",
       "   (1): GELU()\n",
       "   (2): Conv1d(32, 32, kernel_size=(5,), stride=(1,), padding=(2,), groups=2)\n",
       "   (3): GELU()\n",
       " ),\n",
       " Conv1d(1, 32, kernel_size=(5,), stride=(1,), padding=(2,)),\n",
       " Conv1d(32, 32, kernel_size=(5,), stride=(1,), padding=(2,), groups=2),\n",
       " Linear(in_features=2048, out_features=8, bias=True),\n",
       " Sequential(\n",
       "   (0): ConvTranspose1d(32, 64, kernel_size=(5,), stride=(1,), groups=2)\n",
       "   (1): GELU()\n",
       "   (2): ConvTranspose1d(64, 64, kernel_size=(5,), stride=(1,), groups=2)\n",
       "   (3): GELU()\n",
       "   (4): ConvTranspose1d(64, 64, kernel_size=(5,), stride=(1,), groups=2)\n",
       "   (5): GELU()\n",
       "   (6): ConvTranspose1d(64, 1, kernel_size=(5,), stride=(1,))\n",
       " ),\n",
       " ConvTranspose1d(32, 64, kernel_size=(5,), stride=(1,), groups=2),\n",
       " ConvTranspose1d(64, 64, kernel_size=(5,), stride=(1,), groups=2),\n",
       " ConvTranspose1d(64, 64, kernel_size=(5,), stride=(1,), groups=2),\n",
       " ConvTranspose1d(64, 1, kernel_size=(5,), stride=(1,)),\n",
       " Linear(in_features=8, out_features=1536, bias=True)]"
      ]
     },
     "execution_count": 77,
     "metadata": {},
     "output_type": "execute_result"
    }
   ],
   "source": [
    "list(model.modules())"
   ]
  },
  {
   "cell_type": "code",
   "execution_count": null,
   "metadata": {},
   "outputs": [],
   "source": []
  }
 ],
 "metadata": {
  "kernelspec": {
   "display_name": "Python 3",
   "language": "python",
   "name": "python3"
  },
  "language_info": {
   "codemirror_mode": {
    "name": "ipython",
    "version": 3
   },
   "file_extension": ".py",
   "mimetype": "text/x-python",
   "name": "python",
   "nbconvert_exporter": "python",
   "pygments_lexer": "ipython3",
   "version": "3.7.7"
  }
 },
 "nbformat": 4,
 "nbformat_minor": 4
}
