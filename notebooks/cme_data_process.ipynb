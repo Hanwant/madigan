{
 "cells": [
  {
   "cell_type": "code",
   "execution_count": 1,
   "metadata": {},
   "outputs": [],
   "source": [
    "from pathlib import Path\n",
    "import gzip\n",
    "import json\n",
    "import requests\n",
    "from requests.auth import HTTPBasicAuth\n",
    "import urllib3\n",
    "\n",
    "import numpy as np\n",
    "import pandas as pd\n",
    "import h5py\n",
    "from tqdm.notebook import tqdm\n",
    "import matplotlib.pyplot as plt\n",
    "\n",
    "import datamine.io as dm"
   ]
  },
  {
   "cell_type": "code",
   "execution_count": 2,
   "metadata": {},
   "outputs": [
    {
     "name": "stdout",
     "output_type": "stream",
     "text": [
      "/media/hemu/Data/Markets/Crypto/CME/CRYPTOCURRENCY/20170407_btcIndexJson.gz\n",
      "/media/hemu/Data/Markets/Crypto/CME/CRYPTOCURRENCY/20170408_btcIndexJson.gz\n",
      "/media/hemu/Data/Markets/Crypto/CME/CRYPTOCURRENCY/20170409_btcIndexJson.gz\n",
      "/media/hemu/Data/Markets/Crypto/CME/CRYPTOCURRENCY/20170410_btcIndexJson.gz\n",
      "/media/hemu/Data/Markets/Crypto/CME/CRYPTOCURRENCY/20170411_btcIndexJson.gz\n"
     ]
    }
   ],
   "source": [
    "path = Path(\"/media/hemu/Data/Markets/Crypto/CME/CRYPTOCURRENCY\")\n",
    "\n",
    "files = list(path.iterdir())\n",
    "files.sort()\n",
    "print(*files[:5], sep='\\n')\n",
    "# df = pd.read_json(files[0])"
   ]
  },
  {
   "cell_type": "code",
   "execution_count": 3,
   "metadata": {},
   "outputs": [],
   "source": [
    "# pd.read_json(files[0], )"
   ]
  },
  {
   "cell_type": "code",
   "execution_count": 4,
   "metadata": {},
   "outputs": [
    {
     "ename": "SyntaxError",
     "evalue": "invalid syntax (<ipython-input-4-5b1ff00ae95c>, line 1)",
     "output_type": "error",
     "traceback": [
      "\u001b[0;36m  File \u001b[0;32m\"<ipython-input-4-5b1ff00ae95c>\"\u001b[0;36m, line \u001b[0;32m1\u001b[0m\n\u001b[0;31m    url =\u001b[0m\n\u001b[0m          ^\u001b[0m\n\u001b[0;31mSyntaxError\u001b[0m\u001b[0;31m:\u001b[0m invalid syntax\n"
     ]
    }
   ],
   "source": [
    "url = \n",
    "resp = requests.post()"
   ]
  },
  {
   "cell_type": "code",
   "execution_count": 5,
   "metadata": {},
   "outputs": [],
   "source": [
    "myDatamine = dm.DatamineCon(username='hanwant', password='Yamankalyan1', path='/media/hemu/Data/Markets/Crypto/CME/')"
   ]
  },
  {
   "cell_type": "code",
   "execution_count": 6,
   "metadata": {},
   "outputs": [
    {
     "name": "stderr",
     "output_type": "stream",
     "text": [
      "get_catalog: retrieving all datasets, limit None\n"
     ]
    },
    {
     "ename": "KeyError",
     "evalue": "'files'",
     "output_type": "error",
     "traceback": [
      "\u001b[0;31m---------------------------------------------------------------------------\u001b[0m",
      "\u001b[0;31mKeyError\u001b[0m                                  Traceback (most recent call last)",
      "\u001b[0;32m<ipython-input-6-742f3a95d1e4>\u001b[0m in \u001b[0;36m<module>\u001b[0;34m\u001b[0m\n\u001b[0;32m----> 1\u001b[0;31m \u001b[0mmyDatamine\u001b[0m\u001b[0;34m.\u001b[0m\u001b[0mget_catalog\u001b[0m\u001b[0;34m(\u001b[0m\u001b[0;34m)\u001b[0m\u001b[0;34m\u001b[0m\u001b[0;34m\u001b[0m\u001b[0m\n\u001b[0m\u001b[1;32m      2\u001b[0m \u001b[0mprint\u001b[0m\u001b[0;34m(\u001b[0m\u001b[0mmyDatamine\u001b[0m\u001b[0;34m.\u001b[0m\u001b[0mdata_catalog\u001b[0m\u001b[0;34m)\u001b[0m\u001b[0;34m\u001b[0m\u001b[0;34m\u001b[0m\u001b[0m\n",
      "\u001b[0;32m~/miniconda3/envs/madigan/lib/python3.7/site-packages/datamine/io.py\u001b[0m in \u001b[0;36mget_catalog\u001b[0;34m(self, dataset, limit, refresh)\u001b[0m\n\u001b[1;32m    228\u001b[0m                     \u001b[0mlimit\u001b[0m \u001b[0;34m=\u001b[0m \u001b[0mNO_LIMIT\u001b[0m\u001b[0;34m\u001b[0m\u001b[0;34m\u001b[0m\u001b[0m\n\u001b[1;32m    229\u001b[0m                     \u001b[0;32mbreak\u001b[0m\u001b[0;34m\u001b[0m\u001b[0;34m\u001b[0m\u001b[0m\n\u001b[0;32m--> 230\u001b[0;31m                 \u001b[0mfiles\u001b[0m \u001b[0;34m=\u001b[0m \u001b[0mresponse\u001b[0m\u001b[0;34m[\u001b[0m\u001b[0;34m'files'\u001b[0m\u001b[0;34m]\u001b[0m\u001b[0;34m\u001b[0m\u001b[0;34m\u001b[0m\u001b[0m\n\u001b[0m\u001b[1;32m    231\u001b[0m                 \u001b[0mnext_url\u001b[0m \u001b[0;34m=\u001b[0m \u001b[0mresponse\u001b[0m\u001b[0;34m[\u001b[0m\u001b[0;34m'paging'\u001b[0m\u001b[0;34m]\u001b[0m\u001b[0;34m[\u001b[0m\u001b[0;34m'next'\u001b[0m\u001b[0;34m]\u001b[0m\u001b[0;34m\u001b[0m\u001b[0;34m\u001b[0m\u001b[0m\n\u001b[1;32m    232\u001b[0m             \u001b[0;32mexcept\u001b[0m \u001b[0;34m(\u001b[0m\u001b[0mValueError\u001b[0m\u001b[0;34m,\u001b[0m \u001b[0mTypeError\u001b[0m\u001b[0;34m)\u001b[0m\u001b[0;34m:\u001b[0m\u001b[0;34m\u001b[0m\u001b[0;34m\u001b[0m\u001b[0m\n",
      "\u001b[0;31mKeyError\u001b[0m: 'files'"
     ]
    }
   ],
   "source": [
    "myDatamine.get_catalog()\n",
    "print(myDatamine.data_catalog)"
   ]
  },
  {
   "cell_type": "code",
   "execution_count": 9,
   "metadata": {},
   "outputs": [],
   "source": [
    "# dat = myDatamine.load_dataset(\"CRYPTOCURRENCY\", download=True, limit=10, dataset_args={\"yyyymmdd\": 20200101})\n",
    "# myDatamine.crypto_load()"
   ]
  },
  {
   "cell_type": "code",
   "execution_count": 25,
   "metadata": {},
   "outputs": [
    {
     "ename": "RequestError",
     "evalue": "FID not found in the catalog: 20210109-CRYPTOCURRENCY",
     "output_type": "error",
     "traceback": [
      "\u001b[0;31m---------------------------------------------------------------------------\u001b[0m",
      "\u001b[0;31mRequestError\u001b[0m                              Traceback (most recent call last)",
      "\u001b[0;32m<ipython-input-25-705c6078b001>\u001b[0m in \u001b[0;36m<module>\u001b[0;34m\u001b[0m\n\u001b[0;32m----> 1\u001b[0;31m \u001b[0mmyDatamine\u001b[0m\u001b[0;34m.\u001b[0m\u001b[0mdownload_file\u001b[0m\u001b[0;34m(\u001b[0m\u001b[0;34m\"20210109-CRYPTOCURRENCY\"\u001b[0m\u001b[0;34m)\u001b[0m\u001b[0;34m\u001b[0m\u001b[0;34m\u001b[0m\u001b[0m\n\u001b[0m",
      "\u001b[0;32m~/miniconda3/envs/madigan/lib/python3.7/site-packages/datamine/io.py\u001b[0m in \u001b[0;36mdownload_file\u001b[0;34m(self, fid)\u001b[0m\n\u001b[1;32m    107\u001b[0m \u001b[0;34m\u001b[0m\u001b[0m\n\u001b[1;32m    108\u001b[0m         \u001b[0;32mif\u001b[0m \u001b[0mfid\u001b[0m \u001b[0;32mnot\u001b[0m \u001b[0;32min\u001b[0m \u001b[0mself\u001b[0m\u001b[0;34m.\u001b[0m\u001b[0mdata_catalog\u001b[0m\u001b[0;34m:\u001b[0m\u001b[0;34m\u001b[0m\u001b[0;34m\u001b[0m\u001b[0m\n\u001b[0;32m--> 109\u001b[0;31m             \u001b[0;32mraise\u001b[0m \u001b[0mRequestError\u001b[0m\u001b[0;34m(\u001b[0m\u001b[0;34m'FID not found in the catalog: {}'\u001b[0m\u001b[0;34m.\u001b[0m\u001b[0mformat\u001b[0m\u001b[0;34m(\u001b[0m\u001b[0mfid\u001b[0m\u001b[0;34m)\u001b[0m\u001b[0;34m)\u001b[0m\u001b[0;34m\u001b[0m\u001b[0;34m\u001b[0m\u001b[0m\n\u001b[0m\u001b[1;32m    110\u001b[0m         \u001b[0mrecord\u001b[0m \u001b[0;34m=\u001b[0m \u001b[0mself\u001b[0m\u001b[0;34m.\u001b[0m\u001b[0mdata_catalog\u001b[0m\u001b[0;34m[\u001b[0m\u001b[0mfid\u001b[0m\u001b[0;34m]\u001b[0m\u001b[0;34m\u001b[0m\u001b[0;34m\u001b[0m\u001b[0m\n\u001b[1;32m    111\u001b[0m         \u001b[0msupplied_url\u001b[0m\u001b[0;34m,\u001b[0m \u001b[0mparams\u001b[0m \u001b[0;34m=\u001b[0m \u001b[0m_url_params\u001b[0m\u001b[0;34m(\u001b[0m\u001b[0mrecord\u001b[0m\u001b[0;34m[\u001b[0m\u001b[0;34m'url'\u001b[0m\u001b[0;34m]\u001b[0m\u001b[0;34m)\u001b[0m\u001b[0;34m\u001b[0m\u001b[0;34m\u001b[0m\u001b[0m\n",
      "\u001b[0;31mRequestError\u001b[0m: FID not found in the catalog: 20210109-CRYPTOCURRENCY"
     ]
    }
   ],
   "source": [
    "myDatamine.download_file(\"20210109-CRYPTOCURRENCY\")"
   ]
  },
  {
   "cell_type": "code",
   "execution_count": 26,
   "metadata": {},
   "outputs": [],
   "source": [
    "DTYPES = {'category': ('mdEntryCode', 'mdEntryType', 'mdUpdateAction',\n",
    "                       'symbol', 'openCloseSettlFlag'),\n",
    "          'int64': ('rptSeq',),\n",
    "          'float': ('netChgPrevDay', 'netPctChg', 'mdEntryPx'),\n",
    "          'date:%Y%m%d_%H:%M:%S.%f': 'mdEntryDateTime'}\n",
    "\n",
    "def read_raw_df(filename):\n",
    "    with gzip.open(filename, 'rt', encoding='utf-8') as f:\n",
    "        result = []\n",
    "        for line in f:\n",
    "            line = json.loads(line)\n",
    "            if 'mdEntries' in line:\n",
    "                result.append(line['mdEntries'][0])\n",
    "        result = pd.DataFrame(result)\n",
    "        result['mdEntryDateTime'] = result['mdEntryDate'] + '_' + result['mdEntryTime']\n",
    "        result = result.drop(['mdEntryDate', 'mdEntryTime'], axis=1)\n",
    "    return result\n",
    "    \n",
    "def process_raw_df(df, dtypes):\n",
    "    for dtype, cols in dtypes.items():\n",
    "        for col in ((cols,) if isinstance(cols, str) else cols):\n",
    "            if col in df:\n",
    "                if dtype.startswith('date'):\n",
    "                    format = None if dtype == 'date' else dtype[5:]\n",
    "                    df[col] = pd.to_datetime(df[col], format=format, utc=True, errors='ignore')\n",
    "                else:\n",
    "                    df[col] = df[col].astype(dtype, errors='ignore')\n",
    "    return df\n",
    "\n",
    "def load_df(filename, dtypes):\n",
    "    df = read_raw_df(filename)\n",
    "    df = process_raw_df(df, dtypes)\n",
    "    return df\n",
    "\n",
    "def partition_df(df):\n",
    "    dfs={}\n",
    "    symbols = df['symbol'].unique()\n",
    "    for symbol in symbols:\n",
    "        dfs[symbol] = df[df['symbol']==symbol]\n",
    "    return dfs\n",
    "\n",
    "def bounds_ok(df, hd_filename, key):\n",
    "    \"\"\" \n",
    "    Checks that df mdEntryDateTIme is AFTER whats already saved in hdf file.\n",
    "    Assumes df is in cme format and hd file contains key 'timestamps' \n",
    "    \"\"\"\n",
    "    if hd_filename.is_file():\n",
    "#         start = pd.read_hdf(hd_filename, key=key, start=0, stop=1)['timestamps'].iloc[0]\n",
    "#         df_end = df['mdEntryDatetime'].iloc[-1].value\n",
    "        with pd.HDFStore(hd_filename, mode='r') as f:\n",
    "            keys = f.keys()\n",
    "        if key in keys:\n",
    "            df_start = df['mdEntryDateTime'].iloc[0].value\n",
    "            end = pd.read_hdf(hd_filename, key=key, start=-2, stop=-1)['timestamps'].iloc[0]\n",
    "            if not (df_start > end ):\n",
    "                return False\n",
    "    return True\n",
    "\n",
    "def save_to_hdf(df, hd_filename, key):\n",
    "    if not bounds_ok(df, hd_filename, key):\n",
    "        raise IndexError(\"Overlapped index\", df['mdEntryTime'].iloc[0])\n",
    "    _df = pd.DataFrame({'timestamps': df['mdEntryDateTime'].astype(int),\n",
    "                       'price': df['mdEntryPx']})\n",
    "    _df.to_hdf(hd_filename, key=key, mode='a', append=True, format='table')\n",
    "    \n",
    "def save_partitions_to_hdf(dfs, hd_filename, key):\n",
    "    for name, df in dfs.items():\n",
    "        save_to_hdf(df, hd_filename, key+'/'+name)\n",
    "    \n",
    "def load_from_hdf(hd_filename, key, start=None, stop=None):\n",
    "    df = pd.read_hdf(hd_filename, key=key, start=start, stop=stop)\n",
    "    df['timestamps'] = pd.to_datetime(df['timestamps'])\n",
    "    return df\n",
    "    \n",
    "def cme_format_to_hdf(cme_filename, hd_filename, key):\n",
    "    dfs = partition_df(load_df(cme_filename, DTYPES))\n",
    "    save_partitions_to_hdf(dfs, hd_filename, key)"
   ]
  },
  {
   "cell_type": "code",
   "execution_count": 27,
   "metadata": {},
   "outputs": [],
   "source": [
    "def convert_all_to_hdf(files, hd_filename, key):\n",
    "    for file in tqdm(files):\n",
    "        cme_format_to_hdf(file, hd_filename, key)\n",
    "            "
   ]
  },
  {
   "cell_type": "code",
   "execution_count": null,
   "metadata": {},
   "outputs": [],
   "source": [
    "def resample_hdf"
   ]
  },
  {
   "cell_type": "raw",
   "metadata": {},
   "source": [
    "df = load_df(files[0], DTYPES)\n",
    "dfs = partition_df(df)\n",
    "print(dfs.keys())\n",
    "dfs['BRTI']"
   ]
  },
  {
   "cell_type": "code",
   "execution_count": 59,
   "metadata": {},
   "outputs": [
    {
     "data": {
      "text/plain": [
       "PosixPath('/media/hemu/Data/Markets/Crypto/CME/CRYPTOCURRENCY/20191225_btcIndexJson.gz')"
      ]
     },
     "execution_count": 59,
     "metadata": {},
     "output_type": "execute_result"
    }
   ],
   "source": [
    "files[989]"
   ]
  },
  {
   "cell_type": "code",
   "execution_count": 60,
   "metadata": {},
   "outputs": [
    {
     "data": {
      "text/html": [
       "<div>\n",
       "<style scoped>\n",
       "    .dataframe tbody tr th:only-of-type {\n",
       "        vertical-align: middle;\n",
       "    }\n",
       "\n",
       "    .dataframe tbody tr th {\n",
       "        vertical-align: top;\n",
       "    }\n",
       "\n",
       "    .dataframe thead th {\n",
       "        text-align: right;\n",
       "    }\n",
       "</style>\n",
       "<table border=\"1\" class=\"dataframe\">\n",
       "  <thead>\n",
       "    <tr style=\"text-align: right;\">\n",
       "      <th></th>\n",
       "      <th>symbol</th>\n",
       "      <th>rptSeq</th>\n",
       "      <th>mdEntryType</th>\n",
       "      <th>mdEntryPx</th>\n",
       "      <th>mdUpdateAction</th>\n",
       "      <th>openCloseSettlFlag</th>\n",
       "      <th>netChgPrevDay</th>\n",
       "      <th>netPctChg</th>\n",
       "      <th>mdEntryCode</th>\n",
       "      <th>mdEntryDateTime</th>\n",
       "    </tr>\n",
       "  </thead>\n",
       "  <tbody>\n",
       "    <tr>\n",
       "      <th>0</th>\n",
       "      <td>ETHUSD_RTI</td>\n",
       "      <td>52626143</td>\n",
       "      <td>INDEX_VALUE</td>\n",
       "      <td>127.59</td>\n",
       "      <td>NEW</td>\n",
       "      <td>NaN</td>\n",
       "      <td>NaN</td>\n",
       "      <td>NaN</td>\n",
       "      <td>NaN</td>\n",
       "      <td>2019-12-25 00:00:00+00:00</td>\n",
       "    </tr>\n",
       "    <tr>\n",
       "      <th>1</th>\n",
       "      <td>BRTI</td>\n",
       "      <td>101932508</td>\n",
       "      <td>INDEX_VALUE</td>\n",
       "      <td>7251.96</td>\n",
       "      <td>NEW</td>\n",
       "      <td>NaN</td>\n",
       "      <td>NaN</td>\n",
       "      <td>NaN</td>\n",
       "      <td>NaN</td>\n",
       "      <td>2019-12-25 00:00:00+00:00</td>\n",
       "    </tr>\n",
       "    <tr>\n",
       "      <th>2</th>\n",
       "      <td>BRTI</td>\n",
       "      <td>101932509</td>\n",
       "      <td>INDEX_VALUE</td>\n",
       "      <td>7251.94</td>\n",
       "      <td>NEW</td>\n",
       "      <td>NaN</td>\n",
       "      <td>NaN</td>\n",
       "      <td>NaN</td>\n",
       "      <td>NaN</td>\n",
       "      <td>2019-12-25 00:00:01+00:00</td>\n",
       "    </tr>\n",
       "    <tr>\n",
       "      <th>3</th>\n",
       "      <td>ETHUSD_RTI</td>\n",
       "      <td>52626144</td>\n",
       "      <td>INDEX_VALUE</td>\n",
       "      <td>127.59</td>\n",
       "      <td>NEW</td>\n",
       "      <td>NaN</td>\n",
       "      <td>NaN</td>\n",
       "      <td>NaN</td>\n",
       "      <td>NaN</td>\n",
       "      <td>2019-12-25 00:00:01+00:00</td>\n",
       "    </tr>\n",
       "    <tr>\n",
       "      <th>4</th>\n",
       "      <td>BRTI</td>\n",
       "      <td>101932510</td>\n",
       "      <td>INDEX_VALUE</td>\n",
       "      <td>7251.76</td>\n",
       "      <td>NEW</td>\n",
       "      <td>NaN</td>\n",
       "      <td>NaN</td>\n",
       "      <td>NaN</td>\n",
       "      <td>NaN</td>\n",
       "      <td>2019-12-25 00:00:02+00:00</td>\n",
       "    </tr>\n",
       "    <tr>\n",
       "      <th>...</th>\n",
       "      <td>...</td>\n",
       "      <td>...</td>\n",
       "      <td>...</td>\n",
       "      <td>...</td>\n",
       "      <td>...</td>\n",
       "      <td>...</td>\n",
       "      <td>...</td>\n",
       "      <td>...</td>\n",
       "      <td>...</td>\n",
       "      <td>...</td>\n",
       "    </tr>\n",
       "    <tr>\n",
       "      <th>172797</th>\n",
       "      <td>ETHUSD_RTI</td>\n",
       "      <td>52712540</td>\n",
       "      <td>INDEX_VALUE</td>\n",
       "      <td>124.80</td>\n",
       "      <td>NEW</td>\n",
       "      <td>NaN</td>\n",
       "      <td>NaN</td>\n",
       "      <td>NaN</td>\n",
       "      <td>NaN</td>\n",
       "      <td>2019-12-25 23:59:57+00:00</td>\n",
       "    </tr>\n",
       "    <tr>\n",
       "      <th>172798</th>\n",
       "      <td>BRTI</td>\n",
       "      <td>102018906</td>\n",
       "      <td>INDEX_VALUE</td>\n",
       "      <td>7194.50</td>\n",
       "      <td>NEW</td>\n",
       "      <td>NaN</td>\n",
       "      <td>NaN</td>\n",
       "      <td>NaN</td>\n",
       "      <td>NaN</td>\n",
       "      <td>2019-12-25 23:59:58+00:00</td>\n",
       "    </tr>\n",
       "    <tr>\n",
       "      <th>172799</th>\n",
       "      <td>ETHUSD_RTI</td>\n",
       "      <td>52712541</td>\n",
       "      <td>INDEX_VALUE</td>\n",
       "      <td>124.80</td>\n",
       "      <td>NEW</td>\n",
       "      <td>NaN</td>\n",
       "      <td>NaN</td>\n",
       "      <td>NaN</td>\n",
       "      <td>NaN</td>\n",
       "      <td>2019-12-25 23:59:58+00:00</td>\n",
       "    </tr>\n",
       "    <tr>\n",
       "      <th>172800</th>\n",
       "      <td>BRTI</td>\n",
       "      <td>102018907</td>\n",
       "      <td>INDEX_VALUE</td>\n",
       "      <td>7194.57</td>\n",
       "      <td>NEW</td>\n",
       "      <td>NaN</td>\n",
       "      <td>NaN</td>\n",
       "      <td>NaN</td>\n",
       "      <td>NaN</td>\n",
       "      <td>2019-12-25 23:59:59+00:00</td>\n",
       "    </tr>\n",
       "    <tr>\n",
       "      <th>172801</th>\n",
       "      <td>ETHUSD_RTI</td>\n",
       "      <td>52712542</td>\n",
       "      <td>INDEX_VALUE</td>\n",
       "      <td>124.80</td>\n",
       "      <td>NEW</td>\n",
       "      <td>NaN</td>\n",
       "      <td>NaN</td>\n",
       "      <td>NaN</td>\n",
       "      <td>NaN</td>\n",
       "      <td>2019-12-25 23:59:59+00:00</td>\n",
       "    </tr>\n",
       "  </tbody>\n",
       "</table>\n",
       "<p>172802 rows × 10 columns</p>\n",
       "</div>"
      ],
      "text/plain": [
       "            symbol     rptSeq  mdEntryType  mdEntryPx mdUpdateAction  \\\n",
       "0       ETHUSD_RTI   52626143  INDEX_VALUE     127.59            NEW   \n",
       "1             BRTI  101932508  INDEX_VALUE    7251.96            NEW   \n",
       "2             BRTI  101932509  INDEX_VALUE    7251.94            NEW   \n",
       "3       ETHUSD_RTI   52626144  INDEX_VALUE     127.59            NEW   \n",
       "4             BRTI  101932510  INDEX_VALUE    7251.76            NEW   \n",
       "...            ...        ...          ...        ...            ...   \n",
       "172797  ETHUSD_RTI   52712540  INDEX_VALUE     124.80            NEW   \n",
       "172798        BRTI  102018906  INDEX_VALUE    7194.50            NEW   \n",
       "172799  ETHUSD_RTI   52712541  INDEX_VALUE     124.80            NEW   \n",
       "172800        BRTI  102018907  INDEX_VALUE    7194.57            NEW   \n",
       "172801  ETHUSD_RTI   52712542  INDEX_VALUE     124.80            NEW   \n",
       "\n",
       "       openCloseSettlFlag  netChgPrevDay  netPctChg mdEntryCode  \\\n",
       "0                     NaN            NaN        NaN         NaN   \n",
       "1                     NaN            NaN        NaN         NaN   \n",
       "2                     NaN            NaN        NaN         NaN   \n",
       "3                     NaN            NaN        NaN         NaN   \n",
       "4                     NaN            NaN        NaN         NaN   \n",
       "...                   ...            ...        ...         ...   \n",
       "172797                NaN            NaN        NaN         NaN   \n",
       "172798                NaN            NaN        NaN         NaN   \n",
       "172799                NaN            NaN        NaN         NaN   \n",
       "172800                NaN            NaN        NaN         NaN   \n",
       "172801                NaN            NaN        NaN         NaN   \n",
       "\n",
       "                 mdEntryDateTime  \n",
       "0      2019-12-25 00:00:00+00:00  \n",
       "1      2019-12-25 00:00:00+00:00  \n",
       "2      2019-12-25 00:00:01+00:00  \n",
       "3      2019-12-25 00:00:01+00:00  \n",
       "4      2019-12-25 00:00:02+00:00  \n",
       "...                          ...  \n",
       "172797 2019-12-25 23:59:57+00:00  \n",
       "172798 2019-12-25 23:59:58+00:00  \n",
       "172799 2019-12-25 23:59:58+00:00  \n",
       "172800 2019-12-25 23:59:59+00:00  \n",
       "172801 2019-12-25 23:59:59+00:00  \n",
       "\n",
       "[172802 rows x 10 columns]"
      ]
     },
     "execution_count": 60,
     "metadata": {},
     "output_type": "execute_result"
    }
   ],
   "source": [
    "load_df(files[989], DTYPES)"
   ]
  },
  {
   "cell_type": "code",
   "execution_count": 10,
   "metadata": {},
   "outputs": [],
   "source": [
    "savepath = Path(\"/media/hemu/Data/Markets/Crypto/CME/crypto.hdf5\")"
   ]
  },
  {
   "cell_type": "code",
   "execution_count": 50,
   "metadata": {},
   "outputs": [],
   "source": [
    "# Test single file\n",
    "# cme_format_to_hdf(files[0], savepath, 'min')"
   ]
  },
  {
   "cell_type": "code",
   "execution_count": 51,
   "metadata": {},
   "outputs": [],
   "source": [
    "files = list(path.iterdir())\n",
    "files.sort()\n",
    "done = 0"
   ]
  },
  {
   "cell_type": "code",
   "execution_count": 46,
   "metadata": {},
   "outputs": [
    {
     "data": {
      "text/plain": [
       "1021"
      ]
     },
     "execution_count": 46,
     "metadata": {},
     "output_type": "execute_result"
    }
   ],
   "source": []
  },
  {
   "cell_type": "code",
   "execution_count": 62,
   "metadata": {},
   "outputs": [
    {
     "data": {
      "application/vnd.jupyter.widget-view+json": {
       "model_id": "9056ddedf6bf46a9aa4dd4f0ca87db8a",
       "version_major": 2,
       "version_minor": 0
      },
      "text/plain": [
       "HBox(children=(HTML(value=''), FloatProgress(value=0.0, max=81.0), HTML(value='')))"
      ]
     },
     "metadata": {},
     "output_type": "display_data"
    },
    {
     "name": "stdout",
     "output_type": "stream",
     "text": [
      "\n"
     ]
    }
   ],
   "source": [
    "convert_all_to_hdf(files[990:], savepath, 'sec')"
   ]
  },
  {
   "cell_type": "code",
   "execution_count": 45,
   "metadata": {},
   "outputs": [
    {
     "name": "stdout",
     "output_type": "stream",
     "text": [
      "['/min/BRR', '/min/BRTI']\n"
     ]
    }
   ],
   "source": [
    "with pd.HDFStore(savepath, mode='r') as f:\n",
    "    print(f.keys())"
   ]
  },
  {
   "cell_type": "code",
   "execution_count": 44,
   "metadata": {},
   "outputs": [
    {
     "data": {
      "text/html": [
       "<div>\n",
       "<style scoped>\n",
       "    .dataframe tbody tr th:only-of-type {\n",
       "        vertical-align: middle;\n",
       "    }\n",
       "\n",
       "    .dataframe tbody tr th {\n",
       "        vertical-align: top;\n",
       "    }\n",
       "\n",
       "    .dataframe thead th {\n",
       "        text-align: right;\n",
       "    }\n",
       "</style>\n",
       "<table border=\"1\" class=\"dataframe\">\n",
       "  <thead>\n",
       "    <tr style=\"text-align: right;\">\n",
       "      <th></th>\n",
       "      <th>timestamps</th>\n",
       "      <th>price</th>\n",
       "    </tr>\n",
       "  </thead>\n",
       "  <tbody>\n",
       "    <tr>\n",
       "      <th>0</th>\n",
       "      <td>2017-05-26 23:59:59</td>\n",
       "      <td>2250.54</td>\n",
       "    </tr>\n",
       "  </tbody>\n",
       "</table>\n",
       "</div>"
      ],
      "text/plain": [
       "           timestamps    price\n",
       "0 2017-05-26 23:59:59  2250.54"
      ]
     },
     "execution_count": 44,
     "metadata": {},
     "output_type": "execute_result"
    }
   ],
   "source": [
    "df = load_from_hdf(savepath, 'sec/BRTI', start = -1, stop = None)\n",
    "df.reset_index(drop=True)"
   ]
  },
  {
   "cell_type": "code",
   "execution_count": 63,
   "metadata": {},
   "outputs": [
    {
     "data": {
      "text/html": [
       "<div>\n",
       "<style scoped>\n",
       "    .dataframe tbody tr th:only-of-type {\n",
       "        vertical-align: middle;\n",
       "    }\n",
       "\n",
       "    .dataframe tbody tr th {\n",
       "        vertical-align: top;\n",
       "    }\n",
       "\n",
       "    .dataframe thead th {\n",
       "        text-align: right;\n",
       "    }\n",
       "</style>\n",
       "<table border=\"1\" class=\"dataframe\">\n",
       "  <thead>\n",
       "    <tr style=\"text-align: right;\">\n",
       "      <th></th>\n",
       "      <th>timestamps</th>\n",
       "      <th>price</th>\n",
       "    </tr>\n",
       "  </thead>\n",
       "  <tbody>\n",
       "    <tr>\n",
       "      <th>0</th>\n",
       "      <td>2017-04-07 00:00:00</td>\n",
       "      <td>1190.52</td>\n",
       "    </tr>\n",
       "    <tr>\n",
       "      <th>1</th>\n",
       "      <td>2017-04-07 00:00:01</td>\n",
       "      <td>1190.52</td>\n",
       "    </tr>\n",
       "    <tr>\n",
       "      <th>2</th>\n",
       "      <td>2017-04-07 00:00:02</td>\n",
       "      <td>1190.60</td>\n",
       "    </tr>\n",
       "    <tr>\n",
       "      <th>3</th>\n",
       "      <td>2017-04-07 00:00:03</td>\n",
       "      <td>1190.53</td>\n",
       "    </tr>\n",
       "    <tr>\n",
       "      <th>4</th>\n",
       "      <td>2017-04-07 00:00:04</td>\n",
       "      <td>1190.55</td>\n",
       "    </tr>\n",
       "    <tr>\n",
       "      <th>...</th>\n",
       "      <td>...</td>\n",
       "      <td>...</td>\n",
       "    </tr>\n",
       "    <tr>\n",
       "      <th>172790</th>\n",
       "      <td>2020-03-15 23:59:54</td>\n",
       "      <td>5342.32</td>\n",
       "    </tr>\n",
       "    <tr>\n",
       "      <th>172793</th>\n",
       "      <td>2020-03-15 23:59:55</td>\n",
       "      <td>5342.81</td>\n",
       "    </tr>\n",
       "    <tr>\n",
       "      <th>172795</th>\n",
       "      <td>2020-03-15 23:59:56</td>\n",
       "      <td>5344.05</td>\n",
       "    </tr>\n",
       "    <tr>\n",
       "      <th>172797</th>\n",
       "      <td>2020-03-15 23:59:57</td>\n",
       "      <td>5344.36</td>\n",
       "    </tr>\n",
       "    <tr>\n",
       "      <th>172799</th>\n",
       "      <td>2020-03-15 23:59:58</td>\n",
       "      <td>5344.33</td>\n",
       "    </tr>\n",
       "  </tbody>\n",
       "</table>\n",
       "<p>92688435 rows × 2 columns</p>\n",
       "</div>"
      ],
      "text/plain": [
       "                timestamps    price\n",
       "0      2017-04-07 00:00:00  1190.52\n",
       "1      2017-04-07 00:00:01  1190.52\n",
       "2      2017-04-07 00:00:02  1190.60\n",
       "3      2017-04-07 00:00:03  1190.53\n",
       "4      2017-04-07 00:00:04  1190.55\n",
       "...                    ...      ...\n",
       "172790 2020-03-15 23:59:54  5342.32\n",
       "172793 2020-03-15 23:59:55  5342.81\n",
       "172795 2020-03-15 23:59:56  5344.05\n",
       "172797 2020-03-15 23:59:57  5344.36\n",
       "172799 2020-03-15 23:59:58  5344.33\n",
       "\n",
       "[92688435 rows x 2 columns]"
      ]
     },
     "execution_count": 63,
     "metadata": {},
     "output_type": "execute_result"
    }
   ],
   "source": [
    "df = load_from_hdf(savepath, 'sec/BRTI')\n",
    "df"
   ]
  },
  {
   "cell_type": "code",
   "execution_count": 65,
   "metadata": {},
   "outputs": [],
   "source": [
    "df = df.set_index('timestamps')\n"
   ]
  },
  {
   "cell_type": "code",
   "execution_count": 66,
   "metadata": {},
   "outputs": [],
   "source": [
    "df_min = df.resample('1min')\n",
    "del df"
   ]
  },
  {
   "cell_type": "code",
   "execution_count": 68,
   "metadata": {},
   "outputs": [
    {
     "data": {
      "text/plain": [
       "<pandas.core.resample.DatetimeIndexResampler object at 0x7f3808bbda10>"
      ]
     },
     "execution_count": 68,
     "metadata": {},
     "output_type": "execute_result"
    }
   ],
   "source": [
    "df_min.ohlc()"
   ]
  },
  {
   "cell_type": "markdown",
   "metadata": {},
   "source": [
    "# Preprocess"
   ]
  },
  {
   "cell_type": "code",
   "execution_count": 3,
   "metadata": {},
   "outputs": [],
   "source": [
    "import rollers"
   ]
  },
  {
   "cell_type": "code",
   "execution_count": 4,
   "metadata": {},
   "outputs": [
    {
     "data": {
      "text/plain": [
       "rollers.Roller"
      ]
     },
     "execution_count": 4,
     "metadata": {},
     "output_type": "execute_result"
    }
   ],
   "source": [
    "rollers.Roller"
   ]
  },
  {
   "cell_type": "code",
   "execution_count": 6,
   "metadata": {},
   "outputs": [],
   "source": [
    "def create_datasets(f, group_name, asset_name, nfeats=49+1):\n",
    "    \"\"\"\n",
    "    f: file handle - I.e passed from within context manager\n",
    "    Create group and datasets for feature matrix\n",
    "    and timestamps - both resizable.\n",
    "    \"\"\"\n",
    "    if group_name not in f.keys():\n",
    "        f.create_group(group_name)\n",
    "    group = f[group_name]\n",
    "    if 'assets' not in group.attrs.keys():\n",
    "        group.attrs.create('assets', data=np.array([asset_name]), \n",
    "                           dtype=h5py.string_dtype(encoding='utf-8'))\n",
    "    if 'price' not in group.keys():\n",
    "        group.create_dataset('price', shape=(0,), dtype=np.float64,\n",
    "                             maxshape=(None,))\n",
    "    if 'features' not in group.keys():\n",
    "        group.create_dataset('features', shape=(0, nfeats), dtype=np.float64,\n",
    "                             maxshape=(None, nfeats))\n",
    "    if 'timestamps' not in group.keys():\n",
    "        group.create_dataset('timestamps', shape=(0, ), dtype=np.int64,\n",
    "                             maxshape=(None, ))\n",
    "\n",
    "def post_process(close, processed):\n",
    "    \"\"\" \n",
    "    Transformations:\n",
    "    - scale sd and volatility by dividing by close price\n",
    "    - log(all features which are derived from and same scale as price)\n",
    "      - open, high , low, mean, close\n",
    "    - remove raw returns - keep log returns\n",
    "    - flatten features\n",
    "    - add close price to flattened feats\n",
    "    \"\"\"\n",
    "    processed[:, 6:, :] /= close[:, None, None]\n",
    "    processed[:, 0, :] = np.log(processed[:, 0, :])\n",
    "    processed[:, 1, :] = np.log(processed[:, 1, :])\n",
    "    processed[:, 2, :] = np.log(processed[:, 2, :])\n",
    "    processed[:, 3, :] = np.log(processed[:, 3, :])\n",
    "    processed = np.delete(processed, 4, 1) \n",
    "    processed = np.concatenate([np.log(close)[:, None], \n",
    "                                processed.reshape(processed.shape[0], -1)\n",
    "                               ], axis=1)\n",
    "    return processed\n",
    "\n",
    "def resample(close, processed, timestamps, timeframe):\n",
    "    \"\"\" Levarages pandas to resample (using close/last as aggregation method)\"\"\"\n",
    "    pdf = pd.DataFrame(processed)\n",
    "    pdf['close'] = close\n",
    "    pdf = pdf.set_index((timestamps).view('datetime64[ns]'))\n",
    "    pdf = pdf.resample(timeframe).last().dropna()\n",
    "    return pdf['close'].values, pdf.drop('close', axis=1).values, pdf.index.values.view(np.int64)\n",
    "\n",
    "def save_processed_to_hdf(price, processed, timestamps, hd_filename, \n",
    "                          group_name, asset_name):\n",
    "    \"\"\" Appends to existing datasets \"\"\"\n",
    "    with h5py.File(hd_filename, mode='a') as f:\n",
    "        # create_datasets does nothing if datasets already exist\n",
    "        # convenient as it uses nfeats from proceesed.shape the first time\n",
    "        create_datasets(f, group_name, asset_name, nfeats=processed.shape[1])\n",
    "        grp = f[group_name]\n",
    "        price_dset = grp['price']\n",
    "        feats_dset = grp['features']\n",
    "        timestamps_dset = grp['timestamps']\n",
    "        curr_len = price_dset.shape[0]\n",
    "        assert curr_len == feats_dset.shape[0] == timestamps_dset.shape[0]\n",
    "        assert price.shape[0] == processed.shape[0] == timestamps.shape[0]\n",
    "        new_len = curr_len + price.shape[0]\n",
    "        price_dset.resize((new_len, ))\n",
    "        feats_dset.resize((new_len, feats_dset.shape[1]))\n",
    "        timestamps_dset.resize((new_len, ))\n",
    "        price_dset[curr_len: new_len] = price\n",
    "        feats_dset[curr_len: new_len] = processed\n",
    "        timestamps_dset[curr_len: new_len] = timestamps\n",
    "        \n",
    "def process_full(raw_datapath, raw_key, processed_savepath, processed_key,\n",
    "                 asset_name, timeframes, resample_timeframe = None, chunksize=1000000):\n",
    "    roller = rollers.Roller(timeframes)\n",
    "    streamer = pd.read_hdf(raw_datapath, key=raw_key, iterator=True,\n",
    "                          chunksize=chunksize)\n",
    "    full_len = streamer.stop\n",
    "    streamer = iter(streamer)\n",
    "    tq = tqdm(total=full_len)\n",
    "    for chunk in streamer:\n",
    "        price = chunk['price'].values\n",
    "        timestamps = chunk['timestamps'].values.astype(np.uint64)\n",
    "        processed = roller.roll(price, timestamps)\n",
    "        processed = post_process(price, processed)\n",
    "        if resample_timeframe is not None:\n",
    "            price, processed, timestamps = resample(price, processed, timestamps, \n",
    "                                                    resample_timeframe)\n",
    "        save_processed_to_hdf(price, processed, timestamps, processed_savepath, \n",
    "                              processed_key, asset_name)\n",
    "        tq.update(chunksize)"
   ]
  },
  {
   "cell_type": "code",
   "execution_count": 7,
   "metadata": {},
   "outputs": [],
   "source": [
    "raw_datapath = Path(\"/media/hemu/Data/Markets/Crypto/CME/crypto.hdf5\")\n",
    "raw_key = 'sec/BRTI'\n",
    "processed_savepath = Path(\"/media/hemu/Data/Markets/Crypto/CME/brti_rolled.hdf5\")\n",
    "processed_key = '5min'\n",
    "resample_timeframe = '5min'\n",
    "timeframes = ['1min', '1h', '2h', '4h', '8h', '1day', '7day']\n",
    "asset_name = \"BRTI\"\n"
   ]
  },
  {
   "cell_type": "code",
   "execution_count": 7,
   "metadata": {},
   "outputs": [
    {
     "data": {
      "application/vnd.jupyter.widget-view+json": {
       "model_id": "95ef875fc81f4ebd926ea65d47791f5c",
       "version_major": 2,
       "version_minor": 0
      },
      "text/plain": [
       "HBox(children=(HTML(value=''), FloatProgress(value=0.0, max=92688435.0), HTML(value='')))"
      ]
     },
     "metadata": {},
     "output_type": "display_data"
    }
   ],
   "source": [
    "process_full(raw_datapath, raw_key, processed_savepath, processed_key, asset_name,\n",
    "            timeframes, resample_timeframe = resample_timeframe, chunksize=1000000)"
   ]
  },
  {
   "cell_type": "code",
   "execution_count": 32,
   "metadata": {},
   "outputs": [],
   "source": [
    "def delete_key(filepath, key):\n",
    "    with h5py.File(filepath, 'a') as f:\n",
    "        if key in f.keys():\n",
    "            del f[key]"
   ]
  },
  {
   "cell_type": "code",
   "execution_count": 31,
   "metadata": {},
   "outputs": [],
   "source": []
  },
  {
   "cell_type": "code",
   "execution_count": 11,
   "metadata": {},
   "outputs": [
    {
     "name": "stdout",
     "output_type": "stream",
     "text": [
      "['BRTI']\n",
      "<KeysViewHDF5 ['features', 'price', 'timestamps']>\n",
      "float64\n",
      "float64\n",
      "int64\n",
      "(102708,)\n",
      "(102708, 50)\n",
      "(102708,)\n",
      "time bounds:  2017-04-07 00:00:00 2020-03-15 23:45:00\n"
     ]
    }
   ],
   "source": [
    "## CHECK\n",
    "processed_key = \"15min\"\n",
    "with h5py.File(processed_savepath, 'a') as f:\n",
    "    grp = f[processed_key]\n",
    "    if 'assets' not in grp.attrs.keys():\n",
    "        grp.attrs.create('assets', data=np.array(['BRTI']), dtype=h5py.string_dtype(encoding='utf-8'))\n",
    "    \n",
    "with h5py.File(processed_savepath, 'r') as f:\n",
    "    grp = f[processed_key]\n",
    "    print(grp.attrs['assets'])\n",
    "    print(grp.keys())\n",
    "    print(grp['price'].dtype)\n",
    "    print(grp['features'].dtype)\n",
    "    print(grp['timestamps'].dtype)\n",
    "    print(grp['price'].shape)\n",
    "    print(grp['features'].shape)\n",
    "    print(grp['timestamps'].shape)\n",
    "    print('time bounds: ', pd.to_datetime(grp['timestamps'][0]), pd.to_datetime(grp['timestamps'][-1]))\n",
    "    price = grp['price'][:]\n",
    "#     feats = grp['rolled'][:]\n",
    "    timestamps = grp['timestamps'][:]\n",
    "    "
   ]
  },
  {
   "cell_type": "code",
   "execution_count": 20,
   "metadata": {},
   "outputs": [
    {
     "data": {
      "text/plain": [
       "[<matplotlib.lines.Line2D at 0x7fabeec79590>]"
      ]
     },
     "execution_count": 20,
     "metadata": {},
     "output_type": "execute_result"
    },
    {
     "data": {
      "image/png": "[encoded data removed]",
      "text/plain": [
       "<Figure size 1440x1080 with 1 Axes>"
      ]
     },
     "metadata": {
      "needs_background": "light"
     },
     "output_type": "display_data"
    }
   ],
   "source": [
    "%matplotlib inline\n",
    "fig, ax = plt.subplots(figsize=(20, 15))\n",
    "ax.plot(pd.to_datetime(timestamps), price)"
   ]
  },
  {
   "cell_type": "markdown",
   "metadata": {},
   "source": [
    "## Working"
   ]
  },
  {
   "cell_type": "code",
   "execution_count": 18,
   "metadata": {},
   "outputs": [
    {
     "name": "stdout",
     "output_type": "stream",
     "text": [
      "['BRTI']\n",
      "<KeysViewHDF5 ['features', 'price', 'timestamps']>\n",
      "float64\n",
      "float64\n",
      "int64\n",
      "(1539089,)\n",
      "(1539089, 50)\n",
      "(1539089,)\n"
     ]
    }
   ],
   "source": []
  },
  {
   "cell_type": "code",
   "execution_count": 19,
   "metadata": {},
   "outputs": [
    {
     "ename": "NameError",
     "evalue": "name 'feats' is not defined",
     "output_type": "error",
     "traceback": [
      "\u001b[0;31m---------------------------------------------------------------------------\u001b[0m",
      "\u001b[0;31mNameError\u001b[0m                                 Traceback (most recent call last)",
      "\u001b[0;32m<ipython-input-19-c30f4f8fdbf0>\u001b[0m in \u001b[0;36m<module>\u001b[0;34m\u001b[0m\n\u001b[0;32m----> 1\u001b[0;31m \u001b[0mprint\u001b[0m\u001b[0;34m(\u001b[0m\u001b[0mfeats\u001b[0m\u001b[0;34m.\u001b[0m\u001b[0mshape\u001b[0m\u001b[0;34m,\u001b[0m \u001b[0mtimestamps\u001b[0m\u001b[0;34m.\u001b[0m\u001b[0mshape\u001b[0m\u001b[0;34m)\u001b[0m\u001b[0;34m\u001b[0m\u001b[0;34m\u001b[0m\u001b[0m\n\u001b[0m\u001b[1;32m      2\u001b[0m \u001b[0mfeats\u001b[0m\u001b[0;34m[\u001b[0m\u001b[0;34m:\u001b[0m\u001b[0;36m5\u001b[0m\u001b[0;34m]\u001b[0m\u001b[0;34m\u001b[0m\u001b[0;34m\u001b[0m\u001b[0m\n",
      "\u001b[0;31mNameError\u001b[0m: name 'feats' is not defined"
     ]
    }
   ],
   "source": [
    "print(feats.shape, timestamps.shape)\n",
    "feats[:5]"
   ]
  },
  {
   "cell_type": "code",
   "execution_count": 67,
   "metadata": {},
   "outputs": [
    {
     "name": "stdout",
     "output_type": "stream",
     "text": [
      "92688435 92688435\n"
     ]
    }
   ],
   "source": [
    "raw_streamer = (pd.read_hdf(raw_datapath, key=raw_key, iterator=True, chunksize=1000000))\n",
    "print(raw_streamer.nrows, raw_streamer.stop)\n",
    "raw_streamer = iter(raw_streamer)"
   ]
  },
  {
   "cell_type": "code",
   "execution_count": null,
   "metadata": {},
   "outputs": [],
   "source": [
    "    "
   ]
  },
  {
   "cell_type": "code",
   "execution_count": 72,
   "metadata": {},
   "outputs": [],
   "source": [
    "chunk = next(raw_streamer)\n",
    "price = chunk['price'].values\n",
    "timestamps = chunk['timestamps'].values.astype(np.uint64)\n",
    "processed = roller.roll(price, timestamps=timestamps)\n",
    "processed = post_process(price, processed)\n",
    "# processed = transform()\n",
    "# save_processed_to_hdf(processed, timestamps, processed_savepath, processed_key)\n"
   ]
  },
  {
   "cell_type": "code",
   "execution_count": 73,
   "metadata": {},
   "outputs": [],
   "source": [
    "pdf = pd.DataFrame(processed)\n",
    "pdf = pdf.set_index((timestamps).view('datetime64[ns]'))\n",
    "pdf = pdf.resample('1min').last()"
   ]
  },
  {
   "cell_type": "code",
   "execution_count": 82,
   "metadata": {},
   "outputs": [
    {
     "name": "stdout",
     "output_type": "stream",
     "text": [
      "(16650, 50) (16650,)\n",
      "float64 datetime64[ns]\n"
     ]
    },
    {
     "data": {
      "text/plain": [
       "(array([[7.19837055, 7.53033513, 7.52756803, ..., 0.47831546, 0.41576852,\n",
       "         0.26844898],\n",
       "        [7.19866962, 7.53033513, 7.52756803, ..., 0.47817089, 0.41564276,\n",
       "         0.26836764],\n",
       "        [7.19856496, 7.53033513, 7.52756803, ..., 0.47821941, 0.41568484,\n",
       "         0.26839467],\n",
       "        ...,\n",
       "        [7.53035123, 7.53033513, 7.52756803, ..., 0.31023565, 0.26816009,\n",
       "         0.1739154 ],\n",
       "        [7.53024928, 7.53033513, 7.52756803, ..., 0.31026497, 0.26818551,\n",
       "         0.17393276],\n",
       "        [7.53020635, 7.53033513, 7.52756803, ..., 0.3102781 , 0.26819686,\n",
       "         0.1739402 ]]),\n",
       " array([1493523180000000000, 1493523240000000000, 1493523300000000000, ...,\n",
       "        1494522000000000000, 1494522060000000000, 1494522120000000000]))"
      ]
     },
     "execution_count": 82,
     "metadata": {},
     "output_type": "execute_result"
    }
   ],
   "source": [
    "print(pdf.values.shape, pdf.index.values.shape)\n",
    "print(pdf.values.dtype, pdf.index.values.dtype)\n",
    "pdf.values, pdf.index.values.view(np.int64)"
   ]
  },
  {
   "cell_type": "code",
   "execution_count": 75,
   "metadata": {},
   "outputs": [
    {
     "data": {
      "text/html": [
       "<div>\n",
       "<style scoped>\n",
       "    .dataframe tbody tr th:only-of-type {\n",
       "        vertical-align: middle;\n",
       "    }\n",
       "\n",
       "    .dataframe tbody tr th {\n",
       "        vertical-align: top;\n",
       "    }\n",
       "\n",
       "    .dataframe thead th {\n",
       "        text-align: right;\n",
       "    }\n",
       "</style>\n",
       "<table border=\"1\" class=\"dataframe\">\n",
       "  <thead>\n",
       "    <tr style=\"text-align: right;\">\n",
       "      <th></th>\n",
       "      <th>40</th>\n",
       "      <th>41</th>\n",
       "      <th>42</th>\n",
       "      <th>43</th>\n",
       "      <th>44</th>\n",
       "      <th>45</th>\n",
       "      <th>46</th>\n",
       "      <th>47</th>\n",
       "      <th>48</th>\n",
       "      <th>49</th>\n",
       "    </tr>\n",
       "  </thead>\n",
       "  <tbody>\n",
       "    <tr>\n",
       "      <th>2017-04-30 03:33:00</th>\n",
       "      <td>0.055923</td>\n",
       "      <td>0.079515</td>\n",
       "      <td>0.125759</td>\n",
       "      <td>0.480833</td>\n",
       "      <td>0.476710</td>\n",
       "      <td>0.468898</td>\n",
       "      <td>0.464118</td>\n",
       "      <td>0.478315</td>\n",
       "      <td>0.415769</td>\n",
       "      <td>0.268449</td>\n",
       "    </tr>\n",
       "    <tr>\n",
       "      <th>2017-04-30 03:34:00</th>\n",
       "      <td>0.055907</td>\n",
       "      <td>0.079491</td>\n",
       "      <td>0.125721</td>\n",
       "      <td>0.480688</td>\n",
       "      <td>0.476565</td>\n",
       "      <td>0.468756</td>\n",
       "      <td>0.463978</td>\n",
       "      <td>0.478171</td>\n",
       "      <td>0.415643</td>\n",
       "      <td>0.268368</td>\n",
       "    </tr>\n",
       "    <tr>\n",
       "      <th>2017-04-30 03:35:00</th>\n",
       "      <td>0.055914</td>\n",
       "      <td>0.079500</td>\n",
       "      <td>0.125733</td>\n",
       "      <td>0.480737</td>\n",
       "      <td>0.476614</td>\n",
       "      <td>0.468803</td>\n",
       "      <td>0.464025</td>\n",
       "      <td>0.478219</td>\n",
       "      <td>0.415685</td>\n",
       "      <td>0.268395</td>\n",
       "    </tr>\n",
       "    <tr>\n",
       "      <th>2017-04-30 03:36:00</th>\n",
       "      <td>0.055906</td>\n",
       "      <td>0.079488</td>\n",
       "      <td>0.125713</td>\n",
       "      <td>0.480663</td>\n",
       "      <td>0.476541</td>\n",
       "      <td>0.468732</td>\n",
       "      <td>0.463954</td>\n",
       "      <td>0.478146</td>\n",
       "      <td>0.415621</td>\n",
       "      <td>0.268353</td>\n",
       "    </tr>\n",
       "    <tr>\n",
       "      <th>2017-04-30 03:37:00</th>\n",
       "      <td>0.055887</td>\n",
       "      <td>0.079459</td>\n",
       "      <td>0.125667</td>\n",
       "      <td>0.480489</td>\n",
       "      <td>0.476368</td>\n",
       "      <td>0.468562</td>\n",
       "      <td>0.463786</td>\n",
       "      <td>0.477973</td>\n",
       "      <td>0.415471</td>\n",
       "      <td>0.268256</td>\n",
       "    </tr>\n",
       "    <tr>\n",
       "      <th>...</th>\n",
       "      <td>...</td>\n",
       "      <td>...</td>\n",
       "      <td>...</td>\n",
       "      <td>...</td>\n",
       "      <td>...</td>\n",
       "      <td>...</td>\n",
       "      <td>...</td>\n",
       "      <td>...</td>\n",
       "      <td>...</td>\n",
       "      <td>...</td>\n",
       "    </tr>\n",
       "    <tr>\n",
       "      <th>2017-05-11 16:58:00</th>\n",
       "      <td>0.092546</td>\n",
       "      <td>0.096788</td>\n",
       "      <td>0.105317</td>\n",
       "      <td>0.311587</td>\n",
       "      <td>0.308804</td>\n",
       "      <td>0.303486</td>\n",
       "      <td>0.300312</td>\n",
       "      <td>0.310312</td>\n",
       "      <td>0.268226</td>\n",
       "      <td>0.173956</td>\n",
       "    </tr>\n",
       "    <tr>\n",
       "      <th>2017-05-11 16:59:00</th>\n",
       "      <td>0.092542</td>\n",
       "      <td>0.096783</td>\n",
       "      <td>0.105310</td>\n",
       "      <td>0.311549</td>\n",
       "      <td>0.308767</td>\n",
       "      <td>0.303449</td>\n",
       "      <td>0.300276</td>\n",
       "      <td>0.310275</td>\n",
       "      <td>0.268194</td>\n",
       "      <td>0.173936</td>\n",
       "    </tr>\n",
       "    <tr>\n",
       "      <th>2017-05-11 17:00:00</th>\n",
       "      <td>0.092537</td>\n",
       "      <td>0.096777</td>\n",
       "      <td>0.105301</td>\n",
       "      <td>0.311510</td>\n",
       "      <td>0.308728</td>\n",
       "      <td>0.303411</td>\n",
       "      <td>0.300239</td>\n",
       "      <td>0.310236</td>\n",
       "      <td>0.268160</td>\n",
       "      <td>0.173915</td>\n",
       "    </tr>\n",
       "    <tr>\n",
       "      <th>2017-05-11 17:01:00</th>\n",
       "      <td>0.092553</td>\n",
       "      <td>0.096793</td>\n",
       "      <td>0.105316</td>\n",
       "      <td>0.311540</td>\n",
       "      <td>0.308757</td>\n",
       "      <td>0.303440</td>\n",
       "      <td>0.300267</td>\n",
       "      <td>0.310265</td>\n",
       "      <td>0.268186</td>\n",
       "      <td>0.173933</td>\n",
       "    </tr>\n",
       "    <tr>\n",
       "      <th>2017-05-11 17:02:00</th>\n",
       "      <td>0.092557</td>\n",
       "      <td>0.096798</td>\n",
       "      <td>0.105321</td>\n",
       "      <td>0.311553</td>\n",
       "      <td>0.308770</td>\n",
       "      <td>0.303453</td>\n",
       "      <td>0.300280</td>\n",
       "      <td>0.310278</td>\n",
       "      <td>0.268197</td>\n",
       "      <td>0.173940</td>\n",
       "    </tr>\n",
       "  </tbody>\n",
       "</table>\n",
       "<p>16650 rows × 10 columns</p>\n",
       "</div>"
      ],
      "text/plain": [
       "                           40        41        42        43        44  \\\n",
       "2017-04-30 03:33:00  0.055923  0.079515  0.125759  0.480833  0.476710   \n",
       "2017-04-30 03:34:00  0.055907  0.079491  0.125721  0.480688  0.476565   \n",
       "2017-04-30 03:35:00  0.055914  0.079500  0.125733  0.480737  0.476614   \n",
       "2017-04-30 03:36:00  0.055906  0.079488  0.125713  0.480663  0.476541   \n",
       "2017-04-30 03:37:00  0.055887  0.079459  0.125667  0.480489  0.476368   \n",
       "...                       ...       ...       ...       ...       ...   \n",
       "2017-05-11 16:58:00  0.092546  0.096788  0.105317  0.311587  0.308804   \n",
       "2017-05-11 16:59:00  0.092542  0.096783  0.105310  0.311549  0.308767   \n",
       "2017-05-11 17:00:00  0.092537  0.096777  0.105301  0.311510  0.308728   \n",
       "2017-05-11 17:01:00  0.092553  0.096793  0.105316  0.311540  0.308757   \n",
       "2017-05-11 17:02:00  0.092557  0.096798  0.105321  0.311553  0.308770   \n",
       "\n",
       "                           45        46        47        48        49  \n",
       "2017-04-30 03:33:00  0.468898  0.464118  0.478315  0.415769  0.268449  \n",
       "2017-04-30 03:34:00  0.468756  0.463978  0.478171  0.415643  0.268368  \n",
       "2017-04-30 03:35:00  0.468803  0.464025  0.478219  0.415685  0.268395  \n",
       "2017-04-30 03:36:00  0.468732  0.463954  0.478146  0.415621  0.268353  \n",
       "2017-04-30 03:37:00  0.468562  0.463786  0.477973  0.415471  0.268256  \n",
       "...                       ...       ...       ...       ...       ...  \n",
       "2017-05-11 16:58:00  0.303486  0.300312  0.310312  0.268226  0.173956  \n",
       "2017-05-11 16:59:00  0.303449  0.300276  0.310275  0.268194  0.173936  \n",
       "2017-05-11 17:00:00  0.303411  0.300239  0.310236  0.268160  0.173915  \n",
       "2017-05-11 17:01:00  0.303440  0.300267  0.310265  0.268186  0.173933  \n",
       "2017-05-11 17:02:00  0.303453  0.300280  0.310278  0.268197  0.173940  \n",
       "\n",
       "[16650 rows x 10 columns]"
      ]
     },
     "execution_count": 75,
     "metadata": {},
     "output_type": "execute_result"
    }
   ],
   "source": [
    "pdf.iloc[:, -10:]"
   ]
  },
  {
   "cell_type": "code",
   "execution_count": 30,
   "metadata": {},
   "outputs": [],
   "source": []
  },
  {
   "cell_type": "code",
   "execution_count": 32,
   "metadata": {},
   "outputs": [
    {
     "data": {
      "text/plain": [
       "((16668, 50),\n",
       "                           0         1         2         3         4   \\\n",
       " 2017-04-18 13:46:00  1208.16  7.096423  7.097772  7.096440  7.093612   \n",
       " 2017-04-18 13:47:00  1207.92  7.096937  7.097326  7.096730  7.093928   \n",
       " 2017-04-18 13:48:00  1207.86  7.096705  7.098351  7.096307  7.093778   \n",
       " 2017-04-18 13:49:00  1208.00  7.096307  7.098194  7.095976  7.093529   \n",
       " 2017-04-18 13:50:00  1207.80  7.096622  7.098037  7.096738  7.093172   \n",
       " ...                      ...       ...       ...       ...       ...   \n",
       " 2017-04-30 03:29:00  1337.71  7.198909  7.200485  7.200485  7.205806   \n",
       " 2017-04-30 03:30:00  1337.92  7.198677  7.200649  7.200805  7.205784   \n",
       " 2017-04-30 03:31:00  1336.74  7.198827  7.200358  7.201387  7.205761   \n",
       " 2017-04-30 03:32:00  1337.29  7.198109  7.199731  7.200917  7.205962   \n",
       " 2017-04-30 03:33:00  1337.59  7.198460  7.200253  7.201119  7.205680   \n",
       " \n",
       "                            5         6         7         8         9   ...  \\\n",
       " 2017-04-18 13:46:00  7.109536  7.081053  7.103980  7.096961  7.098425  ...   \n",
       " 2017-04-18 13:47:00  7.109152  7.081070  7.103832  7.097011  7.098425  ...   \n",
       " 2017-04-18 13:48:00  7.109544  7.081322  7.104177  7.096846  7.098425  ...   \n",
       " 2017-04-18 13:49:00  7.108948  7.080977  7.104358  7.096970  7.098376  ...   \n",
       " 2017-04-18 13:50:00  7.109414  7.080893  7.104276  7.096721  7.098376  ...   \n",
       " ...                       ...       ...       ...       ...       ...  ...   \n",
       " 2017-04-30 03:29:00  7.204030  7.199581  7.116970  7.199066  7.201655  ...   \n",
       " 2017-04-30 03:30:00  7.203673  7.200029  7.117011  7.199297  7.201655  ...   \n",
       " 2017-04-30 03:31:00  7.202914  7.199902  7.117173  7.198999  7.201655  ...   \n",
       " 2017-04-30 03:32:00  7.203026  7.199850  7.117230  7.198871  7.201655  ...   \n",
       " 2017-04-30 03:33:00  7.203882  7.199895  7.116881  7.198685  7.201655  ...   \n",
       " \n",
       "                            40        41         42        43        44  \\\n",
       " 2017-04-18 13:46:00  9.057463  8.583546  16.301978  0.382343  1.559135   \n",
       " 2017-04-18 13:47:00  9.043727  8.564710  16.301358  0.314815  1.554052   \n",
       " 2017-04-18 13:48:00  9.030097  8.545836  16.300705  0.257504  1.546822   \n",
       " 2017-04-18 13:49:00  9.016036  8.527056  16.300022  0.254775  1.536771   \n",
       " 2017-04-18 13:50:00  9.001879  8.507920  16.299328  0.367453  1.537284   \n",
       " ...                       ...       ...        ...       ...       ...   \n",
       " 2017-04-30 03:29:00  2.710889  5.547211  38.026043  0.385865  2.002924   \n",
       " 2017-04-30 03:30:00  2.723656  5.547322  38.023975  0.270759  2.029420   \n",
       " 2017-04-30 03:31:00  2.738407  5.547507  38.021888  0.544755  2.062969   \n",
       " 2017-04-30 03:32:00  2.753532  5.547728  38.019798  0.401628  2.067506   \n",
       " 2017-04-30 03:33:00  2.761772  5.547849  38.018635  0.252996  2.073773   \n",
       " \n",
       "                            45         46         47         48         49  \n",
       " 2017-04-18 13:46:00  3.372360  15.578974  12.362652  21.574367  19.684579  \n",
       " 2017-04-18 13:47:00  3.359164  15.531993  12.370043  21.579922  19.683049  \n",
       " 2017-04-18 13:48:00  3.346373  15.484888  12.377634  21.585435  19.681499  \n",
       " 2017-04-18 13:49:00  3.333494  15.437003  12.384516  21.590886  19.679918  \n",
       " 2017-04-18 13:50:00  3.316986  15.387721  12.392254  21.596308  19.678349  \n",
       " ...                       ...        ...        ...        ...        ...  \n",
       " 2017-04-30 03:29:00  4.223000   4.697853  11.025830  16.444052  78.755405  \n",
       " 2017-04-30 03:30:00  4.186484   4.733731  11.009196  16.439777  78.761284  \n",
       " 2017-04-30 03:31:00  4.160003   4.771583  10.993656  16.436636  78.767062  \n",
       " 2017-04-30 03:32:00  4.139719   4.809005  10.977209  16.433135  78.772822  \n",
       " 2017-04-30 03:33:00  4.123907   4.829709  10.968561  16.431190  78.776007  \n",
       " \n",
       " [16668 rows x 50 columns])"
      ]
     },
     "execution_count": 32,
     "metadata": {},
     "output_type": "execute_result"
    }
   ],
   "source": []
  },
  {
   "cell_type": "code",
   "execution_count": 100,
   "metadata": {},
   "outputs": [
    {
     "name": "stdout",
     "output_type": "stream",
     "text": [
      "(1000000, 50)\n",
      "(1000000,)\n"
     ]
    }
   ],
   "source": [
    "with h5py.File(processed_savepath, 'r') as f:\n",
    "    grp = f[processed_key]\n",
    "    print(grp['rolled'].shape)\n",
    "    print(grp['timestamps'].shape)"
   ]
  },
  {
   "cell_type": "code",
   "execution_count": 123,
   "metadata": {},
   "outputs": [
    {
     "data": {
      "application/vnd.jupyter.widget-view+json": {
       "model_id": "275d47708be04c0e9f93b35d77455da3",
       "version_major": 2,
       "version_minor": 0
      },
      "text/plain": [
       "HBox(children=(HTML(value=''), FloatProgress(value=0.0, max=10.0), HTML(value='')))"
      ]
     },
     "metadata": {},
     "output_type": "display_data"
    },
    {
     "name": "stdout",
     "output_type": "stream",
     "text": [
      "0\n",
      "1\n",
      "2\n",
      "3\n",
      "4\n",
      "5\n",
      "6\n",
      "7\n",
      "8\n",
      "9\n",
      "\n"
     ]
    }
   ],
   "source": [
    "def test():\n",
    "    for i in range(10):\n",
    "        yield i\n",
    "        \n",
    "it = iter(test())\n",
    "for i in tqdm(it, total=10):\n",
    "    print(i)\n"
   ]
  },
  {
   "cell_type": "code",
   "execution_count": null,
   "metadata": {},
   "outputs": [],
   "source": []
  },
  {
   "cell_type": "code",
   "execution_count": 106,
   "metadata": {},
   "outputs": [],
   "source": []
  },
  {
   "cell_type": "code",
   "execution_count": null,
   "metadata": {},
   "outputs": [],
   "source": []
  },
  {
   "cell_type": "markdown",
   "metadata": {},
   "source": [
    "# Raw API Calls"
   ]
  },
  {
   "cell_type": "code",
   "execution_count": 14,
   "metadata": {},
   "outputs": [],
   "source": [
    "base_url = 'https://datamine.cmegroup.com/cme/api/v1'\n",
    "dataset='CRYPTOCURRENCY'\n",
    "file = \"20210109-CRYPTOCURRENCY\"\n",
    "url = f\"{base_url}/list?dataset={dataset}\"\n",
    "\n",
    "# url = f\"{base_url}/list?fid={file}\"\n",
    "user=\"hanwant\"\n",
    "# user=\"API_HEMU_CRYPTO_2021\"\n",
    "password=\"Yamankalyan1\"\n",
    "params = {\n",
    "#     \"user\": f\"{user}:{password}\"\n",
    "#     \"user\": user,\n",
    "#     \"password\": password,\n",
    "    \"fid\": file\n",
    "}\n",
    "url = 'https://datamine.cmegroup.com/cme/api/v1/list'\n",
    "auth = HTTPBasicAuth(user, password)"
   ]
  },
  {
   "cell_type": "code",
   "execution_count": 15,
   "metadata": {},
   "outputs": [],
   "source": [
    "session = requests.Session()\n",
    "session.auth = auth\n",
    "retry = urllib3.util.Retry(read=3, backoff_factor=2, status_forcelist=[400])\n",
    "adapter = requests.adapters.HTTPAdapter(max_retries=retry)\n",
    "session.mount('', adapter)"
   ]
  },
  {
   "cell_type": "code",
   "execution_count": 23,
   "metadata": {},
   "outputs": [
    {
     "name": "stderr",
     "output_type": "stream",
     "text": [
      "/home/hemu/miniconda3/envs/madigan/lib/python3.7/site-packages/urllib3/connectionpool.py:1020: InsecureRequestWarning: Unverified HTTPS request is being made to host 'datamine.cmegroup.com'. Adding certificate verification is strongly advised. See: https://urllib3.readthedocs.io/en/latest/advanced-usage.html#ssl-warnings\n",
      "  InsecureRequestWarning,\n"
     ]
    }
   ],
   "source": [
    "resp = session.get(url, params=params, verify=True)\n"
   ]
  },
  {
   "cell_type": "code",
   "execution_count": 21,
   "metadata": {},
   "outputs": [],
   "source": [
    "resp = requests.get(url, data=None, auth = auth)"
   ]
  },
  {
   "cell_type": "code",
   "execution_count": 24,
   "metadata": {},
   "outputs": [
    {
     "name": "stdout",
     "output_type": "stream",
     "text": [
      "{\"error\":\"unauthorized\",\"error_description\":\"Full authentication is required to access this resource\"}\n",
      "{'error': 'unauthorized', 'error_description': 'Full authentication is required to access this resource'}\n"
     ]
    }
   ],
   "source": [
    "# resp = requests.get(url, params = {\"fid\": file}, auth=auth)\n",
    "print(resp.text)\n",
    "print(resp.json())"
   ]
  },
  {
   "cell_type": "code",
   "execution_count": 57,
   "metadata": {},
   "outputs": [],
   "source": [
    "import logging\n",
    "logging.getLogger().setLevel(logging.DEBUG)"
   ]
  },
  {
   "cell_type": "code",
   "execution_count": null,
   "metadata": {},
   "outputs": [],
   "source": []
  }
 ],
 "metadata": {
  "kernelspec": {
   "display_name": "Python 3.7.7 64-bit ('madigan')",
   "language": "python",
   "name": "python37764bitmadiganc2cb1639caeb405b9f43012997461129"
  },
  "language_info": {
   "codemirror_mode": {
    "name": "ipython",
    "version": 3
   },
   "file_extension": ".py",
   "mimetype": "text/x-python",
   "name": "python",
   "nbconvert_exporter": "python",
   "pygments_lexer": "ipython3",
   "version": "3.7.7"
  }
 },
 "nbformat": 4,
 "nbformat_minor": 4
}
