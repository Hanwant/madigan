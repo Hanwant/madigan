{
 "cells": [
  {
   "cell_type": "code",
   "execution_count": 6,
   "metadata": {},
   "outputs": [],
   "source": [
    "import random \n",
    "import math\n",
    "\n",
    "import numba\n",
    "import numpy as np\n",
    "import torch\n",
    "from torch import nn\n",
    "import torch.nn.functional as F\n",
    "import matplotlib.pyplot as plt\n",
    "from tqdm.notebook import tqdm\n",
    "\n",
    "# from madigan.environments import make_env\n",
    "from madigan.environments.cpp import Broker, Synth, Env as EnvC\n",
    "from madigan.environments.cpp import Assets, RiskInfo, EnvInfoMulti, EnvInfoSingle\n",
    "\n",
    "from madigan.fleet import make_agent\n",
    "\n",
    "from madigan.utils.preprocessor import make_preprocessor as _make_preprocessor\n",
    "from madigan.utils import make_config, State\n",
    "from madigan.utils import ReplayBuffer, SARSD, DiscreteActionSpace\n",
    "from madigan.utils import list_2_dict, reduce_train_metrics\n",
    "\n",
    "\n",
    "from madigan.run.test import test\n",
    "from madigan.utils.plotting import plot_test_metrics"
   ]
  },
  {
   "cell_type": "code",
   "execution_count": 7,
   "metadata": {
    "code_folding": [],
    "scrolled": true
   },
   "outputs": [
    {
     "data": {
      "text/plain": [
       "{'basepath': '/media/hemu/Data/Markets/farm',\n",
       " 'experiment_id': 'SineQ',\n",
       " 'parent_id': '',\n",
       " 'overwrite_exp': False,\n",
       " 'transaction_cost_abs': 0.0,\n",
       " 'transaction_cost_rel': 0.0,\n",
       " 'env_type': 'Synth',\n",
       " 'data_source_type': 'SineAdder',\n",
       " 'init_cash': 1000000,\n",
       " 'required_margin': 1.0,\n",
       " 'maintenance_margin': 0.25,\n",
       " 'generator_params': {'freq': [2.2, 4.1, 1.0, 3.0],\n",
       "  'mu': [0.6, 0.3, 2.0, 4.2],\n",
       "  'amp': [0.5, 0.2, 0.4, 1.2],\n",
       "  'phase': [0.0, 1.0, 4.0, 0.0],\n",
       "  'dX': 0.01,\n",
       "  'noise': 0.0},\n",
       " 'assets': ['sine1'],\n",
       " 'lot_unit_value': 100000,\n",
       " 'n_assets': 1,\n",
       " 'discrete_actions': True,\n",
       " 'discrete_action_atoms': 3,\n",
       " 'preprocessor_type': 'Custom',\n",
       " 'preprocessor_config': {'window_length': 64},\n",
       " 'agent_type': 'DQN',\n",
       " 'nsteps': 1000000,\n",
       " 'test_steps': 1000,\n",
       " 'rb_size': 100000,\n",
       " 'min_rb_size': 50000,\n",
       " 'train_freq': 4,\n",
       " 'target_update_freq': 12000,\n",
       " 'test_freq': 32000,\n",
       " 'log_freq': 10000,\n",
       " 'model_save_freq': 64000,\n",
       " 'min_tf': 64,\n",
       " 'batch_size': 32,\n",
       " 'agent_config': {'type': 'DQN',\n",
       "  'basepath': '/media/hemu/Data/Markets/farm',\n",
       "  'model_config': {'model_class': 'ConvModel',\n",
       "   'd_model': 256,\n",
       "   'n_layers': 4,\n",
       "   'n_feats': 1,\n",
       "   'action_atoms': 3,\n",
       "   'n_assets': 1,\n",
       "   'min_tf': 64,\n",
       "   'dueling': False,\n",
       "   'iqn': False,\n",
       "   'discrete_actions': True,\n",
       "   'discrete_action_atoms': 3,\n",
       "   'lot_unit_value': 100000},\n",
       "  'optim_config': {'type': 'Adam',\n",
       "   'lr': 0.001,\n",
       "   'eps': 1e-08,\n",
       "   'momentum': 0.9,\n",
       "   'betas': (0.9, 0.999),\n",
       "   'weight_decay': 0},\n",
       "  'double_dqn': True,\n",
       "  'discount': 0.999,\n",
       "  'nstep_return': 3,\n",
       "  'action_atoms': 3,\n",
       "  'tau_soft': 0.0001,\n",
       "  'greedy_eps_testing': 0.0},\n",
       " 'nstep_return': 3,\n",
       " 'expl_eps': 1.0,\n",
       " 'expl_eps_min': 0.1,\n",
       " 'expl_eps_decay': 1e-06,\n",
       " 'reward_clip': (-1.0, 1.0)}"
      ]
     },
     "execution_count": 7,
     "metadata": {},
     "output_type": "execute_result"
    }
   ],
   "source": [
    "device = 'cuda' if torch.cuda.is_available() else 'cpu'\n",
    "config = make_config(\n",
    "        experiment_id=\"SineQ\",\n",
    "        basepath=\"/media/hemu/Data/Markets/farm\",\n",
    "        overwrite_exp=False,\n",
    "        test_steps=1_000,\n",
    "        nsteps=1_000_000,\n",
    "    \n",
    "        assets=[\"sine1\"],\n",
    "#         data_source_type=\"Triangle\",\n",
    "#         generator_params={\n",
    "#         'freq':[2.],\n",
    "#         'mu':[0.6],\n",
    "#         'amp':[.5],\n",
    "#         'phase':[0.],\n",
    "#         'dX':0.1,\n",
    "#         \"noise\": 0.0},\n",
    "        data_source_type=\"SineAdder\",\n",
    "        generator_params={\n",
    "            'freq':[2.2, 4.1, 1., 3.],\n",
    "            'mu':[.6, 0.3, 2., 4.2],\n",
    "            'amp':[.5, 0.2, 0.4, 1.2],\n",
    "            'phase':[0., 1., 4., 0.],\n",
    "            'dX':0.01,\n",
    "            \"noise\": 0.0},\n",
    "        preprocessor_type=\"Custom\",\n",
    "        window_length=64,\n",
    "    \n",
    "        agent_type = \"DQN\",\n",
    "        discrete_actions=True,\n",
    "        discrete_action_atoms=3,\n",
    "        double_dqn=True,\n",
    "        nstep_return = 3,\n",
    "        target_update_freq=12000,\n",
    "        rb_size=100_000,\n",
    "        min_rb_size=50_000,\n",
    "        batch_size=32,\n",
    "        discount = 0.999,\n",
    "        lot_unit_value=100_000,\n",
    "    \n",
    "    \n",
    "        model_class=\"ConvModel\",\n",
    "        lr=1e-3,\n",
    "\n",
    "    )\n",
    "config"
   ]
  },
  {
   "cell_type": "markdown",
   "metadata": {},
   "source": [
    "## Env"
   ]
  },
  {
   "cell_type": "code",
   "execution_count": 8,
   "metadata": {},
   "outputs": [
    {
     "data": {
      "text/plain": [
       "array([ 1.,  1.,  1., -1.,  1., -1., -1., -1.,  1.,  1.])"
      ]
     },
     "execution_count": 8,
     "metadata": {},
     "output_type": "execute_result"
    }
   ],
   "source": [
    "@numba.njit\n",
    "def ternarize_array(arr):\n",
    "    arr[arr<0.] = -1.\n",
    "    arr[arr==0.] = 0.\n",
    "    arr[arr>0.] = 1.\n",
    "    return arr\n",
    "ara = np.random.randn(10)\n",
    "ternarize_array(ara)\n",
    "ara"
   ]
  },
  {
   "cell_type": "code",
   "execution_count": 69,
   "metadata": {},
   "outputs": [
    {
     "data": {
      "text/plain": [
       "-1.2039728043259361"
      ]
     },
     "execution_count": 69,
     "metadata": {},
     "output_type": "execute_result"
    }
   ],
   "source": []
  },
  {
   "cell_type": "code",
   "execution_count": 70,
   "metadata": {},
   "outputs": [],
   "source": [
    "from dataclasses import dataclass\n",
    "\n",
    "@dataclass\n",
    "class BrokerResponse:\n",
    "    event: str\n",
    "    timestamp: int\n",
    "    transPrice: float\n",
    "    transUnits: float\n",
    "    transCost: float\n",
    "    riskInfo: object\n",
    "    marginCall: bool\n",
    "\n",
    "@dataclass\n",
    "class EnvInfo:\n",
    "    brokerResponse: BrokerResponse\n",
    "    exiting: bool\n",
    "        \n",
    "class EnvTernary(EnvC):\n",
    "    def step(self, actions: np.ndarray = None):\n",
    "        \"\"\"\n",
    "        If actions is None, no transaction is attempted and dataSource is iterated to\n",
    "        get new prices\n",
    "        If actions is passed, a transaction/s is attempted. Can only Reverse Positions, not add to \n",
    "        or close.\n",
    "        Hence EnvBinary.\n",
    "        \"\"\"\n",
    "\n",
    "        if actions is None: # no transaction\n",
    "            prevEq = self.portfolio.equity\n",
    "            newPrices = self.dataSource.getData()\n",
    "            newEq = self.portfolio.equity\n",
    "            reward = (newEq-prevEq) / prevEq\n",
    "            risk = self.portfolio.checkRisk()\n",
    "            done = False if risk == RiskInfo.green else True\n",
    "\n",
    "            return (State(newPrices, np.array(self.ledgerNormed, copy=True),\n",
    "                          self.dataSource.currentTime),\n",
    "                    reward, done, EnvInfo(BrokerResponse(\"\", 0, 0., 0., 0., \n",
    "                                                             risk, done), False))\n",
    "        else:\n",
    "            if not isinstance(actions, np.ndarray):\n",
    "                raise TypeError(\"action must be an np array\")\n",
    "\n",
    "            prevEq = self.portfolio.equity\n",
    "            newPrices = self.dataSource.getData()\n",
    "            newEq = self.portfolio.equity\n",
    "            reward = newEq / prevEq \n",
    "            reward = math.log(max(reward, 0.3))\n",
    "\n",
    "            ledger_ternary = self.ledgerTernary\n",
    "            actions_ternary = actions - 1\n",
    "#             actions_ternary[ledger_ternary == actions_ternary] = 0.\n",
    "            units = (0.2*self.availableMargin) / self.currentPrices\n",
    "            transactions = actions_ternary * units\n",
    "\n",
    "#             exiting = False\n",
    "            assets = np.where(transactions!=0.)[0]\n",
    "            for i, asset in enumerate(assets): # implicit if len(assets)\n",
    "                reward -= self.transaction_cost_rel\n",
    "#                 if self.ledger[i] != 0:\n",
    "#                     exiting = True\n",
    "#                     self.broker.close(int(asset))\n",
    "                    \n",
    "            broker_response_multi = self.broker.handleTransaction(transactions)\n",
    "            \n",
    "            done = False\n",
    "            if broker_response_multi.marginCall:\n",
    "                done=True\n",
    "            for _risk in broker_response_multi.riskInfo:\n",
    "                if _risk != RiskInfo.green:\n",
    "                    done = True\n",
    "#             if exiting:\n",
    "#                 done = True\n",
    "            if self.equity < 0.1 * self.portfolio.initCash:\n",
    "                done = True\n",
    "                print('equity: ', self.equity)\n",
    "\n",
    "            return (State(newPrices, np.array(self.ledgerNormed, copy=True),\n",
    "                          self.dataSource.currentTime),\n",
    "                    reward, done, EnvInfo(broker_response_multi, 0.))\n",
    "\n",
    "    @property\n",
    "    def ledgerTernary(self):\n",
    "        ara = np.array(self.ledger, copy=True)\n",
    "        return ternarize_array(ara)\n",
    "    "
   ]
  },
  {
   "cell_type": "code",
   "execution_count": 71,
   "metadata": {},
   "outputs": [],
   "source": [
    "def make_env(config):\n",
    "    assets = Assets(config.assets)\n",
    "    env = EnvTernary(config.data_source_type, assets, config.init_cash, config)\n",
    "    env.lot_unit = config.lot_unit_value\n",
    "    env.action_atoms = config.discrete_action_atoms\n",
    "    env.transaction_cost_rel = config.transaction_cost_rel\n",
    "#     env.setTransactionCost\n",
    "    return env"
   ]
  },
  {
   "cell_type": "code",
   "execution_count": 72,
   "metadata": {},
   "outputs": [
    {
     "name": "stdout",
     "output_type": "stream",
     "text": [
      "reward: 0.0\n",
      "reward: 0.0\n",
      "[7.21755705] 1000000.0 1000000.0 [0.] 1000000.0\n"
     ]
    }
   ],
   "source": [
    "# env = EnvBinary(config)\n",
    "# assets = Assets(config.assets)\n",
    "env = make_env(config)\n",
    "srdi = env.step(np.array([1]))\n",
    "print('reward:', srdi[1])\n",
    "print('reward:', env.step()[1])\n",
    "env.step(np.array([0]))\n",
    "env.reset()\n",
    "print(env.currentPrices, env.cash, env.equity, env.ledger, env.availableMargin)"
   ]
  },
  {
   "cell_type": "code",
   "execution_count": 73,
   "metadata": {},
   "outputs": [],
   "source": [
    "from collections import deque\n",
    "import sklearn.preprocessing\n",
    "\n",
    "class Preprocessor:\n",
    "    def __init__(self, window_len):\n",
    "        self.k = window_len\n",
    "        self.min_tf = self.k\n",
    "        self.price_buffer = deque(maxlen=self.k)\n",
    "        self.portfolio_buffer = deque(maxlen=self.k)\n",
    "        self.time_buffer = deque(maxlen=self.k)\n",
    "        self.feature_output_size = 12\n",
    "\n",
    "    def __len__(self):\n",
    "        return len(self.price_buffer)\n",
    "\n",
    "    def stream_srdi(self, srdi):\n",
    "        self.price_buffer.append(srdi[0].price)\n",
    "        self.portfolio_buffer.append(srdi[0].portfolio)\n",
    "        self.time_buffer.append(srdi[0].timestamp)\n",
    "\n",
    "    def stream_state(self, state):\n",
    "        self.price_buffer.append(np.array(state.price, copy=True))\n",
    "        self.portfolio_buffer.append(np.array(state.portfolio, copy=True))\n",
    "        self.time_buffer.append(np.array(state.timestamp, copy=True))\n",
    "\n",
    "    def stream(self, data):\n",
    "        if isinstance(data, tuple): # assume srdi\n",
    "            self.stream_srdi(data)\n",
    "        elif isinstance(data, (StateA, State)):\n",
    "            self.stream_state(data)\n",
    "\n",
    "    def current_data(self):\n",
    "        prices = np.array(self.price_buffer, copy=True)\n",
    "        prices = sklearn.preprocessing.minmax_scale(prices)\n",
    "        features = np.empty(self.feature_output_size)\n",
    "        for i, window in enumerate([3, 5, 7, 11]):\n",
    "            features[i] = np.mean(prices[-window:])\n",
    "            features[i+4] = np.var(prices[-window:])\n",
    "        features[8] = prices.min()\n",
    "        features[9] = prices.max()\n",
    "        features[10] = prices[0]\n",
    "        features[11] = prices[-1]\n",
    "        return State(features.reshape(-1, 1) ,\n",
    "                     self.portfolio_buffer[-1],\n",
    "                     self.time_buffer[-1])\n",
    "\n",
    "    def initialize_history(self, env):\n",
    "        while len(self) < self.k:\n",
    "            _state, reward, done, info = env.step()\n",
    "            self.stream_state(_state)\n"
   ]
  },
  {
   "cell_type": "code",
   "execution_count": 74,
   "metadata": {},
   "outputs": [],
   "source": [
    "def make_preprocessor(config):\n",
    "    if config.preprocessor_type == \"Custom\":\n",
    "        return Preprocessor(config.preprocessor_config.window_length)\n",
    "    return _make_preprocessor(config)"
   ]
  },
  {
   "cell_type": "code",
   "execution_count": 75,
   "metadata": {
    "scrolled": false
   },
   "outputs": [
    {
     "data": {
      "text/plain": [
       "<madigan.environments.cpp.build.env.State at 0x7f1ea8b7aaf0>"
      ]
     },
     "execution_count": 75,
     "metadata": {},
     "output_type": "execute_result"
    },
    {
     "data": {
      "image/png": "[encoded data removed]",
      "text/plain": [
       "<Figure size 576x432 with 1 Axes>"
      ]
     },
     "metadata": {
      "needs_background": "light"
     },
     "output_type": "display_data"
    }
   ],
   "source": [
    "from IPython.core.pylabtools import figsize\n",
    "figsize(8, 6)\n",
    "\n",
    "preprocessor = make_preprocessor(config)\n",
    "env.currentPrices\n",
    "preprocessor.initialize_history(env)\n",
    "plt.plot(preprocessor.current_data().price)\n",
    "env.reset()"
   ]
  },
  {
   "cell_type": "markdown",
   "metadata": {},
   "source": [
    "## Agent"
   ]
  },
  {
   "cell_type": "code",
   "execution_count": 76,
   "metadata": {
    "code_folding": []
   },
   "outputs": [],
   "source": [
    "from madigan.utils import DiscreteRangeSpace, DiscreteActionSpace\n",
    "\n",
    "class AgentLM:\n",
    "    def __init__(self, config, feature_input_size, device=None):\n",
    "        self.device = device or ('cuda' if torch.cuda.is_available() else 'cpu')\n",
    "        \n",
    "        self.action_atoms = config.discrete_action_atoms\n",
    "        self.lot_unit_value = config.lot_unit_value\n",
    "        actions = [self.lot_unit_value*action - self.action_atoms//2 for action in range(self.action_atoms)]\n",
    "        probs = [1/len(actions) for i in actions]\n",
    "#         self._action_space = DiscreteActionSpace(actions, probs, len(config.assets))\n",
    "        self._action_space = DiscreteRangeSpace((0, 2), len(config.assets))\n",
    "\n",
    "#         input_size = config.preprocessor_config.window_length + len(config.assets)\n",
    "        input_size = feature_input_size + len(config.assets)\n",
    "        self.model_b = nn.Linear(input_size, self.action_atoms).to(device).float()\n",
    "        self.model_t = nn.Linear(input_size, self.action_atoms).to(device).float()\n",
    "        \n",
    "        self.discount = config.agent_config.discount\n",
    "        \n",
    "        self.opt = torch.optim.Adam(self.model_b.parameters(), lr=config.agent_config.optim_config.lr)\n",
    "        \n",
    "        self.tau_soft = config.agent_config.tau_soft\n",
    "        self.config = config\n",
    "        \n",
    "    @property\n",
    "    def action_space(self):\n",
    "        return self._action_space\n",
    "    \n",
    "    def prep_state(self, x):\n",
    "        price = x.price[None, ..., 0]\n",
    "        x = np.concatenate([price, x.portfolio[None, ...]], axis=-1)\n",
    "        return torch.from_numpy(x).float().to(self.device)\n",
    "    \n",
    "    def get_qvals(self, x):\n",
    "        x = self.prep_state(x)\n",
    "        return self.model_t(x).detach()\n",
    "    \n",
    "    def action_to_transaction(self, actions):\n",
    "#         return self.lot_unit_value * (actions - (self.action_atoms // 2)).cpu().numpy()\n",
    "        return actions.cpu().numpy()\n",
    "        \n",
    "    def __call__(self, x):\n",
    "        with torch.no_grad():\n",
    "            x = self.prep_state(x)\n",
    "            qvals = self.model_t(x)\n",
    "            actions = qvals.max(-1)[1]\n",
    "            return self.action_to_transaction(actions)\n",
    "        \n",
    "    def prep_sarsd(self, sarsd):\n",
    "        state = State(\n",
    "            price = torch.as_tensor(sarsd.state.price[..., 0], \n",
    "                                    dtype=torch.float32).to(self.device),\n",
    "            portfolio = torch.as_tensor(sarsd.state.portfolio, \n",
    "                                        dtype=torch.float32).to(self.device),\n",
    "            timestamp = sarsd.state.timestamp\n",
    "        )\n",
    "#         action = np.rint(sarsd.action // self.lot_unit_value) + self.action_atoms//2\n",
    "        action = sarsd.action\n",
    "        action = torch.as_tensor(action, dtype=torch.long, device=self.device)[..., 0]\n",
    "        reward = torch.as_tensor(sarsd.reward, dtype=torch.float32, device=self.device)\n",
    "        next_state = State(\n",
    "            price = torch.as_tensor(sarsd.next_state.price[..., 0], \n",
    "                                    dtype=torch.float32, device=self.device),\n",
    "            portfolio = torch.as_tensor(sarsd.next_state.portfolio, \n",
    "                                        dtype=torch.float32, device=self.device),\n",
    "            timestamp = sarsd.next_state.timestamp\n",
    "        )\n",
    "        done = torch.as_tensor(sarsd.done, dtype=torch.bool, device=self.device)\n",
    "        state = torch.cat([state.price, state.portfolio], dim=-1)\n",
    "        next_state = torch.cat([next_state.price, next_state.portfolio], dim=-1)\n",
    "        return state, action, reward, next_state, done\n",
    "    \n",
    "    def loss_fn(self, Qt, Gt):\n",
    "        return F.smooth_l1_loss(Qt, Gt)\n",
    "    \n",
    "    def train_step(self, sarsd):\n",
    "        state, action, reward, next_state, done = self.prep_sarsd(sarsd)\n",
    "        self.opt.zero_grad()\n",
    "        with torch.no_grad():\n",
    "            greedy_qvals_next = self.model_t(next_state).max(-1)[0]\n",
    "            Gt = reward + (~done*self.discount * greedy_qvals_next)\n",
    "        action_mask = F.one_hot(action, self.action_atoms).to(self.device)\n",
    "        qvals = self.model_b(state)\n",
    "        Qt = (qvals*action_mask).sum(-1)\n",
    "        \n",
    "        loss = self.loss_fn(Qt, Gt)\n",
    "        loss.backward()\n",
    "        self.opt.step()\n",
    "        \n",
    "        td_error = (Gt-Qt).abs().mean().detach().item()\n",
    "        \n",
    "        self.update_target()\n",
    "        \n",
    "        return {'loss': loss.detach().item(), 'td_error': td_error, 'Qt': Qt.detach(), 'Gt': Gt.detach()}\n",
    "    \n",
    "    def update_target(self):\n",
    "        \"\"\"\n",
    "        Soft Update \n",
    "        \"\"\"\n",
    "        for behaviour, target in zip(self.model_b.parameters(), self.model_t.parameters()):\n",
    "            target.data.copy_(self.tau_soft * behaviour.data + (1.-self.tau_soft)*target.data)\n",
    "#         self.model_t.load_state_dict(self.model_b.state_dict())\n",
    "        "
   ]
  },
  {
   "cell_type": "code",
   "execution_count": 77,
   "metadata": {},
   "outputs": [],
   "source": [
    "class AgentMLP(AgentLM):\n",
    "    def __init__(self, config, feature_input_size, device=None):\n",
    "        self.device = device or ('cuda' if torch.cuda.is_available() else 'cpu')\n",
    " \n",
    "        self.action_atoms = config.discrete_action_atoms\n",
    "        self.lot_unit_value = config.lot_unit_value\n",
    "        actions = [self.lot_unit_value*action - self.action_atoms//2 for action in range(self.action_atoms)]\n",
    "        probs = [1/len(actions) for i in actions]\n",
    "#         self._action_space = DiscreteActionSpace(actions, probs, len(config.assets))\n",
    "        self._action_space = DiscreteRangeSpace((0, 2), len(config.assets))\n",
    "\n",
    "        input_size = feature_input_size + len(config.assets)\n",
    "        d_model = config.agent_config.model_config.d_model\n",
    "        self.model_b = nn.Sequential(nn.Linear(input_size, d_model), nn.ReLU(), \n",
    "                                     nn.Linear(d_model, self.action_atoms)).to(device).float()\n",
    "        self.model_t = nn.Sequential(nn.Linear(input_size, d_model), nn.ReLU(), \n",
    "                                     nn.Linear(d_model, self.action_atoms)).to(device).float()\n",
    "        \n",
    "        self.discount = config.agent_config.discount\n",
    "        \n",
    "        self.opt = torch.optim.Adam(self.model_b.parameters(), lr=config.agent_config.optim_config.lr)\n",
    "        self.tau_soft = config.agent_config.tau_soft\n",
    "        self.config = config\n"
   ]
  },
  {
   "cell_type": "code",
   "execution_count": 78,
   "metadata": {},
   "outputs": [],
   "source": [
    "class ConvModel(nn.Module):\n",
    "    def __init__(self, config, feature_input_size):\n",
    "        super().__init__()\n",
    "        \n",
    "    def forward(self, state):\n",
    "        price = state.price\n",
    "        portfolio = state.portfolio\n",
    "        \n",
    "        \n",
    "class AgentCNN(AgentMLP):\n",
    "    def __init__(self, config, feature_input_size, device=None):\n",
    "        super().__init__(config, feature_input_size, device)\n",
    "        self.model_b = nn.Sequential(nn.Conv1d(1, 32, 5), nn.ReLU(), nn.Conv1d(32, 64, 5),\n",
    "                                     nn.ReLU(), nn.Flatten(), \n",
    "                                     nn.Linear(feature_input_size8,self.action_atoms)\n",
    "                                    ).to(device).float()\n",
    "        self.model_b = nn.Sequential(nn.Conv1d(1, 32, 5), nn.ReLU(), nn.Conv1d(32, 64, 5),\n",
    "                                     nn.ReLU(), nn.Flatten(), \n",
    "                                     nn.Linear(feature_input_size8,self.action_atoms)\n",
    "                                    ).to(device).float()\n",
    "    def prep_state(self, x):\n",
    "        price = torch.from_numpy(x.price[None, ...])\n",
    "        port = torch.from_numpy(x.portfolio)\n",
    "        return "
   ]
  },
  {
   "cell_type": "code",
   "execution_count": 79,
   "metadata": {},
   "outputs": [],
   "source": [
    "class PerfectAgent:\n",
    "    def __init__(self, config):\n",
    "        self.config=config\n",
    "        self.action_atoms = config.discrete_action_atoms\n",
    "        self.params = self.config.generator_params\n",
    "        \n",
    "    def get_qvals(self, state):\n",
    "        prices = state.price\n",
    "        if self.config.data_source_type in  (\"Synth\", \"Triangle\"):\n",
    "            if prices[-3] < prices[-2] > prices[-1]:\n",
    "                return torch.tensor([[-1., 1.]])\n",
    "            elif prices[-3] > prices[-2] < prices[-1]:\n",
    "                return torch.tensor([[1., -1.]])\n",
    "            else:\n",
    "                return torch.randn((1, 2))\n",
    "        elif self.config.data_source_type == \"SawTooth\":\n",
    "            _max = np.array(self.params['amp']) + np.array(self.params['mu'])\n",
    "            if (_max - prices[-1] ) > (_max/1.25):\n",
    "                return torch.tensor([[1., -1.]])\n",
    "            return torch.tensor([[-1., 1.]])\n",
    "\n",
    "    def __call__(self, state):\n",
    "        qvals = self.get_qvals(state)\n",
    "        if qvals[0, 1] > qvals[0, 0]:\n",
    "            return np.array([1])\n",
    "        return np.array([0])"
   ]
  },
  {
   "cell_type": "code",
   "execution_count": 80,
   "metadata": {
    "scrolled": true
   },
   "outputs": [
    {
     "name": "stdout",
     "output_type": "stream",
     "text": [
      "tensor([[ 0.0246, -0.2118,  0.2263]], device='cuda:0') [2]\n"
     ]
    }
   ],
   "source": [
    "agent = AgentLM(config, preprocessor.feature_output_size, device=device)\n",
    "x = preprocessor.current_data()\n",
    "qvals = agent.get_qvals(x)\n",
    "action = agent(x)\n",
    "print(qvals, action)"
   ]
  },
  {
   "cell_type": "markdown",
   "metadata": {},
   "source": [
    "## Training\n"
   ]
  },
  {
   "cell_type": "code",
   "execution_count": 81,
   "metadata": {
    "code_folding": [
     19
    ]
   },
   "outputs": [],
   "source": [
    "def trainer(agent, env, preprocessor, config):\n",
    "    rb = ReplayBuffer(config.rb_size)\n",
    "    nstep_buffer = []\n",
    "    nstep=config.nstep_return\n",
    "    min_rb_size = config.min_rb_size\n",
    "    target_update_freq = config.target_update_freq\n",
    "    perfect_agent = PerfectAgent(config)\n",
    "\n",
    "    \n",
    "    eps = 1.\n",
    "    eps_decay = config.expl_eps_decay\n",
    "    eps_min = config.expl_eps_min\n",
    "    env.reset()\n",
    "    preprocessor.initialize_history(env)\n",
    "    state = preprocessor.current_data()\n",
    "    i = 0\n",
    "    running_reward = 0.\n",
    "    while True:\n",
    "        trn_metrics=None\n",
    "        \n",
    "        if random.random() < eps:\n",
    "            \n",
    "#             curPos = env.ledgerTernary\n",
    "#             if curPos[0] > 0.:\n",
    "#                 if random.random() < 0.1:\n",
    "#                     actions = np.array([0])\n",
    "#                 else:\n",
    "#                     actions = np.array([1])\n",
    "#             elif curPos[0] < 0.:\n",
    "#                 if random.random() < 0.1:\n",
    "#                     actions = np.array([1])\n",
    "#                 else:\n",
    "#                     actions = np.array([0])\n",
    "#             else:\n",
    "#             if random.random() < 0.2:\n",
    "#                 actions = perfect_agent(state)\n",
    "#             else:\n",
    "# #                 actions = random.sample([-config.lot_unit_value, 0, config.lot_unit_value], 1)\n",
    "            actions = np.random.randint(0, 3, 1)\n",
    "#             actions = random.sample([0, 1, 2], 1, p=[0.1, 0.8, 0.1])\n",
    "        else:\n",
    "            actions = agent(state)\n",
    "        eps = max(eps_min, eps*eps_decay)\n",
    "        \n",
    "#         Prevent double positon\n",
    "        for i, action in enumerate(actions):\n",
    "            if np.sign(action) == np.sign(env.ledger):\n",
    "                actions[i] = 0.\n",
    "                \n",
    "        _next_state, reward, done, info = env.step(actions)\n",
    "#         reward = max(-1., min(reward, 1.))\n",
    "        preprocessor.stream_state(_next_state)\n",
    "        next_state = preprocessor.current_data()\n",
    "        \n",
    "        sarsd = SARSD(state, actions, reward, next_state, done)\n",
    "        nstep_buffer.append(sarsd)\n",
    "        if len(nstep_buffer) == nstep:\n",
    "            _reward = sum([dat.reward for dat in nstep_buffer])\n",
    "#             _next_state = nstep_buffer[-1].next_state\n",
    "            nstep_sarsd = nstep_buffer.pop(0)\n",
    "            nstep_sarsd.reward = _reward\n",
    "            rb.add(nstep_sarsd)\n",
    "            running_reward += _reward\n",
    "        \n",
    "        if done:\n",
    "            env.reset()\n",
    "            preprocessor.initialize_history(env)\n",
    "            state = preprocessor.current_data()\n",
    "            print('running_reward: ', running_reward)\n",
    "            running_reward = 0.\n",
    "        else:\n",
    "            state = next_state\n",
    "        if len(rb) >= min_rb_size:\n",
    "            sarsd = rb.sample(config.batch_size)\n",
    "            trn_metrics = agent.train_step(sarsd)\n",
    "            trn_metrics['eps'] = eps\n",
    "            trn_metrics['running_reward'] = running_reward\n",
    "#         if i % target_update_freq == 0:\n",
    "#             agent.model_t.load_state_dict(agent.model_b.state_dict())\n",
    "            \n",
    "        yield trn_metrics\n",
    "        i += 1"
   ]
  },
  {
   "cell_type": "code",
   "execution_count": 103,
   "metadata": {
    "scrolled": true
   },
   "outputs": [
    {
     "data": {
      "text/plain": [
       "{'basepath': '/media/hemu/Data/Markets/farm',\n",
       " 'experiment_id': 'SineQ',\n",
       " 'parent_id': '',\n",
       " 'overwrite_exp': False,\n",
       " 'transaction_cost_abs': 0.0,\n",
       " 'transaction_cost_rel': 0.02,\n",
       " 'env_type': 'Synth',\n",
       " 'data_source_type': 'SineAdder',\n",
       " 'init_cash': 1000000,\n",
       " 'required_margin': 1.0,\n",
       " 'maintenance_margin': 0.25,\n",
       " 'generator_params': {'freq': [2.2, 4.1, 1.0, 3.0],\n",
       "  'mu': [0.6, 0.3, 2.0, 4.2],\n",
       "  'amp': [0.5, 0.2, 0.4, 1.2],\n",
       "  'phase': [0.0, 1.0, 4.0, 0.0],\n",
       "  'dX': 0.01,\n",
       "  'noise': 0.0},\n",
       " 'assets': ['sine1'],\n",
       " 'lot_unit_value': 10000,\n",
       " 'n_assets': 1,\n",
       " 'discrete_actions': True,\n",
       " 'discrete_action_atoms': 3,\n",
       " 'preprocessor_type': 'Custom',\n",
       " 'preprocessor_config': {'window_length': 64},\n",
       " 'agent_type': 'DQN',\n",
       " 'nsteps': 1000000,\n",
       " 'test_steps': 1000,\n",
       " 'rb_size': 100000,\n",
       " 'min_rb_size': 50000,\n",
       " 'train_freq': 4,\n",
       " 'target_update_freq': 1200,\n",
       " 'test_freq': 32000,\n",
       " 'log_freq': 10000,\n",
       " 'model_save_freq': 64000,\n",
       " 'min_tf': 64,\n",
       " 'batch_size': 32,\n",
       " 'agent_config': {'type': 'DQN',\n",
       "  'basepath': '/media/hemu/Data/Markets/farm',\n",
       "  'model_config': {'model_class': 'ConvModel',\n",
       "   'd_model': 1024,\n",
       "   'n_layers': 4,\n",
       "   'n_feats': 1,\n",
       "   'action_atoms': 3,\n",
       "   'n_assets': 1,\n",
       "   'min_tf': 64,\n",
       "   'dueling': False,\n",
       "   'iqn': False,\n",
       "   'discrete_actions': True,\n",
       "   'discrete_action_atoms': 3,\n",
       "   'lot_unit_value': 10000},\n",
       "  'optim_config': {'type': 'Adam',\n",
       "   'lr': 0.001,\n",
       "   'eps': 1e-08,\n",
       "   'momentum': 0.9,\n",
       "   'betas': (0.9, 0.999),\n",
       "   'weight_decay': 0},\n",
       "  'double_dqn': True,\n",
       "  'discount': 0.999,\n",
       "  'nstep_return': 5,\n",
       "  'action_atoms': 3,\n",
       "  'tau_soft': 0.0001,\n",
       "  'greedy_eps_testing': 0.0},\n",
       " 'nstep_return': 5,\n",
       " 'expl_eps': 1.0,\n",
       " 'expl_eps_min': 0.1,\n",
       " 'expl_eps_decay': 0.999999,\n",
       " 'reward_clip': (-1.0, 1.0)}"
      ]
     },
     "execution_count": 103,
     "metadata": {},
     "output_type": "execute_result"
    }
   ],
   "source": [
    "config = make_config(\n",
    "        experiment_id=\"SineQ\",\n",
    "        basepath=\"/media/hemu/Data/Markets/farm\",\n",
    "        overwrite_exp=False,\n",
    "        transaction_cost_rel=0.02,\n",
    "    \n",
    "    \n",
    "        test_steps=1_000,\n",
    "        nsteps=1_000_000,\n",
    "    \n",
    "        assets=[\"sine1\"],\n",
    "#         data_source_type=\"Triangle\",\n",
    "#         generator_params={\n",
    "#         'freq':[2.],\n",
    "#         'mu':[0.6],\n",
    "#         'amp':[.5],\n",
    "#         'phase':[0.],\n",
    "#         'dX':0.1,\n",
    "#         \"noise\": 0.0},\n",
    "        data_source_type=\"SineAdder\",\n",
    "        generator_params={\n",
    "            'freq':[2.2, 4.1, 1., 3.],\n",
    "            'mu':[.6, 0.3, 2., 4.2],\n",
    "            'amp':[.5, 0.2, 0.4, 1.2],\n",
    "            'phase':[0., 1., 4., 0.],\n",
    "            'dX':0.01,\n",
    "            \"noise\": 0.0},\n",
    "        preprocessor_type=\"Custom\",\n",
    "        window_length=64,\n",
    "    \n",
    "        agent_type = \"DQN\",\n",
    "        discrete_actions=True,\n",
    "        discrete_action_atoms=3,\n",
    "        double_dqn=True,\n",
    "        nstep_return = 5,\n",
    "        target_update_freq=1200,\n",
    "        rb_size=100_000,\n",
    "        min_rb_size=50_000,\n",
    "        batch_size=32,\n",
    "        discount = 0.999,\n",
    "        lot_unit_value=10_000,\n",
    "        tau_soft=1e-4,\n",
    "    \n",
    "        expl_eps_decay=0.999999,\n",
    "    \n",
    "        model_class=\"ConvModel\",\n",
    "        d_model = 1024,\n",
    "        lr=1e-3,\n",
    "\n",
    "    )\n",
    "config"
   ]
  },
  {
   "cell_type": "code",
   "execution_count": 104,
   "metadata": {},
   "outputs": [],
   "source": [
    "env = make_env(config)\n",
    "\n",
    "# agent = make_agent(config)\n",
    "\n",
    "preprocessor = make_preprocessor(config)\n",
    "preprocessor.initialize_history(env)\n",
    "\n",
    "agent = AgentMLP(config, preprocessor.feature_output_size, device=device)"
   ]
  },
  {
   "cell_type": "code",
   "execution_count": 105,
   "metadata": {
    "scrolled": true
   },
   "outputs": [
    {
     "name": "stdout",
     "output_type": "stream",
     "text": [
      "Initializing replay buffer with min # of experiences\n"
     ]
    },
    {
     "data": {
      "application/vnd.jupyter.widget-view+json": {
       "model_id": "1bcf226339e94287b7a5297ad0f91125",
       "version_major": 2,
       "version_minor": 0
      },
      "text/plain": [
       "HBox(children=(FloatProgress(value=0.0, max=50000.0), HTML(value='')))"
      ]
     },
     "metadata": {},
     "output_type": "display_data"
    },
    {
     "name": "stdout",
     "output_type": "stream",
     "text": [
      "running_reward:  -30.878069246425863\n",
      "running_reward:  -35.366870596425876\n",
      "running_reward:  -34.88947111704793\n",
      "running_reward:  -34.64767303327689\n",
      "running_reward:  -14.778401649366739\n",
      "running_reward:  -17.44605828666082\n",
      "running_reward:  -110.48733630521996\n",
      "running_reward:  -32.0002341693434\n",
      "running_reward:  -51.3726794175127\n",
      "running_reward:  -90.10529180978308\n",
      "running_reward:  -30.775318617103316\n",
      "running_reward:  -21.985930329570877\n",
      "running_reward:  -48.44542962420062\n",
      "running_reward:  -38.062480667241466\n",
      "running_reward:  -25.301443992510038\n",
      "running_reward:  -23.790047540581167\n",
      "running_reward:  -33.69853212954231\n",
      "running_reward:  -19.18654171960486\n",
      "running_reward:  -18.51441172949646\n",
      "running_reward:  -16.468113347912162\n",
      "running_reward:  -17.98085639191477\n",
      "running_reward:  -37.49371088507715\n",
      "running_reward:  -23.915824833813115\n",
      "running_reward:  -45.69144741211567\n",
      "running_reward:  -29.892391667872445\n",
      "running_reward:  -40.51156548834203\n",
      "running_reward:  -42.49197765284292\n",
      "running_reward:  -18.42953528370437\n",
      "running_reward:  -22.0209061917417\n",
      "equity:  67112.8738717949\n",
      "running_reward:  -33.852741865709135\n",
      "running_reward:  -30.34270700175702\n",
      "running_reward:  -57.902109444475514\n",
      "running_reward:  -33.84211518674355\n",
      "running_reward:  -43.17408399367945\n",
      "running_reward:  -58.17580604270255\n",
      "running_reward:  -57.612362671330246\n",
      "running_reward:  -28.194343487954672\n",
      "running_reward:  -37.203730045989175\n",
      "running_reward:  -47.498832370922514\n",
      "running_reward:  -43.231085685646995\n",
      "running_reward:  -42.074956714231824\n",
      "running_reward:  -17.0372948878304\n",
      "running_reward:  -65.14393671337972\n",
      "running_reward:  -28.91991230863065\n",
      "running_reward:  -20.573487366101627\n",
      "running_reward:  -17.417898379145733\n",
      "equity:  78429.97268844163\n",
      "running_reward:  -86.94175686153206\n",
      "running_reward:  -24.950011696971504\n",
      "running_reward:  -92.1961886124173\n",
      "running_reward:  -24.111580601089685\n",
      "running_reward:  -37.31107773995483\n",
      "running_reward:  -21.879570367897752\n",
      "running_reward:  -42.04623445799104\n",
      "running_reward:  -20.53269919228009\n",
      "running_reward:  -41.79844314077901\n",
      "equity:  96098.31457447493\n",
      "running_reward:  -35.94243764820354\n",
      "running_reward:  -22.09319686548473\n",
      "running_reward:  -31.330586265207035\n",
      "running_reward:  -60.06995688050606\n",
      "equity:  84869.05254650349\n",
      "running_reward:  -51.05329257354311\n",
      "running_reward:  -18.75675294187846\n",
      "running_reward:  -194.6871284132908\n",
      "running_reward:  -14.570349138432594\n",
      "running_reward:  -43.54482562627337\n",
      "running_reward:  -16.379248590856047\n",
      "running_reward:  -37.77135559190484\n",
      "running_reward:  -16.58307551296514\n",
      "running_reward:  -36.39161470067972\n",
      "running_reward:  -15.1320204692727\n",
      "running_reward:  -46.36804882697558\n",
      "running_reward:  -106.67364817035279\n",
      "running_reward:  -17.886308300402327\n",
      "running_reward:  -47.09621146934985\n",
      "running_reward:  -32.615993416684866\n",
      "running_reward:  -31.797344289305162\n",
      "running_reward:  -20.555470891840113\n",
      "running_reward:  -78.83710530645214\n",
      "running_reward:  -14.934560714491184\n",
      "running_reward:  -40.873630684875266\n",
      "running_reward:  -23.417749220235848\n",
      "running_reward:  -19.545407258986874\n",
      "running_reward:  -15.579899387500754\n",
      "running_reward:  -28.578768286184317\n",
      "running_reward:  -33.74114934981403\n",
      "running_reward:  -13.426214681077782\n",
      "running_reward:  -14.330387408710983\n",
      "running_reward:  -14.94123527618064\n",
      "running_reward:  -23.17921766008218\n",
      "running_reward:  -40.096472359801304\n",
      "running_reward:  -106.86878066405227\n",
      "running_reward:  -24.515356760332185\n",
      "running_reward:  -25.969902928833886\n",
      "running_reward:  -63.98430651979596\n",
      "running_reward:  -34.44577740867371\n",
      "running_reward:  -23.600500260773764\n",
      "running_reward:  -21.06986224762351\n",
      "running_reward:  -25.133058886105058\n",
      "running_reward:  -27.844475286257982\n",
      "equity:  93602.26707974635\n",
      "running_reward:  -24.636703616548974\n",
      "equity:  59361.988112146035\n",
      "running_reward:  -24.330352294393947\n",
      "running_reward:  -43.059067888689796\n",
      "running_reward:  -31.320065243005963\n",
      "running_reward:  -32.977955551630984\n",
      "running_reward:  -16.644379959475906\n",
      "running_reward:  -22.851084561993616\n",
      "running_reward:  -32.78607073625346\n",
      "running_reward:  -35.521878328990184\n",
      "running_reward:  -33.91265937053247\n",
      "running_reward:  -19.75793319014117\n",
      "running_reward:  -26.78984239385998\n",
      "running_reward:  -48.98523854870815\n",
      "running_reward:  -35.90381283295475\n",
      "running_reward:  -29.661016650737903\n",
      "running_reward:  -27.151202843354238\n",
      "running_reward:  -23.632915244970505\n",
      "running_reward:  -38.427401862767866\n",
      "equity:  85145.73757520528\n",
      "running_reward:  -43.32448315600289\n",
      "running_reward:  -16.895251059458115\n",
      "\n"
     ]
    }
   ],
   "source": [
    "train_loop = iter(trainer(agent, env, preprocessor, config))\n",
    "# INITIALIZE REPLAY BUFFER\n",
    "print(\"Initializing replay buffer with min # of experiences\")\n",
    "for i in tqdm(range(config.min_rb_size)):\n",
    "    metrics = next(train_loop)\n",
    "    \n",
    "train_metrics=[]"
   ]
  },
  {
   "cell_type": "code",
   "execution_count": 106,
   "metadata": {
    "scrolled": true
   },
   "outputs": [
    {
     "data": {
      "application/vnd.jupyter.widget-view+json": {
       "model_id": "c2221d48099e474f89c817b283277e88",
       "version_major": 2,
       "version_minor": 0
      },
      "text/plain": [
       "HBox(children=(FloatProgress(value=0.0, max=20000.0), HTML(value='')))"
      ]
     },
     "metadata": {},
     "output_type": "display_data"
    },
    {
     "name": "stdout",
     "output_type": "stream",
     "text": [
      "running_reward:  -72.47567105432384\n",
      "running_reward:  -41.141759180541406\n",
      "running_reward:  -26.621003964487166\n",
      "running_reward:  -16.948767208943565\n",
      "running_reward:  -22.234499122636468\n",
      "running_reward:  -28.629899338688972\n",
      "running_reward:  -98.08766122977815\n",
      "running_reward:  -32.30548207871386\n",
      "running_reward:  -32.98920029017606\n",
      "running_reward:  -55.749281496059446\n",
      "running_reward:  -20.57996897431774\n",
      "running_reward:  -64.96016736170475\n",
      "running_reward:  -24.531891225232627\n",
      "running_reward:  -85.5392106115569\n",
      "running_reward:  -43.637173453945685\n",
      "running_reward:  -88.8680444976828\n",
      "running_reward:  -21.761961746677276\n",
      "running_reward:  -31.865610078838767\n",
      "running_reward:  -28.948156648818\n",
      "running_reward:  -60.02457456052879\n",
      "running_reward:  -48.80048206652383\n",
      "running_reward:  -51.88482733438244\n",
      "running_reward:  -45.80484053665421\n",
      "running_reward:  -16.17738521346283\n",
      "running_reward:  -20.635903114797188\n",
      "running_reward:  -24.47764357269299\n",
      "equity:  84874.28476553084\n",
      "running_reward:  -76.03735597381748\n",
      "equity:  -4288.641995484009\n",
      "running_reward:  -29.653860940496664\n",
      "running_reward:  -37.013707539002716\n",
      "running_reward:  -77.84126770879331\n",
      "running_reward:  -159.49846762688495\n",
      "running_reward:  -23.97297605506907\n",
      "running_reward:  -67.93511347887592\n",
      "running_reward:  -23.935193967928623\n",
      "\n",
      "eps 0.932393787270272\n"
     ]
    }
   ],
   "source": [
    "iterations = 20_000\n",
    "env.reset()\n",
    "for i in tqdm(range(iterations)):\n",
    "    metrics = next(train_loop)\n",
    "    if metrics is not None:\n",
    "        train_metrics.append(metrics)\n",
    "        \n",
    "print('eps', metrics['eps'])"
   ]
  },
  {
   "cell_type": "code",
   "execution_count": 107,
   "metadata": {
    "scrolled": false
   },
   "outputs": [
    {
     "data": {
      "text/plain": [
       "<matplotlib.legend.Legend at 0x7f1ea2bbbdd0>"
      ]
     },
     "execution_count": 107,
     "metadata": {},
     "output_type": "execute_result"
    },
    {
     "data": {
      "image/png": "[encoded data removed]",
      "text/plain": [
       "<Figure size 720x540 with 1 Axes>"
      ]
     },
     "metadata": {
      "needs_background": "light"
     },
     "output_type": "display_data"
    }
   ],
   "source": [
    "figsize(10, 7.5)\n",
    "\n",
    "\n",
    "trn_metrics = reduce_train_metrics(list_2_dict(train_metrics), ['Qt', 'Gt'])\n",
    "\n",
    "plt.plot(trn_metrics['loss'], label='loss')\n",
    "plt.plot(trn_metrics['td_error'], label='td_error')\n",
    "plt.plot(trn_metrics['Qt'], label='Qt')\n",
    "plt.plot(trn_metrics['Gt'], label='Gt')\n",
    "plt.legend()"
   ]
  },
  {
   "cell_type": "code",
   "execution_count": 115,
   "metadata": {
    "scrolled": false
   },
   "outputs": [
    {
     "name": "stdout",
     "output_type": "stream",
     "text": [
      "dict_keys(['equity', 'returns', 'prices', 'positions', 'assets', 'cash', 'margin', 'actions', 'states', 'qvals'])\n"
     ]
    },
    {
     "data": {
      "image/png": "[encoded data removed]",
      "text/plain": [
       "<Figure size 1080x720 with 10 Axes>"
      ]
     },
     "metadata": {
      "needs_background": "light"
     },
     "output_type": "display_data"
    }
   ],
   "source": [
    "from madigan.utils.plotting import plot_test_metrics\n",
    "# agent.model_t.load_state_dict(agent.model_b.state_dict())\n",
    "figsize(15, 10)\n",
    "reset=True\n",
    "reset=False\n",
    "\n",
    "tst_metrics = test(agent, env, preprocessor, \n",
    "                   nsteps=50, verbose=True, reset=reset, eps=0.)\n",
    "print(tst_metrics.keys())\n",
    "\n",
    "fig, ax = plot_test_metrics(tst_metrics)"
   ]
  },
  {
   "cell_type": "raw",
   "metadata": {},
   "source": [
    "state = {'state_dict': agent.model_b.state_dict(),\n",
    "         'ntraining_steps': i, \n",
    "        'config': config}\n",
    "torch.save(state, 'sineadder_behaviour_good.pth')"
   ]
  },
  {
   "cell_type": "code",
   "execution_count": null,
   "metadata": {},
   "outputs": [],
   "source": [
    "params = list(agent.model_t.parameters())\n",
    "print(\"biases\", params[1])\n",
    "weights = params[0].detach().cpu().numpy()\n",
    "for i in range(0, 64):    \n",
    "    plt.plot(weights[i], label=str(i))\n",
    "# plt.legend()"
   ]
  },
  {
   "cell_type": "code",
   "execution_count": null,
   "metadata": {
    "scrolled": true
   },
   "outputs": [],
   "source": [
    "perfect_agent = PerfectAgent(config)"
   ]
  },
  {
   "cell_type": "code",
   "execution_count": null,
   "metadata": {},
   "outputs": [],
   "source": [
    "tst_metrics = test(perfect_agent, env, preprocessor, verbose=True)\n",
    "print(tst_metrics.keys())\n",
    "fig, ax = plot_test_metrics(tst_metrics)\n"
   ]
  },
  {
   "cell_type": "code",
   "execution_count": 24,
   "metadata": {},
   "outputs": [
    {
     "data": {
      "text/plain": [
       "torch.Size([1, 2])"
      ]
     },
     "execution_count": 24,
     "metadata": {},
     "output_type": "execute_result"
    }
   ],
   "source": [
    "perfect_agent.get_qvals(preprocessor.current_data()).shape"
   ]
  },
  {
   "cell_type": "code",
   "execution_count": 25,
   "metadata": {},
   "outputs": [
    {
     "data": {
      "text/plain": [
       "(64, 1)"
      ]
     },
     "execution_count": 25,
     "metadata": {},
     "output_type": "execute_result"
    }
   ],
   "source": [
    "preprocessor.current_data().price.shape"
   ]
  },
  {
   "cell_type": "code",
   "execution_count": null,
   "metadata": {},
   "outputs": [],
   "source": []
  }
 ],
 "metadata": {
  "kernelspec": {
   "display_name": "Python 3",
   "language": "python",
   "name": "python3"
  },
  "language_info": {
   "codemirror_mode": {
    "name": "ipython",
    "version": 3
   },
   "file_extension": ".py",
   "mimetype": "text/x-python",
   "name": "python",
   "nbconvert_exporter": "python",
   "pygments_lexer": "ipython3",
   "version": "3.7.7"
  }
 },
 "nbformat": 4,
 "nbformat_minor": 4
}
