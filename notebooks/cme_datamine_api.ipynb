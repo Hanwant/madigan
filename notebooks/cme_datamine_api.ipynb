{
 "cells": [
  {
   "cell_type": "code",
   "execution_count": 96,
   "metadata": {},
   "outputs": [],
   "source": [
    "from pathlib import Path\n",
    "import gzip\n",
    "import json\n",
    "\n",
    "import pandas as pd\n",
    "import h5py\n",
    "from tqdm.notebook import tqdm\n",
    "import matplotlib.pyplot as plt\n",
    "\n",
    "import datamine.io as dm"
   ]
  },
  {
   "cell_type": "code",
   "execution_count": 82,
   "metadata": {},
   "outputs": [
    {
     "name": "stdout",
     "output_type": "stream",
     "text": [
      "/media/hemu/Data/Markets/Crypto/CME/CRYPTOCURRENCY/20170407_btcIndexJson.gz\n",
      "/media/hemu/Data/Markets/Crypto/CME/CRYPTOCURRENCY/20170408_btcIndexJson.gz\n",
      "/media/hemu/Data/Markets/Crypto/CME/CRYPTOCURRENCY/20170409_btcIndexJson.gz\n",
      "/media/hemu/Data/Markets/Crypto/CME/CRYPTOCURRENCY/20170410_btcIndexJson.gz\n",
      "/media/hemu/Data/Markets/Crypto/CME/CRYPTOCURRENCY/20170411_btcIndexJson.gz\n"
     ]
    }
   ],
   "source": [
    "path = Path(\"/media/hemu/Data/Markets/Crypto/CME/CRYPTOCURRENCY\")\n",
    "\n",
    "files = list(path.iterdir())\n",
    "files.sort()\n",
    "print(*files[:5], sep='\\n')\n",
    "# df = pd.read_json(files[0])"
   ]
  },
  {
   "cell_type": "code",
   "execution_count": 3,
   "metadata": {},
   "outputs": [],
   "source": [
    "# pd.read_json(files[0], )"
   ]
  },
  {
   "cell_type": "code",
   "execution_count": null,
   "metadata": {
    "collapsed": true,
    "jupyter": {
     "outputs_hidden": true
    }
   },
   "outputs": [],
   "source": []
  },
  {
   "cell_type": "code",
   "execution_count": 4,
   "metadata": {},
   "outputs": [],
   "source": [
    "myDatamine = dm.DatamineCon(username='hanwant', password='Yamankalyan1', path='/media/hemu/Data/Markets/Crypto/CME/')"
   ]
  },
  {
   "cell_type": "code",
   "execution_count": 5,
   "metadata": {},
   "outputs": [
    {
     "name": "stdout",
     "output_type": "stream",
     "text": [
      "{}\n"
     ]
    }
   ],
   "source": [
    "cat = myDatamine.data_catalog\n",
    "print(cat)"
   ]
  },
  {
   "cell_type": "code",
   "execution_count": 6,
   "metadata": {
    "collapsed": true,
    "jupyter": {
     "outputs_hidden": true
    }
   },
   "outputs": [
    {
     "name": "stderr",
     "output_type": "stream",
     "text": [
      "downloading CRYPTOCURRENCY data: 0it [00:00, ?it/s]\n",
      "limiting to 10/997 files\n",
      "reading CRYPTOCURRENCY data: 100%|██████████| 10/10 [00:03<00:00,  2.70it/s]\n",
      "concatenating 10 dataframes\n"
     ]
    },
    {
     "name": "stdout",
     "output_type": "stream",
     "text": [
      "                          symbol    rptSeq  mdEntryPx   mdEntryTime  \\\n",
      "mdEntryDateTime                                                       \n",
      "2017-04-21 00:00:00+00:00   BRTI  17434413    1235.64  00:00:00.000   \n",
      "2017-04-21 00:00:01+00:00   BRTI  17434414    1235.66  00:00:01.000   \n",
      "2017-04-21 00:00:02+00:00   BRTI  17434415    1235.67  00:00:02.000   \n",
      "2017-04-21 00:00:03+00:00   BRTI  17434416    1235.63  00:00:03.000   \n",
      "2017-04-21 00:00:04+00:00   BRTI  17434417    1235.67  00:00:04.000   \n",
      "...                          ...       ...        ...           ...   \n",
      "2017-04-30 23:59:54+00:00   BRTI  18298407    1363.34  23:59:54.000   \n",
      "2017-04-30 23:59:55+00:00   BRTI  18298408    1363.52  23:59:55.000   \n",
      "2017-04-30 23:59:56+00:00   BRTI  18298409    1363.46  23:59:56.000   \n",
      "2017-04-30 23:59:57+00:00   BRTI  18298410    1363.50  23:59:57.000   \n",
      "2017-04-30 23:59:58+00:00   BRTI  18298411    1363.16  23:59:58.000   \n",
      "\n",
      "                          mdUpdateAction openCloseSettlFlag  netChgPrevDay  \\\n",
      "mdEntryDateTime                                                              \n",
      "2017-04-21 00:00:00+00:00            NEW                NaN            NaN   \n",
      "2017-04-21 00:00:01+00:00            NEW                NaN            NaN   \n",
      "2017-04-21 00:00:02+00:00            NEW                NaN            NaN   \n",
      "2017-04-21 00:00:03+00:00            NEW                NaN            NaN   \n",
      "2017-04-21 00:00:04+00:00            NEW                NaN            NaN   \n",
      "...                                  ...                ...            ...   \n",
      "2017-04-30 23:59:54+00:00            NEW                NaN            NaN   \n",
      "2017-04-30 23:59:55+00:00            NEW                NaN            NaN   \n",
      "2017-04-30 23:59:56+00:00            NEW                NaN            NaN   \n",
      "2017-04-30 23:59:57+00:00            NEW                NaN            NaN   \n",
      "2017-04-30 23:59:58+00:00            NEW                NaN            NaN   \n",
      "\n",
      "                           netPctChg mdEntryCode  \n",
      "mdEntryDateTime                                   \n",
      "2017-04-21 00:00:00+00:00        NaN         NaN  \n",
      "2017-04-21 00:00:01+00:00        NaN         NaN  \n",
      "2017-04-21 00:00:02+00:00        NaN         NaN  \n",
      "2017-04-21 00:00:03+00:00        NaN         NaN  \n",
      "2017-04-21 00:00:04+00:00        NaN         NaN  \n",
      "...                              ...         ...  \n",
      "2017-04-30 23:59:54+00:00        NaN         NaN  \n",
      "2017-04-30 23:59:55+00:00        NaN         NaN  \n",
      "2017-04-30 23:59:56+00:00        NaN         NaN  \n",
      "2017-04-30 23:59:57+00:00        NaN         NaN  \n",
      "2017-04-30 23:59:58+00:00        NaN         NaN  \n",
      "\n",
      "[864006 rows x 9 columns]\n"
     ]
    }
   ],
   "source": [
    "dat = myDatamine.load_dataset(\"CRYPTOCURRENCY\", download=True, limit=10, dataset_args={})\n",
    "print(dat)"
   ]
  },
  {
   "cell_type": "code",
   "execution_count": 210,
   "metadata": {},
   "outputs": [],
   "source": [
    "DTYPES = {'category': ('mdEntryCode', 'mdEntryType', 'mdUpdateAction',\n",
    "                       'symbol', 'openCloseSettlFlag'),\n",
    "          'int64': ('rptSeq',),\n",
    "          'float': ('netChgPrevDay', 'netPctChg', 'mdEntryPx'),\n",
    "          'date:%Y%m%d_%H:%M:%S.%f': 'mdEntryDateTime'}\n",
    "\n",
    "def read_raw_df(filename):\n",
    "    with gzip.open(filename, 'rt', encoding='utf-8') as f:\n",
    "        result = []\n",
    "        for line in f:\n",
    "            line = json.loads(line)\n",
    "            if 'mdEntries' in line:\n",
    "                result.append(line['mdEntries'][0])\n",
    "        result = pd.DataFrame(result)\n",
    "        result['mdEntryDateTime'] = result['mdEntryDate'] + '_' + result['mdEntryTime']\n",
    "        result = result.drop(['mdEntryDate', 'mdEntryTime'], axis=1)\n",
    "    return result\n",
    "    \n",
    "def process_raw_df(df, dtypes):\n",
    "    for dtype, cols in dtypes.items():\n",
    "        for col in ((cols,) if isinstance(cols, str) else cols):\n",
    "            if col in df:\n",
    "                if dtype.startswith('date'):\n",
    "                    format = None if dtype == 'date' else dtype[5:]\n",
    "                    df[col] = pd.to_datetime(df[col], format=format, utc=True, errors='ignore')\n",
    "                else:\n",
    "                    df[col] = df[col].astype(dtype, errors='ignore')\n",
    "    return df\n",
    "\n",
    "def load_df(filename, dtypes):\n",
    "    df = read_raw_df(filename)\n",
    "    df = process_raw_df(df, dtypes)\n",
    "    return df\n",
    "\n",
    "def partition_df(df):\n",
    "    dfs={}\n",
    "    symbols = df['symbol'].unique()\n",
    "    for symbol in symbols:\n",
    "        dfs[symbol] = df[df['symbol']==symbol]\n",
    "    return dfs\n",
    "\n",
    "def bounds_ok(df, hd_filename, key):\n",
    "    \"\"\" assumes df is in cme format and hd file contains key 'timestamps' \"\"\"\n",
    "    if hd_filename.is_file():\n",
    "#         start = pd.read_hdf(hd_filename, key=key, start=0, stop=1)['timestamps'].iloc[0]\n",
    "#         df_end = df['mdEntryDatetime'].iloc[-1].value\n",
    "        with pd.HDFStore(hd_filename, mode='r') as f:\n",
    "            keys = f.keys()\n",
    "        if key in keys:\n",
    "            df_start = df['mdEntryDateTime'].iloc[0].value\n",
    "            end = pd.read_hdf(hd_filename, key=key, start=-2, stop=-1)['timestamps'].iloc[0]\n",
    "            if not (df_start > end ):\n",
    "                return False\n",
    "    return True\n",
    "\n",
    "def save_to_hdf(df, hd_filename, key):\n",
    "    if not bounds_ok(df, hd_filename, key):\n",
    "        raise IndexError(\"Overlapped index\", df['mdEntryTime'].iloc[0])\n",
    "    _df = pd.DataFrame({'timestamps': df['mdEntryDateTime'].astype(int),\n",
    "                       'price': df['mdEntryPx']})\n",
    "    _df.to_hdf(hd_filename, key=key, mode='a', append=True, format='table')\n",
    "    \n",
    "def save_partitions_to_hdf(dfs, hd_filename, key):\n",
    "    for name, df in dfs.items():\n",
    "        save_to_hdf(df, hd_filename, key+'/'+name)\n",
    "    \n",
    "def load_from_hdf(hd_filename, key):\n",
    "    df = pd.read_hdf(hd_filename, key=key)\n",
    "    df['timestamps'] = pd.to_datetime(df['timestamps'])\n",
    "    return df\n",
    "    \n",
    "def cme_format_to_hdf(cme_filename, hd_filename, key):\n",
    "    dfs = partition_df(load_df(cme_filename, DTYPES))\n",
    "    save_partitions_to_hdf(dfs, hd_filename, key)"
   ]
  },
  {
   "cell_type": "code",
   "execution_count": 211,
   "metadata": {},
   "outputs": [],
   "source": [
    "def convert_all_to_hdf(files, hd_filename, key):\n",
    "    for file in tqdm(files):\n",
    "        cme_format_to_hdf(file, hd_filename, key)\n",
    "            "
   ]
  },
  {
   "cell_type": "code",
   "execution_count": 212,
   "metadata": {},
   "outputs": [
    {
     "name": "stdout",
     "output_type": "stream",
     "text": [
      "dict_keys(['BRTI', 'BRR'])\n"
     ]
    },
    {
     "data": {
      "text/html": [
       "<div>\n",
       "<style scoped>\n",
       "    .dataframe tbody tr th:only-of-type {\n",
       "        vertical-align: middle;\n",
       "    }\n",
       "\n",
       "    .dataframe tbody tr th {\n",
       "        vertical-align: top;\n",
       "    }\n",
       "\n",
       "    .dataframe thead th {\n",
       "        text-align: right;\n",
       "    }\n",
       "</style>\n",
       "<table border=\"1\" class=\"dataframe\">\n",
       "  <thead>\n",
       "    <tr style=\"text-align: right;\">\n",
       "      <th></th>\n",
       "      <th>symbol</th>\n",
       "      <th>rptSeq</th>\n",
       "      <th>mdEntryType</th>\n",
       "      <th>mdEntryPx</th>\n",
       "      <th>mdUpdateAction</th>\n",
       "      <th>openCloseSettlFlag</th>\n",
       "      <th>netChgPrevDay</th>\n",
       "      <th>netPctChg</th>\n",
       "      <th>mdEntryCode</th>\n",
       "      <th>mdEntryDateTime</th>\n",
       "    </tr>\n",
       "  </thead>\n",
       "  <tbody>\n",
       "    <tr>\n",
       "      <th>0</th>\n",
       "      <td>BRTI</td>\n",
       "      <td>16224820</td>\n",
       "      <td>INDEX_VALUE</td>\n",
       "      <td>1190.52</td>\n",
       "      <td>NEW</td>\n",
       "      <td>NaN</td>\n",
       "      <td>NaN</td>\n",
       "      <td>NaN</td>\n",
       "      <td>NaN</td>\n",
       "      <td>2017-04-07 00:00:00+00:00</td>\n",
       "    </tr>\n",
       "    <tr>\n",
       "      <th>1</th>\n",
       "      <td>BRTI</td>\n",
       "      <td>16224821</td>\n",
       "      <td>INDEX_VALUE</td>\n",
       "      <td>1190.52</td>\n",
       "      <td>NEW</td>\n",
       "      <td>NaN</td>\n",
       "      <td>NaN</td>\n",
       "      <td>NaN</td>\n",
       "      <td>NaN</td>\n",
       "      <td>2017-04-07 00:00:01+00:00</td>\n",
       "    </tr>\n",
       "    <tr>\n",
       "      <th>2</th>\n",
       "      <td>BRTI</td>\n",
       "      <td>16224822</td>\n",
       "      <td>INDEX_VALUE</td>\n",
       "      <td>1190.60</td>\n",
       "      <td>NEW</td>\n",
       "      <td>NaN</td>\n",
       "      <td>NaN</td>\n",
       "      <td>NaN</td>\n",
       "      <td>NaN</td>\n",
       "      <td>2017-04-07 00:00:02+00:00</td>\n",
       "    </tr>\n",
       "    <tr>\n",
       "      <th>3</th>\n",
       "      <td>BRTI</td>\n",
       "      <td>16224823</td>\n",
       "      <td>INDEX_VALUE</td>\n",
       "      <td>1190.53</td>\n",
       "      <td>NEW</td>\n",
       "      <td>NaN</td>\n",
       "      <td>NaN</td>\n",
       "      <td>NaN</td>\n",
       "      <td>NaN</td>\n",
       "      <td>2017-04-07 00:00:03+00:00</td>\n",
       "    </tr>\n",
       "    <tr>\n",
       "      <th>4</th>\n",
       "      <td>BRTI</td>\n",
       "      <td>16224824</td>\n",
       "      <td>INDEX_VALUE</td>\n",
       "      <td>1190.55</td>\n",
       "      <td>NEW</td>\n",
       "      <td>NaN</td>\n",
       "      <td>NaN</td>\n",
       "      <td>NaN</td>\n",
       "      <td>NaN</td>\n",
       "      <td>2017-04-07 00:00:04+00:00</td>\n",
       "    </tr>\n",
       "    <tr>\n",
       "      <th>...</th>\n",
       "      <td>...</td>\n",
       "      <td>...</td>\n",
       "      <td>...</td>\n",
       "      <td>...</td>\n",
       "      <td>...</td>\n",
       "      <td>...</td>\n",
       "      <td>...</td>\n",
       "      <td>...</td>\n",
       "      <td>...</td>\n",
       "      <td>...</td>\n",
       "    </tr>\n",
       "    <tr>\n",
       "      <th>86396</th>\n",
       "      <td>BRTI</td>\n",
       "      <td>16311215</td>\n",
       "      <td>INDEX_VALUE</td>\n",
       "      <td>1193.48</td>\n",
       "      <td>NEW</td>\n",
       "      <td>NaN</td>\n",
       "      <td>NaN</td>\n",
       "      <td>NaN</td>\n",
       "      <td>NaN</td>\n",
       "      <td>2017-04-07 23:59:55+00:00</td>\n",
       "    </tr>\n",
       "    <tr>\n",
       "      <th>86397</th>\n",
       "      <td>BRTI</td>\n",
       "      <td>16311216</td>\n",
       "      <td>INDEX_VALUE</td>\n",
       "      <td>1193.45</td>\n",
       "      <td>NEW</td>\n",
       "      <td>NaN</td>\n",
       "      <td>NaN</td>\n",
       "      <td>NaN</td>\n",
       "      <td>NaN</td>\n",
       "      <td>2017-04-07 23:59:56+00:00</td>\n",
       "    </tr>\n",
       "    <tr>\n",
       "      <th>86398</th>\n",
       "      <td>BRTI</td>\n",
       "      <td>16311217</td>\n",
       "      <td>INDEX_VALUE</td>\n",
       "      <td>1193.38</td>\n",
       "      <td>NEW</td>\n",
       "      <td>NaN</td>\n",
       "      <td>NaN</td>\n",
       "      <td>NaN</td>\n",
       "      <td>NaN</td>\n",
       "      <td>2017-04-07 23:59:57+00:00</td>\n",
       "    </tr>\n",
       "    <tr>\n",
       "      <th>86399</th>\n",
       "      <td>BRTI</td>\n",
       "      <td>16311218</td>\n",
       "      <td>INDEX_VALUE</td>\n",
       "      <td>1193.38</td>\n",
       "      <td>NEW</td>\n",
       "      <td>NaN</td>\n",
       "      <td>NaN</td>\n",
       "      <td>NaN</td>\n",
       "      <td>NaN</td>\n",
       "      <td>2017-04-07 23:59:58+00:00</td>\n",
       "    </tr>\n",
       "    <tr>\n",
       "      <th>86400</th>\n",
       "      <td>BRTI</td>\n",
       "      <td>16311219</td>\n",
       "      <td>INDEX_VALUE</td>\n",
       "      <td>1193.38</td>\n",
       "      <td>NEW</td>\n",
       "      <td>NaN</td>\n",
       "      <td>NaN</td>\n",
       "      <td>NaN</td>\n",
       "      <td>NaN</td>\n",
       "      <td>2017-04-07 23:59:59+00:00</td>\n",
       "    </tr>\n",
       "  </tbody>\n",
       "</table>\n",
       "<p>86400 rows × 10 columns</p>\n",
       "</div>"
      ],
      "text/plain": [
       "      symbol    rptSeq  mdEntryType  mdEntryPx mdUpdateAction  \\\n",
       "0       BRTI  16224820  INDEX_VALUE    1190.52            NEW   \n",
       "1       BRTI  16224821  INDEX_VALUE    1190.52            NEW   \n",
       "2       BRTI  16224822  INDEX_VALUE    1190.60            NEW   \n",
       "3       BRTI  16224823  INDEX_VALUE    1190.53            NEW   \n",
       "4       BRTI  16224824  INDEX_VALUE    1190.55            NEW   \n",
       "...      ...       ...          ...        ...            ...   \n",
       "86396   BRTI  16311215  INDEX_VALUE    1193.48            NEW   \n",
       "86397   BRTI  16311216  INDEX_VALUE    1193.45            NEW   \n",
       "86398   BRTI  16311217  INDEX_VALUE    1193.38            NEW   \n",
       "86399   BRTI  16311218  INDEX_VALUE    1193.38            NEW   \n",
       "86400   BRTI  16311219  INDEX_VALUE    1193.38            NEW   \n",
       "\n",
       "      openCloseSettlFlag  netChgPrevDay  netPctChg mdEntryCode  \\\n",
       "0                    NaN            NaN        NaN         NaN   \n",
       "1                    NaN            NaN        NaN         NaN   \n",
       "2                    NaN            NaN        NaN         NaN   \n",
       "3                    NaN            NaN        NaN         NaN   \n",
       "4                    NaN            NaN        NaN         NaN   \n",
       "...                  ...            ...        ...         ...   \n",
       "86396                NaN            NaN        NaN         NaN   \n",
       "86397                NaN            NaN        NaN         NaN   \n",
       "86398                NaN            NaN        NaN         NaN   \n",
       "86399                NaN            NaN        NaN         NaN   \n",
       "86400                NaN            NaN        NaN         NaN   \n",
       "\n",
       "                mdEntryDateTime  \n",
       "0     2017-04-07 00:00:00+00:00  \n",
       "1     2017-04-07 00:00:01+00:00  \n",
       "2     2017-04-07 00:00:02+00:00  \n",
       "3     2017-04-07 00:00:03+00:00  \n",
       "4     2017-04-07 00:00:04+00:00  \n",
       "...                         ...  \n",
       "86396 2017-04-07 23:59:55+00:00  \n",
       "86397 2017-04-07 23:59:56+00:00  \n",
       "86398 2017-04-07 23:59:57+00:00  \n",
       "86399 2017-04-07 23:59:58+00:00  \n",
       "86400 2017-04-07 23:59:59+00:00  \n",
       "\n",
       "[86400 rows x 10 columns]"
      ]
     },
     "execution_count": 212,
     "metadata": {},
     "output_type": "execute_result"
    }
   ],
   "source": [
    "df = load_df(files[0], DTYPES)\n",
    "dfs = partition_df(df)\n",
    "print(dfs.keys())\n",
    "dfs['BRTI']"
   ]
  },
  {
   "cell_type": "code",
   "execution_count": 213,
   "metadata": {},
   "outputs": [
    {
     "data": {
      "text/plain": [
       "1491523200000000000"
      ]
     },
     "execution_count": 213,
     "metadata": {},
     "output_type": "execute_result"
    }
   ],
   "source": [
    "ts = dfs['BRTI'].iloc[0].mdEntryDateTime\n",
    "ts.value"
   ]
  },
  {
   "cell_type": "code",
   "execution_count": 214,
   "metadata": {},
   "outputs": [],
   "source": [
    "savepath = Path(\"/media/hemu/Data/Markets/Crypto/CME/crypto.hdf5\")"
   ]
  },
  {
   "cell_type": "code",
   "execution_count": 215,
   "metadata": {},
   "outputs": [],
   "source": [
    "# Test single file\n",
    "# cme_format_to_hdf(files[0], savepath, 'min')"
   ]
  },
  {
   "cell_type": "code",
   "execution_count": 216,
   "metadata": {},
   "outputs": [],
   "source": [
    "files = list(path.iterdir())\n",
    "files.sort()\n",
    "done = 988"
   ]
  },
  {
   "cell_type": "code",
   "execution_count": 217,
   "metadata": {},
   "outputs": [
    {
     "ename": "TypeError",
     "evalue": "to_hdf() missing 2 required positional arguments: 'path_or_buf' and 'key'",
     "output_type": "error",
     "traceback": [
      "\u001b[0;31m---------------------------------------------------------------------------\u001b[0m",
      "\u001b[0;31mTypeError\u001b[0m                                 Traceback (most recent call last)",
      "\u001b[0;32m<ipython-input-217-6693e0072f53>\u001b[0m in \u001b[0;36m<module>\u001b[0;34m\u001b[0m\n\u001b[0;32m----> 1\u001b[0;31m \u001b[0mdf\u001b[0m\u001b[0;34m.\u001b[0m\u001b[0mto_hdf\u001b[0m\u001b[0;34m(\u001b[0m\u001b[0;34m)\u001b[0m\u001b[0;34m\u001b[0m\u001b[0;34m\u001b[0m\u001b[0m\n\u001b[0m",
      "\u001b[0;31mTypeError\u001b[0m: to_hdf() missing 2 required positional arguments: 'path_or_buf' and 'key'"
     ]
    }
   ],
   "source": [
    "df.to_hdf()"
   ]
  },
  {
   "cell_type": "code",
   "execution_count": 221,
   "metadata": {},
   "outputs": [
    {
     "data": {
      "application/vnd.jupyter.widget-view+json": {
       "model_id": "590df9f4d83f41608a52dc95b8d95ea3",
       "version_major": 2,
       "version_minor": 0
      },
      "text/plain": [
       "HBox(children=(HTML(value=''), FloatProgress(value=0.0, max=40.0), HTML(value='')))"
      ]
     },
     "metadata": {},
     "output_type": "display_data"
    },
    {
     "name": "stdout",
     "output_type": "stream",
     "text": [
      "\n"
     ]
    }
   ],
   "source": [
    "convert_all_to_hdf(files[10:50], savepath, 'min')"
   ]
  },
  {
   "cell_type": "code",
   "execution_count": 222,
   "metadata": {},
   "outputs": [
    {
     "name": "stdout",
     "output_type": "stream",
     "text": [
      "['/min/BRR', '/min/BRTI']\n"
     ]
    }
   ],
   "source": [
    "with pd.HDFStore(savepath, mode='r') as f:\n",
    "    print(f.keys())"
   ]
  },
  {
   "cell_type": "code",
   "execution_count": 225,
   "metadata": {},
   "outputs": [
    {
     "data": {
      "text/html": [
       "<div>\n",
       "<style scoped>\n",
       "    .dataframe tbody tr th:only-of-type {\n",
       "        vertical-align: middle;\n",
       "    }\n",
       "\n",
       "    .dataframe tbody tr th {\n",
       "        vertical-align: top;\n",
       "    }\n",
       "\n",
       "    .dataframe thead th {\n",
       "        text-align: right;\n",
       "    }\n",
       "</style>\n",
       "<table border=\"1\" class=\"dataframe\">\n",
       "  <thead>\n",
       "    <tr style=\"text-align: right;\">\n",
       "      <th></th>\n",
       "      <th>timestamps</th>\n",
       "      <th>price</th>\n",
       "    </tr>\n",
       "  </thead>\n",
       "  <tbody>\n",
       "    <tr>\n",
       "      <th>0</th>\n",
       "      <td>2017-04-07 00:00:00</td>\n",
       "      <td>1190.52</td>\n",
       "    </tr>\n",
       "    <tr>\n",
       "      <th>1</th>\n",
       "      <td>2017-04-07 00:00:01</td>\n",
       "      <td>1190.52</td>\n",
       "    </tr>\n",
       "    <tr>\n",
       "      <th>2</th>\n",
       "      <td>2017-04-07 00:00:02</td>\n",
       "      <td>1190.60</td>\n",
       "    </tr>\n",
       "    <tr>\n",
       "      <th>3</th>\n",
       "      <td>2017-04-07 00:00:03</td>\n",
       "      <td>1190.53</td>\n",
       "    </tr>\n",
       "    <tr>\n",
       "      <th>4</th>\n",
       "      <td>2017-04-07 00:00:04</td>\n",
       "      <td>1190.55</td>\n",
       "    </tr>\n",
       "    <tr>\n",
       "      <th>...</th>\n",
       "      <td>...</td>\n",
       "      <td>...</td>\n",
       "    </tr>\n",
       "    <tr>\n",
       "      <th>4321029</th>\n",
       "      <td>2017-05-26 23:59:55</td>\n",
       "      <td>2250.84</td>\n",
       "    </tr>\n",
       "    <tr>\n",
       "      <th>4321030</th>\n",
       "      <td>2017-05-26 23:59:56</td>\n",
       "      <td>2250.84</td>\n",
       "    </tr>\n",
       "    <tr>\n",
       "      <th>4321031</th>\n",
       "      <td>2017-05-26 23:59:57</td>\n",
       "      <td>2251.87</td>\n",
       "    </tr>\n",
       "    <tr>\n",
       "      <th>4321032</th>\n",
       "      <td>2017-05-26 23:59:58</td>\n",
       "      <td>2251.60</td>\n",
       "    </tr>\n",
       "    <tr>\n",
       "      <th>4321033</th>\n",
       "      <td>2017-05-26 23:59:59</td>\n",
       "      <td>2250.54</td>\n",
       "    </tr>\n",
       "  </tbody>\n",
       "</table>\n",
       "<p>4321034 rows × 2 columns</p>\n",
       "</div>"
      ],
      "text/plain": [
       "                 timestamps    price\n",
       "0       2017-04-07 00:00:00  1190.52\n",
       "1       2017-04-07 00:00:01  1190.52\n",
       "2       2017-04-07 00:00:02  1190.60\n",
       "3       2017-04-07 00:00:03  1190.53\n",
       "4       2017-04-07 00:00:04  1190.55\n",
       "...                     ...      ...\n",
       "4321029 2017-05-26 23:59:55  2250.84\n",
       "4321030 2017-05-26 23:59:56  2250.84\n",
       "4321031 2017-05-26 23:59:57  2251.87\n",
       "4321032 2017-05-26 23:59:58  2251.60\n",
       "4321033 2017-05-26 23:59:59  2250.54\n",
       "\n",
       "[4321034 rows x 2 columns]"
      ]
     },
     "execution_count": 225,
     "metadata": {},
     "output_type": "execute_result"
    }
   ],
   "source": [
    "df = load_from_hdf(savepath, 'min/BRTI')\n",
    "df.reset_index(drop=True)"
   ]
  },
  {
   "cell_type": "code",
   "execution_count": 62,
   "metadata": {},
   "outputs": [],
   "source": [
    "base_url = 'https://datamine.cmegroup.com/cme/api/v1'\n",
    "dataset='CRYPTOCURRENCY'\n",
    "file = \"20210109-CRYPTOCURRENCY\"\n",
    "url = f\"{base_url}/list?dataset={dataset}\"\n",
    "\n",
    "# url = f\"{base_url}/list?fid={file}\"\n",
    "user=\"API_HEMU_CRYPTO_2021\"\n",
    "password=\"Yamankalyan1\"\n",
    "data = {\n",
    "#     \"user\": f\"{user}:{password}\"\n",
    "    \"user\": user,\n",
    "    \"password\": password\n",
    "}\n",
    "url = 'https://datamine.cmegroup.com/cme/api/v1/download?fid=20181203-CRYPTOCURRENCY'"
   ]
  },
  {
   "cell_type": "code",
   "execution_count": 63,
   "metadata": {},
   "outputs": [],
   "source": [
    "resp = requests.post(url, data=data)"
   ]
  },
  {
   "cell_type": "code",
   "execution_count": 64,
   "metadata": {},
   "outputs": [
    {
     "name": "stdout",
     "output_type": "stream",
     "text": [
      "{\"error\":\"unauthorized\",\"error_description\":\"Full authentication is required to access this resource\"}\n",
      "{'error': 'unauthorized', 'error_description': 'Full authentication is required to access this resource'}\n"
     ]
    }
   ],
   "source": [
    "print(resp.text)\n",
    "print(resp.json())"
   ]
  },
  {
   "cell_type": "code",
   "execution_count": null,
   "metadata": {},
   "outputs": [],
   "source": []
  }
 ],
 "metadata": {
  "kernelspec": {
   "display_name": "Python 3.7.7 64-bit ('madigan')",
   "language": "python",
   "name": "python37764bitmadiganc2cb1639caeb405b9f43012997461129"
  },
  "language_info": {
   "codemirror_mode": {
    "name": "ipython",
    "version": 3
   },
   "file_extension": ".py",
   "mimetype": "text/x-python",
   "name": "python",
   "nbconvert_exporter": "python",
   "pygments_lexer": "ipython3",
   "version": "3.7.7"
  }
 },
 "nbformat": 4,
 "nbformat_minor": 4
}
