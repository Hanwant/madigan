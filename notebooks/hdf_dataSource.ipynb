{
 "cells": [
  {
   "cell_type": "code",
   "execution_count": 1,
   "metadata": {},
   "outputs": [],
   "source": [
    "from madigan.environments import make_env\n",
    "from madigan.utils.preprocessor import StackerDiscrete\n",
    "from madigan.utils.config import make_config\n",
    "from madigan.environments.cpp import HDFSourceSingle\n",
    "from madigan.utils.data import State\n",
    "\n",
    "import numpy as np\n",
    "import pandas as pd\n",
    "import matplotlib.pyplot as plt"
   ]
  },
  {
   "cell_type": "code",
   "execution_count": 2,
   "metadata": {},
   "outputs": [],
   "source": [
    "config_hdf = make_config(\"HDF\",\n",
    "                        data_source_type=\"HDFSourceSingle\",\n",
    "                        data_source_config=dict(filepath=\"/media/hemu/Data/Markets/Crypto/CME/brti_rolled.hdf5\",\n",
    "                                                group_key=\"min\",\n",
    "                                                price_key=\"price\",\n",
    "                                                feature_key=\"features\",\n",
    "                                                timestamp_key=\"timestamps\",\n",
    "                                                cache_size=1000000,\n",
    "                                                )\n",
    "                        )\n",
    "env_hdf = make_env(config_hdf)"
   ]
  },
  {
   "cell_type": "code",
   "execution_count": 3,
   "metadata": {},
   "outputs": [
    {
     "data": {
      "text/plain": [
       "array([7.08015275, 7.11940098, 7.39767795, 7.52682526, 7.80575576,\n",
       "       7.77845433, 7.85046202, 7.77816122, 7.83726229, 8.11680517,\n",
       "       8.32643696, 8.44502887, 8.29252348, 8.3437846 , 8.58991005,\n",
       "       8.78809628, 8.87206511, 9.28085568, 9.70537253, 9.58926573,\n",
       "       9.58211701, 9.35204217, 8.9895478 , 9.27180041, 9.19740811,\n",
       "       9.09448835, 8.8284282 , 8.98572574, 9.13237775, 9.02306577,\n",
       "       8.93279475, 8.77508594, 8.71509442, 8.75408816, 9.01710265,\n",
       "       8.74770632, 8.76730579, 8.84249036, 8.751764  , 8.77675353,\n",
       "       8.76948226, 8.74171979, 8.7465828 , 8.25419072, 8.11330085,\n",
       "       8.23375543, 8.29806407, 8.18336386, 8.1363807 , 8.26689425])"
      ]
     },
     "execution_count": 3,
     "metadata": {},
     "output_type": "execute_result"
    }
   ],
   "source": [
    "filepath=\"/media/hemu/Data/Markets/Crypto/CME/brti_rolled.hdf5\"\n",
    "group_key=\"min\"\n",
    "price_key=\"price\"\n",
    "feature_key=\"features\"\n",
    "timestamp_key=\"timestamps\"\n",
    "cache_size=1000000\n",
    "datasource = HDFSourceSingle(filepath, group_key, price_key, feature_key,\n",
    "                             timestamp_key, cache_size)\n",
    "datasource.getData()"
   ]
  },
  {
   "cell_type": "code",
   "execution_count": 95,
   "metadata": {},
   "outputs": [
    {
     "data": {
      "text/plain": [
       "array([0.00091901, 0.01077186, 0.04691002, 0.02517641, 0.05644531,\n",
       "       0.05767602, 0.04538376, 0.0416655 , 0.05376956, 0.07475056,\n",
       "       0.03516998, 0.03786669, 0.05850606, 0.0214578 , 0.04753885,\n",
       "       0.0385255 , 0.06269772, 0.06886579, 0.06050469, 0.06877849,\n",
       "       0.06393138, 0.05704875, 0.11118566, 0.05160527, 0.0418801 ,\n",
       "       0.04644944, 0.04653142, 0.04931452, 0.01565121, 0.03244231,\n",
       "       0.01735141, 0.07596886, 0.03829362, 0.0214671 , 0.04282859,\n",
       "       0.0559425 , 0.01627639, 0.02289652, 0.01533859, 0.01108597,\n",
       "       0.01910839, 0.01018933, 0.01097311, 0.08188089, 0.05027935,\n",
       "       0.03828315, 0.02485575, 0.01574638, 0.00491578, 0.02563261])"
      ]
     },
     "execution_count": 95,
     "metadata": {},
     "output_type": "execute_result"
    }
   ],
   "source": [
    "datasource.getData()"
   ]
  },
  {
   "cell_type": "code",
   "execution_count": null,
   "metadata": {},
   "outputs": [],
   "source": [
    "window_hdf = StackerDiscrete(1280, env_hdf.nAssets)\n",
    "window_hdf.initialize_history(env_hdf)"
   ]
  },
  {
   "cell_type": "code",
   "execution_count": 5,
   "metadata": {},
   "outputs": [],
   "source": [
    "# window_hdf.reset_state()\n",
    "# class EnvHDF:\n",
    "#     def __init__(self, dsource):\n",
    "#         self.dsource = dsource\n",
    "#     def step(self):\n",
    "#         return State(self.dsource.getData(), 1, self.dsource.currentTime), 0., 1, 1\n",
    "# env_hdf = EnvHDF(datasource)"
   ]
  },
  {
   "cell_type": "code",
   "execution_count": 6,
   "metadata": {},
   "outputs": [
    {
     "ename": "TypeError",
     "evalue": "__init__() missing 1 required positional argument: 'n_assets'",
     "output_type": "error",
     "traceback": [
      "\u001b[0;31m---------------------------------------------------------------------------\u001b[0m",
      "\u001b[0;31mTypeError\u001b[0m                                 Traceback (most recent call last)",
      "\u001b[0;32m<ipython-input-6-0b3302ddf6ea>\u001b[0m in \u001b[0;36m<module>\u001b[0;34m\u001b[0m\n\u001b[1;32m      1\u001b[0m \u001b[0;31m# window_trend_ou.reset_state()\u001b[0m\u001b[0;34m\u001b[0m\u001b[0;34m\u001b[0m\u001b[0;34m\u001b[0m\u001b[0m\n\u001b[1;32m      2\u001b[0m \u001b[0;31m# window_trend_ou.initialize_history(env_trend_ou)\u001b[0m\u001b[0;34m\u001b[0m\u001b[0;34m\u001b[0m\u001b[0;34m\u001b[0m\u001b[0m\n\u001b[0;32m----> 3\u001b[0;31m \u001b[0mwindow_hdf\u001b[0m \u001b[0;34m=\u001b[0m \u001b[0mStackerDiscrete\u001b[0m\u001b[0;34m(\u001b[0m\u001b[0;36m1280\u001b[0m\u001b[0;34m)\u001b[0m\u001b[0;34m\u001b[0m\u001b[0;34m\u001b[0m\u001b[0m\n\u001b[0m\u001b[1;32m      4\u001b[0m \u001b[0mwindow_hdf\u001b[0m\u001b[0;34m.\u001b[0m\u001b[0minitialize_history\u001b[0m\u001b[0;34m(\u001b[0m\u001b[0menv_hdf\u001b[0m\u001b[0;34m)\u001b[0m\u001b[0;34m\u001b[0m\u001b[0;34m\u001b[0m\u001b[0m\n\u001b[1;32m      5\u001b[0m \u001b[0mfig\u001b[0m\u001b[0;34m,\u001b[0m \u001b[0max\u001b[0m \u001b[0;34m=\u001b[0m \u001b[0mplt\u001b[0m\u001b[0;34m.\u001b[0m\u001b[0msubplots\u001b[0m\u001b[0;34m(\u001b[0m\u001b[0mfigsize\u001b[0m\u001b[0;34m=\u001b[0m\u001b[0;34m(\u001b[0m\u001b[0;36m12\u001b[0m\u001b[0;34m,\u001b[0m \u001b[0;36m6\u001b[0m\u001b[0;34m)\u001b[0m\u001b[0;34m)\u001b[0m\u001b[0;34m\u001b[0m\u001b[0;34m\u001b[0m\u001b[0m\n",
      "\u001b[0;31mTypeError\u001b[0m: __init__() missing 1 required positional argument: 'n_assets'"
     ]
    }
   ],
   "source": [
    "# window_trend_ou.reset_state()\n",
    "# window_trend_ou.initialize_history(env_trend_ou)\n",
    "fig, ax = plt.subplots(figsize=(12, 6))\n",
    "# ax[0].plot(window_trend_ou.current_data().price, label='trend_ou')\n",
    "# ax[0].legend()\n",
    "ax[0].plot(pd.to_datetime(window_hdf.current_data().timestamp), window_hdf.current_data().price, label=main_key)\n",
    "ax[0].legend()"
   ]
  },
  {
   "cell_type": "code",
   "execution_count": 13,
   "metadata": {},
   "outputs": [
    {
     "data": {
      "text/plain": [
       "State(price=array([[1.],\n",
       "       [1.],\n",
       "       [1.],\n",
       "       ...,\n",
       "       [1.],\n",
       "       [1.],\n",
       "       [1.]]), portfolio=array([[1., 0.],\n",
       "       [1., 0.],\n",
       "       [1., 0.],\n",
       "       ...,\n",
       "       [1., 0.],\n",
       "       [1., 0.],\n",
       "       [1., 0.]]), timestamp=array([3842, 3843, 3844, ..., 5119, 5120, 5121]))"
      ]
     },
     "execution_count": 13,
     "metadata": {},
     "output_type": "execute_result"
    }
   ],
   "source": [
    "window_hdf.current_data()"
   ]
  },
  {
   "cell_type": "code",
   "execution_count": null,
   "metadata": {},
   "outputs": [],
   "source": []
  }
 ],
 "metadata": {
  "kernelspec": {
   "display_name": "Python 3.7.7 64-bit ('madigan')",
   "language": "python",
   "name": "python37764bitmadiganc2cb1639caeb405b9f43012997461129"
  },
  "language_info": {
   "codemirror_mode": {
    "name": "ipython",
    "version": 3
   },
   "file_extension": ".py",
   "mimetype": "text/x-python",
   "name": "python",
   "nbconvert_exporter": "python",
   "pygments_lexer": "ipython3",
   "version": "3.7.7"
  }
 },
 "nbformat": 4,
 "nbformat_minor": 4
}
