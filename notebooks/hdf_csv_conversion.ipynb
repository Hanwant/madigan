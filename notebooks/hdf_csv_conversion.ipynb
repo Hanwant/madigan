{
 "cells": [
  {
   "cell_type": "code",
   "execution_count": 1,
   "metadata": {},
   "outputs": [],
   "source": [
    "from pathlib import Path\n",
    "import pandas as pd\n",
    "import h5py\n",
    "\n",
    "from madigan.environments import make_env\n",
    "from madigan.utils.preprocessor import StackerDiscrete\n",
    "from madigan.utils.config import make_config\n",
    "\n",
    "import numpy as np\n",
    "import matplotlib.pyplot as plt"
   ]
  },
  {
   "cell_type": "code",
   "execution_count": 2,
   "metadata": {},
   "outputs": [],
   "source": [
    "def read_and_parse_truefx(filepath):\n",
    "    df = pd.read_csv(filepath, header=None, parse_dates=True)\n",
    "    df.columns = ('asset', 'timestamp', 'bid', 'ask')\n",
    "    df['timestamp'] = pd.to_datetime(df['timestamp'])\n",
    "    return df.drop('asset', axis=1).set_index('timestamp')"
   ]
  },
  {
   "cell_type": "code",
   "execution_count": 3,
   "metadata": {},
   "outputs": [],
   "source": [
    "def truefx_to_hdf(df, filepath, main_key):\n",
    "    with h5py.File(filepath, 'w') as f:\n",
    "        grp = f.create_group(main_key)\n",
    "        for col in df.columns:\n",
    "            grp.create_dataset(col, data=df[col])\n",
    "        if isinstance(df.index, pd.DatetimeIndex):\n",
    "            grp.create_dataset('timestamp', data=df.index.values.astype(np.uint64))\n",
    "    \n",
    "def truefx_to_hdf_midprice(df, filepath, main_key):\n",
    "    with h5py.File(filepath, 'w') as f:\n",
    "        grp = f.create_group(main_key)\n",
    "        midprice = df[['ask', 'bid']].mean(axis=1)\n",
    "#         f.create_dataset(main_key+'/'+'midprice', data=midprice)\n",
    "        grp.create_dataset('midprice', data=midprice)\n",
    "        if isinstance(df.index, pd.DatetimeIndex):\n",
    "#             f.create_dataset(main_key+'/'+'timestamp', data=df.index.values.astype(np.uint64))\n",
    "            grp.create_dataset('timestamp', data=df.index.values.astype(np.uint64))"
   ]
  },
  {
   "cell_type": "code",
   "execution_count": 4,
   "metadata": {},
   "outputs": [],
   "source": [
    "def read_and_parse_hdf(filepath, main_key):\n",
    "    df = pd.DataFrame()\n",
    "    with h5py.File(filepath, 'r') as f:\n",
    "        dset = f[main_key]\n",
    "        for col in dset.keys():\n",
    "            print(col)\n",
    "            df[col] = dset[col][:]\n",
    "    if 'timestamp' in df.columns:\n",
    "        df['timestamp'] = pd.to_datetime(df['timestamp'])\n",
    "        df = df.set_index('timestamp')\n",
    "    return df\n",
    "        "
   ]
  },
  {
   "cell_type": "code",
   "execution_count": 8,
   "metadata": {},
   "outputs": [
    {
     "name": "stdout",
     "output_type": "stream",
     "text": [
      "len:  751642\n"
     ]
    },
    {
     "data": {
      "text/html": [
       "<div>\n",
       "<style scoped>\n",
       "    .dataframe tbody tr th:only-of-type {\n",
       "        vertical-align: middle;\n",
       "    }\n",
       "\n",
       "    .dataframe tbody tr th {\n",
       "        vertical-align: top;\n",
       "    }\n",
       "\n",
       "    .dataframe thead th {\n",
       "        text-align: right;\n",
       "    }\n",
       "</style>\n",
       "<table border=\"1\" class=\"dataframe\">\n",
       "  <thead>\n",
       "    <tr style=\"text-align: right;\">\n",
       "      <th></th>\n",
       "      <th>bid</th>\n",
       "      <th>ask</th>\n",
       "    </tr>\n",
       "    <tr>\n",
       "      <th>timestamp</th>\n",
       "      <th></th>\n",
       "      <th></th>\n",
       "    </tr>\n",
       "  </thead>\n",
       "  <tbody>\n",
       "    <tr>\n",
       "      <th>2009-05-01 00:00:00</th>\n",
       "      <td>1.28612</td>\n",
       "      <td>1.28698</td>\n",
       "    </tr>\n",
       "    <tr>\n",
       "      <th>2009-05-01 00:05:00</th>\n",
       "      <td>1.28591</td>\n",
       "      <td>1.28675</td>\n",
       "    </tr>\n",
       "    <tr>\n",
       "      <th>2009-05-01 00:10:00</th>\n",
       "      <td>1.28539</td>\n",
       "      <td>1.28604</td>\n",
       "    </tr>\n",
       "    <tr>\n",
       "      <th>2009-05-01 00:15:00</th>\n",
       "      <td>1.28569</td>\n",
       "      <td>1.28674</td>\n",
       "    </tr>\n",
       "    <tr>\n",
       "      <th>2009-05-01 00:20:00</th>\n",
       "      <td>1.28679</td>\n",
       "      <td>1.28779</td>\n",
       "    </tr>\n",
       "    <tr>\n",
       "      <th>...</th>\n",
       "      <td>...</td>\n",
       "      <td>...</td>\n",
       "    </tr>\n",
       "    <tr>\n",
       "      <th>2019-09-30 23:35:00</th>\n",
       "      <td>1.07799</td>\n",
       "      <td>1.07818</td>\n",
       "    </tr>\n",
       "    <tr>\n",
       "      <th>2019-09-30 23:40:00</th>\n",
       "      <td>1.07814</td>\n",
       "      <td>1.07830</td>\n",
       "    </tr>\n",
       "    <tr>\n",
       "      <th>2019-09-30 23:45:00</th>\n",
       "      <td>1.07810</td>\n",
       "      <td>1.07825</td>\n",
       "    </tr>\n",
       "    <tr>\n",
       "      <th>2019-09-30 23:50:00</th>\n",
       "      <td>1.07793</td>\n",
       "      <td>1.07811</td>\n",
       "    </tr>\n",
       "    <tr>\n",
       "      <th>2019-09-30 23:55:00</th>\n",
       "      <td>1.07798</td>\n",
       "      <td>1.07816</td>\n",
       "    </tr>\n",
       "  </tbody>\n",
       "</table>\n",
       "<p>751642 rows × 2 columns</p>\n",
       "</div>"
      ],
      "text/plain": [
       "                         bid      ask\n",
       "timestamp                            \n",
       "2009-05-01 00:00:00  1.28612  1.28698\n",
       "2009-05-01 00:05:00  1.28591  1.28675\n",
       "2009-05-01 00:10:00  1.28539  1.28604\n",
       "2009-05-01 00:15:00  1.28569  1.28674\n",
       "2009-05-01 00:20:00  1.28679  1.28779\n",
       "...                      ...      ...\n",
       "2019-09-30 23:35:00  1.07799  1.07818\n",
       "2019-09-30 23:40:00  1.07814  1.07830\n",
       "2019-09-30 23:45:00  1.07810  1.07825\n",
       "2019-09-30 23:50:00  1.07793  1.07811\n",
       "2019-09-30 23:55:00  1.07798  1.07816\n",
       "\n",
       "[751642 rows x 2 columns]"
      ]
     },
     "execution_count": 8,
     "metadata": {},
     "output_type": "execute_result"
    }
   ],
   "source": [
    "from tqdm.notebook import tqdm\n",
    "\n",
    "csvpath = Path(\"/media/hemu/Data/Markets/FX/truefx/AUDNZD-zip\")\n",
    "hdfpath = Path(\"/media/hemu/Data/Markets/FX/working_data_aud_nzd.h5\")\n",
    "resample_timeframe = '5min'\n",
    "\n",
    "files = list(csvpath.iterdir())\n",
    "print(len(files))\n",
    "\n",
    "df = []\n",
    "for file in tqdm(files[:]):\n",
    "    df.append(read_and_parse_truefx(file).resample(resample_timeframe).last().dropna())\n",
    "df = pd.concat(df).sort_index()\n",
    "\n",
    "print('len: ', len(df))\n",
    "df"
   ]
  },
  {
   "cell_type": "code",
   "execution_count": 10,
   "metadata": {},
   "outputs": [
    {
     "name": "stdout",
     "output_type": "stream",
     "text": [
      "midprice\n",
      "timestamp\n",
      "751642\n"
     ]
    },
    {
     "data": {
      "text/html": [
       "<div>\n",
       "<style scoped>\n",
       "    .dataframe tbody tr th:only-of-type {\n",
       "        vertical-align: middle;\n",
       "    }\n",
       "\n",
       "    .dataframe tbody tr th {\n",
       "        vertical-align: top;\n",
       "    }\n",
       "\n",
       "    .dataframe thead th {\n",
       "        text-align: right;\n",
       "    }\n",
       "</style>\n",
       "<table border=\"1\" class=\"dataframe\">\n",
       "  <thead>\n",
       "    <tr style=\"text-align: right;\">\n",
       "      <th></th>\n",
       "      <th>midprice</th>\n",
       "    </tr>\n",
       "    <tr>\n",
       "      <th>timestamp</th>\n",
       "      <th></th>\n",
       "    </tr>\n",
       "  </thead>\n",
       "  <tbody>\n",
       "    <tr>\n",
       "      <th>2009-05-01 00:00:00</th>\n",
       "      <td>1.286550</td>\n",
       "    </tr>\n",
       "    <tr>\n",
       "      <th>2009-05-01 00:05:00</th>\n",
       "      <td>1.286330</td>\n",
       "    </tr>\n",
       "    <tr>\n",
       "      <th>2009-05-01 00:10:00</th>\n",
       "      <td>1.285715</td>\n",
       "    </tr>\n",
       "    <tr>\n",
       "      <th>2009-05-01 00:15:00</th>\n",
       "      <td>1.286215</td>\n",
       "    </tr>\n",
       "    <tr>\n",
       "      <th>2009-05-01 00:20:00</th>\n",
       "      <td>1.287290</td>\n",
       "    </tr>\n",
       "    <tr>\n",
       "      <th>...</th>\n",
       "      <td>...</td>\n",
       "    </tr>\n",
       "    <tr>\n",
       "      <th>2019-09-30 23:35:00</th>\n",
       "      <td>1.078085</td>\n",
       "    </tr>\n",
       "    <tr>\n",
       "      <th>2019-09-30 23:40:00</th>\n",
       "      <td>1.078220</td>\n",
       "    </tr>\n",
       "    <tr>\n",
       "      <th>2019-09-30 23:45:00</th>\n",
       "      <td>1.078175</td>\n",
       "    </tr>\n",
       "    <tr>\n",
       "      <th>2019-09-30 23:50:00</th>\n",
       "      <td>1.078020</td>\n",
       "    </tr>\n",
       "    <tr>\n",
       "      <th>2019-09-30 23:55:00</th>\n",
       "      <td>1.078070</td>\n",
       "    </tr>\n",
       "  </tbody>\n",
       "</table>\n",
       "<p>751642 rows × 1 columns</p>\n",
       "</div>"
      ],
      "text/plain": [
       "                     midprice\n",
       "timestamp                    \n",
       "2009-05-01 00:00:00  1.286550\n",
       "2009-05-01 00:05:00  1.286330\n",
       "2009-05-01 00:10:00  1.285715\n",
       "2009-05-01 00:15:00  1.286215\n",
       "2009-05-01 00:20:00  1.287290\n",
       "...                       ...\n",
       "2019-09-30 23:35:00  1.078085\n",
       "2019-09-30 23:40:00  1.078220\n",
       "2019-09-30 23:45:00  1.078175\n",
       "2019-09-30 23:50:00  1.078020\n",
       "2019-09-30 23:55:00  1.078070\n",
       "\n",
       "[751642 rows x 1 columns]"
      ]
     },
     "execution_count": 10,
     "metadata": {},
     "output_type": "execute_result"
    }
   ],
   "source": [
    "main_key = 'aud_nzd/10min'\n",
    "\n",
    "truefx_to_hdf_midprice(df, hdfpath, main_key)\n",
    "df = read_and_parse_hdf(hdfpath, main_key)\n",
    "print(len(df))\n",
    "df"
   ]
  },
  {
   "cell_type": "code",
   "execution_count": 11,
   "metadata": {},
   "outputs": [
    {
     "name": "stderr",
     "output_type": "stream",
     "text": [
      "/home/hemu/miniconda3/envs/madigan/lib/python3.7/site-packages/IPython/core/pylabtools.py:132: UserWarning: Creating legend with loc=\"best\" can be slow with large amounts of data.\n",
      "  fig.canvas.print_figure(bytes_io, **kw)\n"
     ]
    },
    {
     "data": {
      "image/png": "[encoded data removed]",
      "text/plain": [
       "<Figure size 432x288 with 2 Axes>"
      ]
     },
     "metadata": {
      "needs_background": "light"
     },
     "output_type": "display_data"
    }
   ],
   "source": [
    "%matplotlib inline\n",
    "\n",
    "fig, ax = plt.subplots(1, 2, sharex=True)\n",
    "ax[0].plot(df.sort_index()['midprice'], label='midprice')\n",
    "ax[1].plot(df.index, df.index.values, label='time')\n",
    "ax[0].legend()\n",
    "fig.autofmt_xdate()"
   ]
  },
  {
   "cell_type": "code",
   "execution_count": 16,
   "metadata": {
    "collapsed": true,
    "jupyter": {
     "outputs_hidden": true
    }
   },
   "outputs": [
    {
     "data": {
      "text/plain": [
       "[PosixPath('/media/hemu/Data/Markets/FX/truefx/AUDNZD-zip/AUDNZD-2009-11.zip'),\n",
       " PosixPath('/media/hemu/Data/Markets/FX/truefx/AUDNZD-zip/AUDNZD-2009-12.zip'),\n",
       " PosixPath('/media/hemu/Data/Markets/FX/truefx/AUDNZD-zip/AUDNZD-2010-01.zip'),\n",
       " PosixPath('/media/hemu/Data/Markets/FX/truefx/AUDNZD-zip/AUDNZD-2010-02.zip'),\n",
       " PosixPath('/media/hemu/Data/Markets/FX/truefx/AUDNZD-zip/AUDNZD-2010-03.zip'),\n",
       " PosixPath('/media/hemu/Data/Markets/FX/truefx/AUDNZD-zip/AUDNZD-2010-04.zip'),\n",
       " PosixPath('/media/hemu/Data/Markets/FX/truefx/AUDNZD-zip/AUDNZD-2010-05.zip'),\n",
       " PosixPath('/media/hemu/Data/Markets/FX/truefx/AUDNZD-zip/AUDNZD-2010-06.zip'),\n",
       " PosixPath('/media/hemu/Data/Markets/FX/truefx/AUDNZD-zip/AUDNZD-2010-07.zip'),\n",
       " PosixPath('/media/hemu/Data/Markets/FX/truefx/AUDNZD-zip/AUDNZD-2010-08.zip'),\n",
       " PosixPath('/media/hemu/Data/Markets/FX/truefx/AUDNZD-zip/AUDNZD-2010-09.zip'),\n",
       " PosixPath('/media/hemu/Data/Markets/FX/truefx/AUDNZD-zip/AUDNZD-2010-10.zip'),\n",
       " PosixPath('/media/hemu/Data/Markets/FX/truefx/AUDNZD-zip/AUDNZD-2010-11.zip'),\n",
       " PosixPath('/media/hemu/Data/Markets/FX/truefx/AUDNZD-zip/AUDNZD-2010-12.zip'),\n",
       " PosixPath('/media/hemu/Data/Markets/FX/truefx/AUDNZD-zip/AUDNZD-2011-01.zip'),\n",
       " PosixPath('/media/hemu/Data/Markets/FX/truefx/AUDNZD-zip/AUDNZD-2011-02.zip'),\n",
       " PosixPath('/media/hemu/Data/Markets/FX/truefx/AUDNZD-zip/AUDNZD-2011-04.zip'),\n",
       " PosixPath('/media/hemu/Data/Markets/FX/truefx/AUDNZD-zip/AUDNZD-2011-05.zip'),\n",
       " PosixPath('/media/hemu/Data/Markets/FX/truefx/AUDNZD-zip/AUDNZD-2011-06.zip'),\n",
       " PosixPath('/media/hemu/Data/Markets/FX/truefx/AUDNZD-zip/AUDNZD-2011-07.zip'),\n",
       " PosixPath('/media/hemu/Data/Markets/FX/truefx/AUDNZD-zip/AUDNZD-2011-08.zip'),\n",
       " PosixPath('/media/hemu/Data/Markets/FX/truefx/AUDNZD-zip/AUDNZD-2011-09.zip'),\n",
       " PosixPath('/media/hemu/Data/Markets/FX/truefx/AUDNZD-zip/AUDNZD-2011-10.zip'),\n",
       " PosixPath('/media/hemu/Data/Markets/FX/truefx/AUDNZD-zip/AUDNZD-2011-11.zip'),\n",
       " PosixPath('/media/hemu/Data/Markets/FX/truefx/AUDNZD-zip/AUDNZD-2011-12.zip'),\n",
       " PosixPath('/media/hemu/Data/Markets/FX/truefx/AUDNZD-zip/AUDNZD-2012-01.zip'),\n",
       " PosixPath('/media/hemu/Data/Markets/FX/truefx/AUDNZD-zip/AUDNZD-2012-02.zip'),\n",
       " PosixPath('/media/hemu/Data/Markets/FX/truefx/AUDNZD-zip/AUDNZD-2012-03.zip'),\n",
       " PosixPath('/media/hemu/Data/Markets/FX/truefx/AUDNZD-zip/AUDNZD-2012-04.zip'),\n",
       " PosixPath('/media/hemu/Data/Markets/FX/truefx/AUDNZD-zip/AUDNZD-2012-05.zip'),\n",
       " PosixPath('/media/hemu/Data/Markets/FX/truefx/AUDNZD-zip/AUDNZD-2012-06.zip'),\n",
       " PosixPath('/media/hemu/Data/Markets/FX/truefx/AUDNZD-zip/AUDNZD-2012-07.zip'),\n",
       " PosixPath('/media/hemu/Data/Markets/FX/truefx/AUDNZD-zip/AUDNZD-2012-09.zip'),\n",
       " PosixPath('/media/hemu/Data/Markets/FX/truefx/AUDNZD-zip/AUDNZD-2012-10.zip'),\n",
       " PosixPath('/media/hemu/Data/Markets/FX/truefx/AUDNZD-zip/AUDNZD-2012-11.zip'),\n",
       " PosixPath('/media/hemu/Data/Markets/FX/truefx/AUDNZD-zip/AUDNZD-2012-12.zip'),\n",
       " PosixPath('/media/hemu/Data/Markets/FX/truefx/AUDNZD-zip/AUDNZD-2013-01.zip'),\n",
       " PosixPath('/media/hemu/Data/Markets/FX/truefx/AUDNZD-zip/AUDNZD-2013-02.zip'),\n",
       " PosixPath('/media/hemu/Data/Markets/FX/truefx/AUDNZD-zip/AUDNZD-2013-03.zip'),\n",
       " PosixPath('/media/hemu/Data/Markets/FX/truefx/AUDNZD-zip/AUDNZD-2013-04.zip'),\n",
       " PosixPath('/media/hemu/Data/Markets/FX/truefx/AUDNZD-zip/AUDNZD-2013-05.zip'),\n",
       " PosixPath('/media/hemu/Data/Markets/FX/truefx/AUDNZD-zip/AUDNZD-2013-06.zip'),\n",
       " PosixPath('/media/hemu/Data/Markets/FX/truefx/AUDNZD-zip/AUDNZD-2013-07.zip'),\n",
       " PosixPath('/media/hemu/Data/Markets/FX/truefx/AUDNZD-zip/AUDNZD-2013-08.zip'),\n",
       " PosixPath('/media/hemu/Data/Markets/FX/truefx/AUDNZD-zip/AUDNZD-2013-09.zip'),\n",
       " PosixPath('/media/hemu/Data/Markets/FX/truefx/AUDNZD-zip/AUDNZD-2013-10.zip'),\n",
       " PosixPath('/media/hemu/Data/Markets/FX/truefx/AUDNZD-zip/AUDNZD-2013-11.zip'),\n",
       " PosixPath('/media/hemu/Data/Markets/FX/truefx/AUDNZD-zip/AUDNZD-2013-12.zip'),\n",
       " PosixPath('/media/hemu/Data/Markets/FX/truefx/AUDNZD-zip/AUDNZD-2009-10.zip'),\n",
       " PosixPath('/media/hemu/Data/Markets/FX/truefx/AUDNZD-zip/AUDNZD-2011-03.zip'),\n",
       " PosixPath('/media/hemu/Data/Markets/FX/truefx/AUDNZD-zip/AUDNZD-2012-08.zip'),\n",
       " PosixPath('/media/hemu/Data/Markets/FX/truefx/AUDNZD-zip/AUDNZD-2014-01.zip'),\n",
       " PosixPath('/media/hemu/Data/Markets/FX/truefx/AUDNZD-zip/AUDNZD-2015-06.zip'),\n",
       " PosixPath('/media/hemu/Data/Markets/FX/truefx/AUDNZD-zip/AUDNZD-2016-11.zip'),\n",
       " PosixPath('/media/hemu/Data/Markets/FX/truefx/AUDNZD-zip/AUDNZD-2017-09.zip'),\n",
       " PosixPath('/media/hemu/Data/Markets/FX/truefx/AUDNZD-zip/AUDNZD-2018-06.zip'),\n",
       " PosixPath('/media/hemu/Data/Markets/FX/truefx/AUDNZD-zip/AUDNZD-2019-09.zip'),\n",
       " PosixPath('/media/hemu/Data/Markets/FX/truefx/AUDNZD-zip/AUDNZD-2014-02.zip'),\n",
       " PosixPath('/media/hemu/Data/Markets/FX/truefx/AUDNZD-zip/AUDNZD-2014-03.zip'),\n",
       " PosixPath('/media/hemu/Data/Markets/FX/truefx/AUDNZD-zip/AUDNZD-2014-04.zip'),\n",
       " PosixPath('/media/hemu/Data/Markets/FX/truefx/AUDNZD-zip/AUDNZD-2014-05.zip'),\n",
       " PosixPath('/media/hemu/Data/Markets/FX/truefx/AUDNZD-zip/AUDNZD-2014-06.zip'),\n",
       " PosixPath('/media/hemu/Data/Markets/FX/truefx/AUDNZD-zip/AUDNZD-2014-07.zip'),\n",
       " PosixPath('/media/hemu/Data/Markets/FX/truefx/AUDNZD-zip/AUDNZD-2014-08.zip'),\n",
       " PosixPath('/media/hemu/Data/Markets/FX/truefx/AUDNZD-zip/AUDNZD-2014-09.zip'),\n",
       " PosixPath('/media/hemu/Data/Markets/FX/truefx/AUDNZD-zip/AUDNZD-2014-10.zip'),\n",
       " PosixPath('/media/hemu/Data/Markets/FX/truefx/AUDNZD-zip/AUDNZD-2014-11.zip'),\n",
       " PosixPath('/media/hemu/Data/Markets/FX/truefx/AUDNZD-zip/AUDNZD-2014-12.zip'),\n",
       " PosixPath('/media/hemu/Data/Markets/FX/truefx/AUDNZD-zip/AUDNZD-2015-01.zip'),\n",
       " PosixPath('/media/hemu/Data/Markets/FX/truefx/AUDNZD-zip/AUDNZD-2015-02.zip'),\n",
       " PosixPath('/media/hemu/Data/Markets/FX/truefx/AUDNZD-zip/AUDNZD-2015-03.zip'),\n",
       " PosixPath('/media/hemu/Data/Markets/FX/truefx/AUDNZD-zip/AUDNZD-2015-04.zip'),\n",
       " PosixPath('/media/hemu/Data/Markets/FX/truefx/AUDNZD-zip/AUDNZD-2015-05.zip'),\n",
       " PosixPath('/media/hemu/Data/Markets/FX/truefx/AUDNZD-zip/AUDNZD-2015-07.zip'),\n",
       " PosixPath('/media/hemu/Data/Markets/FX/truefx/AUDNZD-zip/AUDNZD-2015-08.zip'),\n",
       " PosixPath('/media/hemu/Data/Markets/FX/truefx/AUDNZD-zip/AUDNZD-2015-09.zip'),\n",
       " PosixPath('/media/hemu/Data/Markets/FX/truefx/AUDNZD-zip/AUDNZD-2015-10.zip'),\n",
       " PosixPath('/media/hemu/Data/Markets/FX/truefx/AUDNZD-zip/AUDNZD-2015-11.zip'),\n",
       " PosixPath('/media/hemu/Data/Markets/FX/truefx/AUDNZD-zip/AUDNZD-2015-12.zip'),\n",
       " PosixPath('/media/hemu/Data/Markets/FX/truefx/AUDNZD-zip/AUDNZD-2016-01.zip'),\n",
       " PosixPath('/media/hemu/Data/Markets/FX/truefx/AUDNZD-zip/AUDNZD-2016-02.zip'),\n",
       " PosixPath('/media/hemu/Data/Markets/FX/truefx/AUDNZD-zip/AUDNZD-2016-03.zip'),\n",
       " PosixPath('/media/hemu/Data/Markets/FX/truefx/AUDNZD-zip/AUDNZD-2016-04.zip'),\n",
       " PosixPath('/media/hemu/Data/Markets/FX/truefx/AUDNZD-zip/AUDNZD-2016-05.zip'),\n",
       " PosixPath('/media/hemu/Data/Markets/FX/truefx/AUDNZD-zip/AUDNZD-2016-06.zip'),\n",
       " PosixPath('/media/hemu/Data/Markets/FX/truefx/AUDNZD-zip/AUDNZD-2016-07.zip'),\n",
       " PosixPath('/media/hemu/Data/Markets/FX/truefx/AUDNZD-zip/AUDNZD-2016-08.zip'),\n",
       " PosixPath('/media/hemu/Data/Markets/FX/truefx/AUDNZD-zip/AUDNZD-2016-09.zip'),\n",
       " PosixPath('/media/hemu/Data/Markets/FX/truefx/AUDNZD-zip/AUDNZD-2016-10.zip'),\n",
       " PosixPath('/media/hemu/Data/Markets/FX/truefx/AUDNZD-zip/AUDNZD-2009-05.zip'),\n",
       " PosixPath('/media/hemu/Data/Markets/FX/truefx/AUDNZD-zip/AUDNZD-2009-06.zip'),\n",
       " PosixPath('/media/hemu/Data/Markets/FX/truefx/AUDNZD-zip/AUDNZD-2009-07.zip'),\n",
       " PosixPath('/media/hemu/Data/Markets/FX/truefx/AUDNZD-zip/AUDNZD-2009-08.zip'),\n",
       " PosixPath('/media/hemu/Data/Markets/FX/truefx/AUDNZD-zip/AUDNZD-2009-09.zip'),\n",
       " PosixPath('/media/hemu/Data/Markets/FX/truefx/AUDNZD-zip/AUDNZD-2016-12.zip'),\n",
       " PosixPath('/media/hemu/Data/Markets/FX/truefx/AUDNZD-zip/AUDNZD-2017-01.zip'),\n",
       " PosixPath('/media/hemu/Data/Markets/FX/truefx/AUDNZD-zip/AUDNZD-2017-02.zip'),\n",
       " PosixPath('/media/hemu/Data/Markets/FX/truefx/AUDNZD-zip/AUDNZD-2017-03.zip'),\n",
       " PosixPath('/media/hemu/Data/Markets/FX/truefx/AUDNZD-zip/AUDNZD-2017-04.zip'),\n",
       " PosixPath('/media/hemu/Data/Markets/FX/truefx/AUDNZD-zip/AUDNZD-2017-05.zip'),\n",
       " PosixPath('/media/hemu/Data/Markets/FX/truefx/AUDNZD-zip/AUDNZD-2017-06.zip'),\n",
       " PosixPath('/media/hemu/Data/Markets/FX/truefx/AUDNZD-zip/AUDNZD-2017-07.zip'),\n",
       " PosixPath('/media/hemu/Data/Markets/FX/truefx/AUDNZD-zip/AUDNZD-2017-08.zip'),\n",
       " PosixPath('/media/hemu/Data/Markets/FX/truefx/AUDNZD-zip/AUDNZD-2017-10.zip'),\n",
       " PosixPath('/media/hemu/Data/Markets/FX/truefx/AUDNZD-zip/AUDNZD-2017-11.zip'),\n",
       " PosixPath('/media/hemu/Data/Markets/FX/truefx/AUDNZD-zip/AUDNZD-2017-12.zip'),\n",
       " PosixPath('/media/hemu/Data/Markets/FX/truefx/AUDNZD-zip/AUDNZD-2018-01.zip'),\n",
       " PosixPath('/media/hemu/Data/Markets/FX/truefx/AUDNZD-zip/AUDNZD-2018-02.zip'),\n",
       " PosixPath('/media/hemu/Data/Markets/FX/truefx/AUDNZD-zip/AUDNZD-2018-03.zip'),\n",
       " PosixPath('/media/hemu/Data/Markets/FX/truefx/AUDNZD-zip/AUDNZD-2018-04.zip'),\n",
       " PosixPath('/media/hemu/Data/Markets/FX/truefx/AUDNZD-zip/AUDNZD-2018-05.zip'),\n",
       " PosixPath('/media/hemu/Data/Markets/FX/truefx/AUDNZD-zip/AUDNZD-2018-07.zip'),\n",
       " PosixPath('/media/hemu/Data/Markets/FX/truefx/AUDNZD-zip/AUDNZD-2018-08.zip'),\n",
       " PosixPath('/media/hemu/Data/Markets/FX/truefx/AUDNZD-zip/AUDNZD-2018-09.zip'),\n",
       " PosixPath('/media/hemu/Data/Markets/FX/truefx/AUDNZD-zip/AUDNZD-2018-10.zip'),\n",
       " PosixPath('/media/hemu/Data/Markets/FX/truefx/AUDNZD-zip/AUDNZD-2018-11.zip'),\n",
       " PosixPath('/media/hemu/Data/Markets/FX/truefx/AUDNZD-zip/AUDNZD-2018-12.zip'),\n",
       " PosixPath('/media/hemu/Data/Markets/FX/truefx/AUDNZD-zip/AUDNZD-2019-01.zip'),\n",
       " PosixPath('/media/hemu/Data/Markets/FX/truefx/AUDNZD-zip/AUDNZD-2019-02.zip'),\n",
       " PosixPath('/media/hemu/Data/Markets/FX/truefx/AUDNZD-zip/AUDNZD-2019-03.zip'),\n",
       " PosixPath('/media/hemu/Data/Markets/FX/truefx/AUDNZD-zip/AUDNZD-2019-04.zip'),\n",
       " PosixPath('/media/hemu/Data/Markets/FX/truefx/AUDNZD-zip/AUDNZD-2019-05.zip'),\n",
       " PosixPath('/media/hemu/Data/Markets/FX/truefx/AUDNZD-zip/AUDNZD-2019-06.zip'),\n",
       " PosixPath('/media/hemu/Data/Markets/FX/truefx/AUDNZD-zip/AUDNZD-2019-07.zip'),\n",
       " PosixPath('/media/hemu/Data/Markets/FX/truefx/AUDNZD-zip/AUDNZD-2019-08.zip')]"
      ]
     },
     "execution_count": 16,
     "metadata": {},
     "output_type": "execute_result"
    }
   ],
   "source": [
    "files"
   ]
  },
  {
   "cell_type": "code",
   "execution_count": 32,
   "metadata": {},
   "outputs": [
    {
     "data": {
      "text/plain": [
       "((array([], dtype=int64),), 597158)"
      ]
     },
     "execution_count": 32,
     "metadata": {},
     "output_type": "execute_result"
    }
   ],
   "source": [
    "time_int = df.drop(df.index[536972]).index.values.astype(np.uint64)\n",
    "np.where(np.diff(time_int) <= 0), len(time_int)"
   ]
  },
  {
   "cell_type": "code",
   "execution_count": 49,
   "metadata": {},
   "outputs": [
    {
     "data": {
      "text/plain": [
       "(array([5734, 5735]),)"
      ]
     },
     "execution_count": 49,
     "metadata": {},
     "output_type": "execute_result"
    }
   ],
   "source": [
    "np.where(df.sort_index()['midprice'].eq(df['midprice']).values != True)"
   ]
  },
  {
   "cell_type": "code",
   "execution_count": 53,
   "metadata": {},
   "outputs": [
    {
     "data": {
      "text/plain": [
       "Timestamp('2019-09-30 23:55:00')"
      ]
     },
     "execution_count": 53,
     "metadata": {},
     "output_type": "execute_result"
    }
   ],
   "source": [
    "df.index.max()"
   ]
  },
  {
   "cell_type": "code",
   "execution_count": null,
   "metadata": {},
   "outputs": [],
   "source": []
  },
  {
   "cell_type": "code",
   "execution_count": null,
   "metadata": {},
   "outputs": [],
   "source": []
  }
 ],
 "metadata": {
  "kernelspec": {
   "display_name": "Python 3.7.7 64-bit ('madigan')",
   "language": "python",
   "name": "python37764bitmadiganc2cb1639caeb405b9f43012997461129"
  },
  "language_info": {
   "codemirror_mode": {
    "name": "ipython",
    "version": 3
   },
   "file_extension": ".py",
   "mimetype": "text/x-python",
   "name": "python",
   "nbconvert_exporter": "python",
   "pygments_lexer": "ipython3",
   "version": "3.7.7"
  }
 },
 "nbformat": 4,
 "nbformat_minor": 4
}
