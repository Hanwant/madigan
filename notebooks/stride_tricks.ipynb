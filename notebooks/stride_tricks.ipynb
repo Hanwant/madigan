{
 "cells": [
  {
   "cell_type": "code",
   "execution_count": 1,
   "metadata": {},
   "outputs": [],
   "source": [
    "import numpy as np\n",
    "import torch"
   ]
  },
  {
   "cell_type": "code",
   "execution_count": 2,
   "metadata": {},
   "outputs": [],
   "source": [
    "arr = np.arange(100)\n",
    "assert arr.base is None"
   ]
  },
  {
   "cell_type": "code",
   "execution_count": 9,
   "metadata": {},
   "outputs": [
    {
     "name": "stdout",
     "output_type": "stream",
     "text": [
      "[0 1 2 3] <class 'numpy.ndarray'>\n",
      "140106921126688 140106921126688\n"
     ]
    }
   ],
   "source": [
    "arr_view = arr[:50]\n",
    "assert arr_view.base is not None\n",
    "\n",
    "print(arr_view.base[:4], type(arr_view.base))\n",
    "print(id(arr), id(arr_view.base))"
   ]
  },
  {
   "cell_type": "code",
   "execution_count": 40,
   "metadata": {},
   "outputs": [],
   "source": [
    "def info_for_two(one_array, another_array):\n",
    "    \"\"\"Prints side-by-side results of running np.info on its inputs.\"\"\"\n",
    "    def info_as_ordered_dict(array):\n",
    "        \"\"\"Converts return of np.infor into an ordered dict.\"\"\"\n",
    "        import collections\n",
    "        import io\n",
    "        buffer = io.StringIO()\n",
    "        np.info(array, output=buffer)\n",
    "        data = (\n",
    "            item.split(':') for item in buffer.getvalue().strip().split('\\n'))\n",
    "        return collections.OrderedDict(\n",
    "            ((key, value.strip()) for key, value in data))\n",
    "    one_dict = info_as_ordered_dict(one_array)\n",
    "    another_dict = info_as_ordered_dict(another_array)\n",
    "    name_w = max(len(name) for name in one_dict.keys())\n",
    "    one_w = max(len(name) for name in one_dict.values())\n",
    "    another_w = max(len(name) for name in another_dict.values())\n",
    "    output =  (\n",
    "        f'{name:<{name_w}} : {one:>{one_w}} : {another:>{another_w}}'\n",
    "        for name, one, another in zip(\n",
    "            one_dict.keys(), one_dict.values(), another_dict.values()))\n",
    "    print('*'*46)\n",
    "    print('\\n'.join(output))"
   ]
  },
  {
   "cell_type": "code",
   "execution_count": 41,
   "metadata": {},
   "outputs": [
    {
     "name": "stdout",
     "output_type": "stream",
     "text": [
      "**********************************************\n",
      "class        :        ndarray :        ndarray\n",
      "shape        :         (100,) :          (50,)\n",
      "strides      :           (8,) :           (8,)\n",
      "itemsize     :              8 :              8\n",
      "aligned      :           True :           True\n",
      "contiguous   :           True :           True\n",
      "fortran      :           True :           True\n",
      "data pointer : 0x55bac0b32eb0 : 0x55bac0b32eb0\n",
      "byteorder    :         little :         little\n",
      "byteswap     :          False :          False\n",
      "type         :          int64 :          int64\n",
      "**********************************************\n",
      "class        :        ndarray :        ndarray\n",
      "shape        :         (100,) :           (2,)\n",
      "strides      :           (8,) :         (-16,)\n",
      "itemsize     :              8 :              8\n",
      "aligned      :           True :           True\n",
      "contiguous   :           True :          False\n",
      "fortran      :           True :          False\n",
      "data pointer : 0x55bac0b32eb0 : 0x55bac0b32ec0\n",
      "byteorder    :         little :         little\n",
      "byteswap     :          False :          False\n",
      "type         :          int64 :          int64\n"
     ]
    }
   ],
   "source": [
    "info_for_two(arr, arr_view)\n",
    "info_for_two(arr, arr[2::-2])"
   ]
  },
  {
   "cell_type": "code",
   "execution_count": 91,
   "metadata": {},
   "outputs": [
    {
     "data": {
      "text/plain": [
       "array([[ 1,  2,  3, ..., 20, 21, 22],\n",
       "       [ 2,  3,  4, ..., 21, 22, 23],\n",
       "       [ 3,  4,  5, ..., 22, 23, 24],\n",
       "       ...,\n",
       "       [61, 62, 63, ..., 80, 81, 82],\n",
       "       [62, 63, 64, ..., 81, 82, 83],\n",
       "       [63, 64, 65, ..., 82, 83, 84]])"
      ]
     },
     "execution_count": 91,
     "metadata": {},
     "output_type": "execute_result"
    }
   ],
   "source": [
    "window = 30\n",
    "offset = 8\n",
    "np.ndarray(shape = (len(arr)- window+1-offset, window-offset), dtype=arr.dtype, buffer=arr,\n",
    "           offset=offset,\n",
    "           strides = arr.strides*2)"
   ]
  },
  {
   "cell_type": "code",
   "execution_count": 58,
   "metadata": {},
   "outputs": [],
   "source": [
    "from numpy.lib.stride_tricks import as_strided"
   ]
  },
  {
   "cell_type": "code",
   "execution_count": 77,
   "metadata": {},
   "outputs": [
    {
     "data": {
      "text/plain": [
       "array([  0,   2,   4,  64,   0, 885])"
      ]
     },
     "execution_count": 77,
     "metadata": {},
     "output_type": "execute_result"
    }
   ],
   "source": [
    "a = np.arange(6)\n",
    "as_strided(a, shape=a.shape, strides=(16, ))"
   ]
  },
  {
   "cell_type": "markdown",
   "metadata": {},
   "source": [
    "# Variable Slices"
   ]
  },
  {
   "cell_type": "code",
   "execution_count": 152,
   "metadata": {},
   "outputs": [],
   "source": [
    "import matplotlib.pyplot as plt"
   ]
  },
  {
   "cell_type": "code",
   "execution_count": 543,
   "metadata": {},
   "outputs": [],
   "source": [
    "bs = 32\n",
    "window_len = 64\n",
    "nfeats = 5\n",
    "slice_len = 45"
   ]
  },
  {
   "cell_type": "markdown",
   "metadata": {},
   "source": [
    "## Numpy"
   ]
  },
  {
   "cell_type": "code",
   "execution_count": 544,
   "metadata": {},
   "outputs": [],
   "source": [
    "data = np.random.randn(bs, window_len, nfeats)"
   ]
  },
  {
   "cell_type": "code",
   "execution_count": 568,
   "metadata": {},
   "outputs": [],
   "source": [
    "rand_idx = np.random.randint(0, window_len-slice_len, bs)\n",
    "idx_arr  = np.r_[[np.r_[idx: idx+slice_len] for idx in rand_idx]]"
   ]
  },
  {
   "cell_type": "code",
   "execution_count": 569,
   "metadata": {},
   "outputs": [
    {
     "name": "stdout",
     "output_type": "stream",
     "text": [
      "(1440, 5)\n",
      "(32, 45, 5)\n"
     ]
    }
   ],
   "source": [
    "idx_flat = (idx_arr + window_len*np.arange(bs)[:, None]).flatten()\n",
    "sliced = data.reshape(-1, nfeats)[idx_flat].reshape(bs, slice_len, nfeats)\n",
    "\n",
    "print(data.reshape(-1, nfeats)[idx_flat].shape)\n",
    "print(sliced.shape)"
   ]
  },
  {
   "cell_type": "code",
   "execution_count": 570,
   "metadata": {},
   "outputs": [],
   "source": [
    "assert np.all(data ==  data.reshape(-1, nfeats).reshape(bs, window_len, nfeats))\n",
    "batch = 0 "
   ]
  },
  {
   "cell_type": "code",
   "execution_count": 576,
   "metadata": {},
   "outputs": [
    {
     "data": {
      "image/png": "[encoded data removed]",
      "text/plain": [
       "<Figure size 432x288 with 1 Axes>"
      ]
     },
     "metadata": {
      "needs_background": "light"
     },
     "output_type": "display_data"
    }
   ],
   "source": [
    "feat = nfeats-1\n",
    "plt.plot(data[batch, : , feat], label='orig')\n",
    "start_idx = idx_arr[batch][0]\n",
    "padded = np.concatenate([[np.nan]*start_idx, \n",
    "                         sliced[batch, :, feat], \n",
    "                         [np.nan] * (slice_len-start_idx)])\n",
    "plt.plot(padded, label='sliced')\n",
    "plt.legend()\n",
    "\n",
    "batch += 1"
   ]
  },
  {
   "cell_type": "markdown",
   "metadata": {},
   "source": [
    "## PyTorch"
   ]
  },
  {
   "cell_type": "code",
   "execution_count": 617,
   "metadata": {},
   "outputs": [],
   "source": [
    "dat = torch.randn(bs, window_len, nfeats)"
   ]
  },
  {
   "cell_type": "code",
   "execution_count": 662,
   "metadata": {},
   "outputs": [
    {
     "data": {
      "text/plain": [
       "torch.Size([1440])"
      ]
     },
     "execution_count": 662,
     "metadata": {},
     "output_type": "execute_result"
    }
   ],
   "source": [
    "rand_idx = np.random.randint(0, window_len-slice_len, bs)\n",
    "idx_arr  = np.r_[[np.r_[idx: idx+slice_len] for idx in rand_idx]]\n",
    "idx_flat = (idx_arr + window_len*np.arange(bs)[:, None]).flatten()\n",
    "idx_flat = torch.LongTensor(idx_flat)\n",
    "idx_flat.shape"
   ]
  },
  {
   "cell_type": "code",
   "execution_count": 663,
   "metadata": {},
   "outputs": [],
   "source": [
    "assert torch.equal(dat , dat.reshape(-1, nfeats).reshape(bs, window_len, nfeats))"
   ]
  },
  {
   "cell_type": "code",
   "execution_count": 664,
   "metadata": {},
   "outputs": [
    {
     "name": "stdout",
     "output_type": "stream",
     "text": [
      "torch.Size([32, 45, 5])\n"
     ]
    }
   ],
   "source": [
    "sliced = torch.index_select(dat.view(-1, nfeats), 0, idx_flat).view(bs, slice_len, nfeats)\n",
    "print(sliced.shape)"
   ]
  },
  {
   "cell_type": "code",
   "execution_count": 665,
   "metadata": {},
   "outputs": [],
   "source": [
    "batch = 0"
   ]
  },
  {
   "cell_type": "code",
   "execution_count": 666,
   "metadata": {},
   "outputs": [
    {
     "data": {
      "image/png": "[encoded data removed]",
      "text/plain": [
       "<Figure size 432x288 with 1 Axes>"
      ]
     },
     "metadata": {
      "needs_background": "light"
     },
     "output_type": "display_data"
    }
   ],
   "source": [
    "data = dat.numpy()\n",
    "plt.plot(data[batch, : , 0], label='orig')\n",
    "start_idx = idx_arr[batch][0]\n",
    "padded = np.concatenate([[np.nan]*start_idx, \n",
    "                         sliced[batch, :, 0], \n",
    "                         [np.nan] * (slice_len-start_idx)])\n",
    "plt.plot(padded, label='sliced')\n",
    "plt.legend()\n",
    "batch += 1"
   ]
  },
  {
   "cell_type": "code",
   "execution_count": null,
   "metadata": {},
   "outputs": [],
   "source": []
  },
  {
   "cell_type": "code",
   "execution_count": null,
   "metadata": {},
   "outputs": [],
   "source": []
  }
 ],
 "metadata": {
  "kernelspec": {
   "display_name": "Python 3.7.7 64-bit ('madigan')",
   "language": "python",
   "name": "python37764bitmadiganc2cb1639caeb405b9f43012997461129"
  },
  "language_info": {
   "codemirror_mode": {
    "name": "ipython",
    "version": 3
   },
   "file_extension": ".py",
   "mimetype": "text/x-python",
   "name": "python",
   "nbconvert_exporter": "python",
   "pygments_lexer": "ipython3",
   "version": "3.7.7"
  }
 },
 "nbformat": 4,
 "nbformat_minor": 4
}
